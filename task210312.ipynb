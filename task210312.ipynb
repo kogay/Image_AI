{
 "cells": [
  {
   "cell_type": "code",
   "execution_count": 1,
   "metadata": {},
   "outputs": [],
   "source": [
    "from sklearn import datasets\n",
    "import numpy as np\n",
    "import pandas as pd"
   ]
  },
  {
   "cell_type": "code",
   "execution_count": 17,
   "metadata": {},
   "outputs": [],
   "source": [
    "from sklearn.model_selection import train_test_split\n",
    "from sklearn.metrics import accuracy_score\n",
    "from keras.utils import np_utils"
   ]
  },
  {
   "cell_type": "code",
   "execution_count": 2,
   "metadata": {},
   "outputs": [],
   "source": [
    "iris = datasets.load_iris()"
   ]
  },
  {
   "cell_type": "code",
   "execution_count": 6,
   "metadata": {},
   "outputs": [
    {
     "name": "stdout",
     "output_type": "stream",
     "text": [
      ".. _iris_dataset:\n",
      "\n",
      "Iris plants dataset\n",
      "--------------------\n",
      "\n",
      "**Data Set Characteristics:**\n",
      "\n",
      "    :Number of Instances: 150 (50 in each of three classes)\n",
      "    :Number of Attributes: 4 numeric, predictive attributes and the class\n",
      "    :Attribute Information:\n",
      "        - sepal length in cm\n",
      "        - sepal width in cm\n",
      "        - petal length in cm\n",
      "        - petal width in cm\n",
      "        - class:\n",
      "                - Iris-Setosa\n",
      "                - Iris-Versicolour\n",
      "                - Iris-Virginica\n",
      "                \n",
      "    :Summary Statistics:\n",
      "\n",
      "    ============== ==== ==== ======= ===== ====================\n",
      "                    Min  Max   Mean    SD   Class Correlation\n",
      "    ============== ==== ==== ======= ===== ====================\n",
      "    sepal length:   4.3  7.9   5.84   0.83    0.7826\n",
      "    sepal width:    2.0  4.4   3.05   0.43   -0.4194\n",
      "    petal length:   1.0  6.9   3.76   1.76    0.9490  (high!)\n",
      "    petal width:    0.1  2.5   1.20   0.76    0.9565  (high!)\n",
      "    ============== ==== ==== ======= ===== ====================\n",
      "\n",
      "    :Missing Attribute Values: None\n",
      "    :Class Distribution: 33.3% for each of 3 classes.\n",
      "    :Creator: R.A. Fisher\n",
      "    :Donor: Michael Marshall (MARSHALL%PLU@io.arc.nasa.gov)\n",
      "    :Date: July, 1988\n",
      "\n",
      "The famous Iris database, first used by Sir R.A. Fisher. The dataset is taken\n",
      "from Fisher's paper. Note that it's the same as in R, but not as in the UCI\n",
      "Machine Learning Repository, which has two wrong data points.\n",
      "\n",
      "This is perhaps the best known database to be found in the\n",
      "pattern recognition literature.  Fisher's paper is a classic in the field and\n",
      "is referenced frequently to this day.  (See Duda & Hart, for example.)  The\n",
      "data set contains 3 classes of 50 instances each, where each class refers to a\n",
      "type of iris plant.  One class is linearly separable from the other 2; the\n",
      "latter are NOT linearly separable from each other.\n",
      "\n",
      ".. topic:: References\n",
      "\n",
      "   - Fisher, R.A. \"The use of multiple measurements in taxonomic problems\"\n",
      "     Annual Eugenics, 7, Part II, 179-188 (1936); also in \"Contributions to\n",
      "     Mathematical Statistics\" (John Wiley, NY, 1950).\n",
      "   - Duda, R.O., & Hart, P.E. (1973) Pattern Classification and Scene Analysis.\n",
      "     (Q327.D83) John Wiley & Sons.  ISBN 0-471-22361-1.  See page 218.\n",
      "   - Dasarathy, B.V. (1980) \"Nosing Around the Neighborhood: A New System\n",
      "     Structure and Classification Rule for Recognition in Partially Exposed\n",
      "     Environments\".  IEEE Transactions on Pattern Analysis and Machine\n",
      "     Intelligence, Vol. PAMI-2, No. 1, 67-71.\n",
      "   - Gates, G.W. (1972) \"The Reduced Nearest Neighbor Rule\".  IEEE Transactions\n",
      "     on Information Theory, May 1972, 431-433.\n",
      "   - See also: 1988 MLC Proceedings, 54-64.  Cheeseman et al\"s AUTOCLASS II\n",
      "     conceptual clustering system finds 3 classes in the data.\n",
      "   - Many, many more ...\n"
     ]
    }
   ],
   "source": [
    "print(iris.DESCR)"
   ]
  },
  {
   "cell_type": "code",
   "execution_count": 14,
   "metadata": {},
   "outputs": [],
   "source": [
    "data = iris.data\n",
    "target = iris.target"
   ]
  },
  {
   "cell_type": "code",
   "execution_count": 16,
   "metadata": {},
   "outputs": [],
   "source": [
    "np.random.seed(0)"
   ]
  },
  {
   "cell_type": "code",
   "execution_count": 18,
   "metadata": {},
   "outputs": [],
   "source": [
    "X = data\n",
    "T = np_utils.to_categorical(target)"
   ]
  },
  {
   "cell_type": "code",
   "execution_count": 20,
   "metadata": {},
   "outputs": [
    {
     "data": {
      "text/plain": [
       "array([[1., 0., 0.],\n",
       "       [1., 0., 0.],\n",
       "       [1., 0., 0.]], dtype=float32)"
      ]
     },
     "execution_count": 20,
     "metadata": {},
     "output_type": "execute_result"
    }
   ],
   "source": [
    "T[:3]"
   ]
  },
  {
   "cell_type": "code",
   "execution_count": 21,
   "metadata": {},
   "outputs": [],
   "source": [
    "train_x, test_x, train_t, test_t = train_test_split(X, T, test_size=0.2, stratify=T)"
   ]
  },
  {
   "cell_type": "code",
   "execution_count": 22,
   "metadata": {},
   "outputs": [],
   "source": [
    "from keras.models import Sequential\n",
    "from keras.layers import Dense, Activation\n",
    "from keras.optimizers import SGD"
   ]
  },
  {
   "cell_type": "code",
   "execution_count": 24,
   "metadata": {},
   "outputs": [
    {
     "name": "stdout",
     "output_type": "stream",
     "text": [
      "Model: \"sequential_1\"\n",
      "_________________________________________________________________\n",
      "Layer (type)                 Output Shape              Param #   \n",
      "=================================================================\n",
      "dense (Dense)                (None, 5)                 25        \n",
      "_________________________________________________________________\n",
      "dense_1 (Dense)              (None, 3)                 18        \n",
      "=================================================================\n",
      "Total params: 43\n",
      "Trainable params: 43\n",
      "Non-trainable params: 0\n",
      "_________________________________________________________________\n"
     ]
    }
   ],
   "source": [
    "model = Sequential()\n",
    "model.add(Dense(input_dim=4, units=5, activation='relu'))\n",
    "model.add(Dense(units=3, activation='softmax'))\n",
    "model.summary()"
   ]
  },
  {
   "cell_type": "code",
   "execution_count": 25,
   "metadata": {},
   "outputs": [],
   "source": [
    "model.compile(loss='categorical_crossentropy', optimizer=SGD(lr=0.1))"
   ]
  },
  {
   "cell_type": "code",
   "execution_count": 26,
   "metadata": {},
   "outputs": [
    {
     "name": "stdout",
     "output_type": "stream",
     "text": [
      "Epoch 1/100\n",
      "24/24 [==============================] - 0s 611us/step - loss: 1.0938\n",
      "Epoch 2/100\n",
      "24/24 [==============================] - 0s 1ms/step - loss: 0.7261\n",
      "Epoch 3/100\n",
      "24/24 [==============================] - 0s 659us/step - loss: 0.6390\n",
      "Epoch 4/100\n",
      "24/24 [==============================] - 0s 778us/step - loss: 0.5845\n",
      "Epoch 5/100\n",
      "24/24 [==============================] - 0s 800us/step - loss: 0.5369\n",
      "Epoch 6/100\n",
      "24/24 [==============================] - 0s 648us/step - loss: 0.5225\n",
      "Epoch 7/100\n",
      "24/24 [==============================] - 0s 645us/step - loss: 0.4785\n",
      "Epoch 8/100\n",
      "24/24 [==============================] - 0s 644us/step - loss: 0.4592\n",
      "Epoch 9/100\n",
      "24/24 [==============================] - 0s 653us/step - loss: 0.4366\n",
      "Epoch 10/100\n",
      "24/24 [==============================] - 0s 686us/step - loss: 0.4364\n",
      "Epoch 11/100\n",
      "24/24 [==============================] - 0s 579us/step - loss: 0.4497\n",
      "Epoch 12/100\n",
      "24/24 [==============================] - 0s 637us/step - loss: 0.4009\n",
      "Epoch 13/100\n",
      "24/24 [==============================] - 0s 710us/step - loss: 0.3958\n",
      "Epoch 14/100\n",
      "24/24 [==============================] - 0s 706us/step - loss: 0.3617\n",
      "Epoch 15/100\n",
      "24/24 [==============================] - 0s 652us/step - loss: 0.3889\n",
      "Epoch 16/100\n",
      "24/24 [==============================] - 0s 652us/step - loss: 0.3406\n",
      "Epoch 17/100\n",
      "24/24 [==============================] - 0s 671us/step - loss: 0.4236\n",
      "Epoch 18/100\n",
      "24/24 [==============================] - 0s 684us/step - loss: 0.3484\n",
      "Epoch 19/100\n",
      "24/24 [==============================] - 0s 599us/step - loss: 0.3460\n",
      "Epoch 20/100\n",
      "24/24 [==============================] - 0s 629us/step - loss: 0.3548\n",
      "Epoch 21/100\n",
      "24/24 [==============================] - 0s 681us/step - loss: 0.3789\n",
      "Epoch 22/100\n",
      "24/24 [==============================] - 0s 588us/step - loss: 0.3676\n",
      "Epoch 23/100\n",
      "24/24 [==============================] - 0s 575us/step - loss: 0.3504\n",
      "Epoch 24/100\n",
      "24/24 [==============================] - 0s 597us/step - loss: 0.4891\n",
      "Epoch 25/100\n",
      "24/24 [==============================] - 0s 669us/step - loss: 0.3823\n",
      "Epoch 26/100\n",
      "24/24 [==============================] - 0s 609us/step - loss: 0.4834\n",
      "Epoch 27/100\n",
      "24/24 [==============================] - 0s 576us/step - loss: 0.2904\n",
      "Epoch 28/100\n",
      "24/24 [==============================] - 0s 587us/step - loss: 0.4317\n",
      "Epoch 29/100\n",
      "24/24 [==============================] - 0s 582us/step - loss: 0.3532\n",
      "Epoch 30/100\n",
      "24/24 [==============================] - 0s 629us/step - loss: 0.3109\n",
      "Epoch 31/100\n",
      "24/24 [==============================] - 0s 612us/step - loss: 0.3569\n",
      "Epoch 32/100\n",
      "24/24 [==============================] - 0s 619us/step - loss: 0.3143\n",
      "Epoch 33/100\n",
      "24/24 [==============================] - 0s 585us/step - loss: 0.2745\n",
      "Epoch 34/100\n",
      "24/24 [==============================] - 0s 580us/step - loss: 0.4271\n",
      "Epoch 35/100\n",
      "24/24 [==============================] - 0s 591us/step - loss: 0.3368\n",
      "Epoch 36/100\n",
      "24/24 [==============================] - 0s 593us/step - loss: 0.3327\n",
      "Epoch 37/100\n",
      "24/24 [==============================] - 0s 629us/step - loss: 0.5009\n",
      "Epoch 38/100\n",
      "24/24 [==============================] - 0s 588us/step - loss: 0.3509\n",
      "Epoch 39/100\n",
      "24/24 [==============================] - 0s 662us/step - loss: 0.4428\n",
      "Epoch 40/100\n",
      "24/24 [==============================] - 0s 587us/step - loss: 0.3058\n",
      "Epoch 41/100\n",
      "24/24 [==============================] - 0s 603us/step - loss: 0.2287\n",
      "Epoch 42/100\n",
      "24/24 [==============================] - 0s 570us/step - loss: 0.2453\n",
      "Epoch 43/100\n",
      "24/24 [==============================] - 0s 596us/step - loss: 0.2878\n",
      "Epoch 44/100\n",
      "24/24 [==============================] - 0s 706us/step - loss: 0.3115\n",
      "Epoch 45/100\n",
      "24/24 [==============================] - 0s 629us/step - loss: 0.2186\n",
      "Epoch 46/100\n",
      "24/24 [==============================] - 0s 609us/step - loss: 0.3425\n",
      "Epoch 47/100\n",
      "24/24 [==============================] - 0s 616us/step - loss: 0.3635\n",
      "Epoch 48/100\n",
      "24/24 [==============================] - 0s 627us/step - loss: 0.3211\n",
      "Epoch 49/100\n",
      "24/24 [==============================] - 0s 631us/step - loss: 0.3384\n",
      "Epoch 50/100\n",
      "24/24 [==============================] - 0s 615us/step - loss: 0.2194\n",
      "Epoch 51/100\n",
      "24/24 [==============================] - 0s 635us/step - loss: 0.2396\n",
      "Epoch 52/100\n",
      "24/24 [==============================] - 0s 621us/step - loss: 0.2903\n",
      "Epoch 53/100\n",
      "24/24 [==============================] - 0s 597us/step - loss: 0.1847\n",
      "Epoch 54/100\n",
      "24/24 [==============================] - 0s 704us/step - loss: 0.2760\n",
      "Epoch 55/100\n",
      "24/24 [==============================] - 0s 586us/step - loss: 0.2640\n",
      "Epoch 56/100\n",
      "24/24 [==============================] - 0s 622us/step - loss: 0.2133\n",
      "Epoch 57/100\n",
      "24/24 [==============================] - 0s 575us/step - loss: 0.1618\n",
      "Epoch 58/100\n",
      "24/24 [==============================] - 0s 593us/step - loss: 0.1717\n",
      "Epoch 59/100\n",
      "24/24 [==============================] - 0s 582us/step - loss: 0.1963\n",
      "Epoch 60/100\n",
      "24/24 [==============================] - 0s 611us/step - loss: 0.3173\n",
      "Epoch 61/100\n",
      "24/24 [==============================] - 0s 602us/step - loss: 0.2533\n",
      "Epoch 62/100\n",
      "24/24 [==============================] - 0s 574us/step - loss: 0.2056\n",
      "Epoch 63/100\n",
      "24/24 [==============================] - 0s 566us/step - loss: 0.2316\n",
      "Epoch 64/100\n",
      "24/24 [==============================] - 0s 613us/step - loss: 0.3227\n",
      "Epoch 65/100\n",
      "24/24 [==============================] - 0s 586us/step - loss: 0.1786\n",
      "Epoch 66/100\n",
      "24/24 [==============================] - 0s 583us/step - loss: 0.2798\n",
      "Epoch 67/100\n",
      "24/24 [==============================] - 0s 561us/step - loss: 0.2939\n",
      "Epoch 68/100\n",
      "24/24 [==============================] - 0s 593us/step - loss: 0.2326\n",
      "Epoch 69/100\n",
      "24/24 [==============================] - 0s 600us/step - loss: 0.2057\n",
      "Epoch 70/100\n",
      "24/24 [==============================] - 0s 573us/step - loss: 0.2870\n",
      "Epoch 71/100\n",
      "24/24 [==============================] - 0s 612us/step - loss: 0.3179\n",
      "Epoch 72/100\n",
      "24/24 [==============================] - 0s 592us/step - loss: 0.3781\n",
      "Epoch 73/100\n",
      "24/24 [==============================] - 0s 583us/step - loss: 0.2839\n",
      "Epoch 74/100\n",
      "24/24 [==============================] - 0s 596us/step - loss: 0.2110\n",
      "Epoch 75/100\n",
      "24/24 [==============================] - 0s 603us/step - loss: 0.2442\n",
      "Epoch 76/100\n",
      "24/24 [==============================] - 0s 618us/step - loss: 0.1803\n",
      "Epoch 77/100\n",
      "24/24 [==============================] - 0s 623us/step - loss: 0.2240\n",
      "Epoch 78/100\n",
      "24/24 [==============================] - 0s 612us/step - loss: 0.4569\n",
      "Epoch 79/100\n",
      "24/24 [==============================] - 0s 613us/step - loss: 0.1906\n",
      "Epoch 80/100\n",
      "24/24 [==============================] - 0s 609us/step - loss: 0.1872\n",
      "Epoch 81/100\n",
      "24/24 [==============================] - 0s 610us/step - loss: 0.2329\n",
      "Epoch 82/100\n",
      "24/24 [==============================] - 0s 600us/step - loss: 0.5209\n",
      "Epoch 83/100\n",
      "24/24 [==============================] - 0s 619us/step - loss: 0.2500\n",
      "Epoch 84/100\n",
      "24/24 [==============================] - 0s 632us/step - loss: 0.1640\n",
      "Epoch 85/100\n",
      "24/24 [==============================] - 0s 597us/step - loss: 0.3039\n",
      "Epoch 86/100\n",
      "24/24 [==============================] - 0s 617us/step - loss: 0.1606\n",
      "Epoch 87/100\n",
      "24/24 [==============================] - 0s 614us/step - loss: 0.1630\n",
      "Epoch 88/100\n",
      "24/24 [==============================] - 0s 599us/step - loss: 0.3937\n",
      "Epoch 89/100\n",
      "24/24 [==============================] - 0s 605us/step - loss: 0.2382\n",
      "Epoch 90/100\n",
      "24/24 [==============================] - 0s 589us/step - loss: 0.5769\n",
      "Epoch 91/100\n",
      "24/24 [==============================] - 0s 590us/step - loss: 0.1262\n",
      "Epoch 92/100\n",
      "24/24 [==============================] - 0s 580us/step - loss: 0.2637\n",
      "Epoch 93/100\n",
      "24/24 [==============================] - 0s 583us/step - loss: 0.1675\n",
      "Epoch 94/100\n",
      "24/24 [==============================] - 0s 599us/step - loss: 0.2752\n",
      "Epoch 95/100\n",
      "24/24 [==============================] - 0s 555us/step - loss: 0.1560\n",
      "Epoch 96/100\n",
      "24/24 [==============================] - 0s 616us/step - loss: 0.1637\n",
      "Epoch 97/100\n",
      "24/24 [==============================] - 0s 589us/step - loss: 0.1480\n",
      "Epoch 98/100\n",
      "24/24 [==============================] - 0s 606us/step - loss: 0.1836\n",
      "Epoch 99/100\n"
     ]
    },
    {
     "name": "stdout",
     "output_type": "stream",
     "text": [
      "24/24 [==============================] - 0s 615us/step - loss: 0.2203\n",
      "Epoch 100/100\n",
      "24/24 [==============================] - 0s 597us/step - loss: 0.1804\n"
     ]
    },
    {
     "data": {
      "text/plain": [
       "<tensorflow.python.keras.callbacks.History at 0x146402c50>"
      ]
     },
     "execution_count": 26,
     "metadata": {},
     "output_type": "execute_result"
    }
   ],
   "source": [
    "model.fit(train_x, train_t, epochs=100, batch_size=5)"
   ]
  },
  {
   "cell_type": "code",
   "execution_count": 28,
   "metadata": {},
   "outputs": [],
   "source": [
    "Y = model.predict_classes(test_x)"
   ]
  },
  {
   "cell_type": "code",
   "execution_count": 29,
   "metadata": {},
   "outputs": [
    {
     "data": {
      "text/plain": [
       "array([2, 1, 2, 0, 2, 1, 0, 2, 2, 1, 0, 1, 1, 0, 1, 0, 0, 1, 1, 2, 2, 0,\n",
       "       0, 0, 2, 1, 1, 0, 2, 2])"
      ]
     },
     "execution_count": 29,
     "metadata": {},
     "output_type": "execute_result"
    }
   ],
   "source": [
    "Y"
   ]
  },
  {
   "cell_type": "code",
   "execution_count": 33,
   "metadata": {},
   "outputs": [],
   "source": [
    "_, T_index = np.where(test_t>0)"
   ]
  },
  {
   "cell_type": "code",
   "execution_count": 34,
   "metadata": {},
   "outputs": [
    {
     "name": "stdout",
     "output_type": "stream",
     "text": [
      "1.0\n"
     ]
    }
   ],
   "source": [
    "score = accuracy_score(Y, T_index)\n",
    "print(score)"
   ]
  },
  {
   "cell_type": "code",
   "execution_count": 44,
   "metadata": {},
   "outputs": [
    {
     "data": {
      "text/plain": [
       "array([2, 1, 2, 0, 2, 1, 0, 2, 2, 1, 0, 1, 1, 0, 1, 0, 0, 1, 1, 2, 2, 0,\n",
       "       0, 0, 2, 1, 1, 0, 2, 2])"
      ]
     },
     "execution_count": 44,
     "metadata": {},
     "output_type": "execute_result"
    }
   ],
   "source": [
    "np.argmax(model.predict(test_x), axis=1)"
   ]
  },
  {
   "cell_type": "code",
   "execution_count": 41,
   "metadata": {},
   "outputs": [
    {
     "data": {
      "text/plain": [
       "array([[1.86520746e-22, 1.03614153e-03, 9.98963833e-01],\n",
       "       [5.86379212e-09, 6.95123196e-01, 3.04876715e-01],\n",
       "       [4.21987289e-23, 7.27088016e-04, 9.99272883e-01],\n",
       "       [9.57979977e-01, 4.19996046e-02, 2.04754215e-05],\n",
       "       [3.36695696e-17, 1.83365792e-02, 9.81663346e-01],\n",
       "       [9.02750497e-09, 7.20712304e-01, 2.79287726e-01],\n",
       "       [9.57979977e-01, 4.19996046e-02, 2.04754215e-05],\n",
       "       [1.36702740e-16, 2.54707821e-02, 9.74529207e-01],\n",
       "       [1.39040365e-18, 8.63897428e-03, 9.91361082e-01],\n",
       "       [5.89041330e-04, 9.86317098e-01, 1.30938897e-02],\n",
       "       [9.57979977e-01, 4.19996046e-02, 2.04754215e-05],\n",
       "       [2.30138130e-06, 9.31065917e-01, 6.89317361e-02],\n",
       "       [8.03405964e-09, 7.13910341e-01, 2.86089689e-01],\n",
       "       [9.57979977e-01, 4.19996046e-02, 2.04754215e-05],\n",
       "       [1.77522306e-04, 9.80896115e-01, 1.89263895e-02],\n",
       "       [9.57979977e-01, 4.19996046e-02, 2.04754215e-05],\n",
       "       [9.57979977e-01, 4.19996046e-02, 2.04754215e-05],\n",
       "       [1.68377974e-05, 9.61432815e-01, 3.85503396e-02],\n",
       "       [4.72102329e-06, 9.43951726e-01, 5.60436025e-02],\n",
       "       [9.03845234e-17, 2.31198315e-02, 9.76880193e-01],\n",
       "       [4.01714566e-15, 5.56897894e-02, 9.44310248e-01],\n",
       "       [9.57979977e-01, 4.19996046e-02, 2.04754215e-05],\n",
       "       [9.57979977e-01, 4.19996046e-02, 2.04754215e-05],\n",
       "       [9.57979977e-01, 4.19996046e-02, 2.04754215e-05],\n",
       "       [2.47918685e-18, 9.90700163e-03, 9.90092933e-01],\n",
       "       [6.38901057e-08, 8.20574760e-01, 1.79425135e-01],\n",
       "       [1.12992632e-06, 9.15723324e-01, 8.42755884e-02],\n",
       "       [9.57979977e-01, 4.19996046e-02, 2.04754215e-05],\n",
       "       [1.25678600e-26, 1.04914085e-04, 9.99895096e-01],\n",
       "       [4.37846485e-23, 7.33509543e-04, 9.99266446e-01]], dtype=float32)"
      ]
     },
     "execution_count": 41,
     "metadata": {},
     "output_type": "execute_result"
    }
   ],
   "source": [
    "model.predict(test_x)"
   ]
  },
  {
   "cell_type": "code",
   "execution_count": 42,
   "metadata": {},
   "outputs": [
    {
     "data": {
      "text/plain": [
       "(30, 3)"
      ]
     },
     "execution_count": 42,
     "metadata": {},
     "output_type": "execute_result"
    }
   ],
   "source": [
    "model.predict(test_x).shape"
   ]
  },
  {
   "cell_type": "code",
   "execution_count": null,
   "metadata": {},
   "outputs": [],
   "source": []
  }
 ],
 "metadata": {
  "kernelspec": {
   "display_name": "Python 3",
   "language": "python",
   "name": "python3"
  },
  "language_info": {
   "codemirror_mode": {
    "name": "ipython",
    "version": 3
   },
   "file_extension": ".py",
   "mimetype": "text/x-python",
   "name": "python",
   "nbconvert_exporter": "python",
   "pygments_lexer": "ipython3",
   "version": "3.7.6"
  }
 },
 "nbformat": 4,
 "nbformat_minor": 4
}
