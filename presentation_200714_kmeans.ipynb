{
 "cells": [
  {
   "cell_type": "markdown",
   "metadata": {},
   "source": [
    "## K-Meansによる分類結果の検証（7/14分の課題）"
   ]
  },
  {
   "cell_type": "code",
   "execution_count": 1,
   "metadata": {},
   "outputs": [],
   "source": [
    "import pandas as pd\n",
    "import numpy as np\n",
    "from sklearn.cluster import KMeans\n",
    "from matplotlib import pyplot as plt"
   ]
  },
  {
   "cell_type": "code",
   "execution_count": 2,
   "metadata": {},
   "outputs": [
    {
     "name": "stdout",
     "output_type": "stream",
     "text": [
      "<class 'pandas.core.frame.DataFrame'>\n",
      "RangeIndex: 150 entries, 0 to 149\n",
      "Data columns (total 5 columns):\n",
      " #   Column       Non-Null Count  Dtype  \n",
      "---  ------       --------------  -----  \n",
      " 0   SepalLength  150 non-null    float64\n",
      " 1   SepalWidth   150 non-null    float64\n",
      " 2   PetalLength  150 non-null    float64\n",
      " 3   PetalWidth   150 non-null    float64\n",
      " 4   Name         150 non-null    object \n",
      "dtypes: float64(4), object(1)\n",
      "memory usage: 6.0+ KB\n"
     ]
    }
   ],
   "source": [
    "df = pd.read_csv('iris_dataset.csv')\n",
    "df.info()"
   ]
  },
  {
   "cell_type": "code",
   "execution_count": 3,
   "metadata": {},
   "outputs": [
    {
     "data": {
      "text/plain": [
       "versicolor    50\n",
       "virginica     50\n",
       "setosa        50\n",
       "Name: Name, dtype: int64"
      ]
     },
     "execution_count": 3,
     "metadata": {},
     "output_type": "execute_result"
    }
   ],
   "source": [
    "df['Name'].value_counts()"
   ]
  },
  {
   "cell_type": "code",
   "execution_count": 4,
   "metadata": {},
   "outputs": [],
   "source": [
    "data = df[['SepalLength', 'PetalLength']]"
   ]
  },
  {
   "cell_type": "code",
   "execution_count": 27,
   "metadata": {},
   "outputs": [
    {
     "name": "stdout",
     "output_type": "stream",
     "text": [
      "[0 0 0 0 0 0 0 0 0 0 0 0 0 0 0 0 0 0 0 0 0 0 0 0 0 0 0 0 0 0 0 0 0 0 0 0 0\n",
      " 0 0 0 0 0 0 0 0 0 0 0 0 0 1 2 1 2 2 2 2 2 2 2 2 2 2 2 2 2 2 2 2 2 2 2 2 2\n",
      " 2 2 1 1 2 2 2 2 2 2 2 2 2 2 2 2 2 2 2 2 2 2 2 2 0 2 1 2 1 1 1 1 2 1 1 1 1\n",
      " 1 1 2 2 1 1 1 1 2 1 2 1 2 1 1 2 2 1 1 1 1 1 1 1 1 1 1 2 1 1 1 2 1 1 1 2 1\n",
      " 1 2]\n"
     ]
    }
   ],
   "source": [
    "clf = KMeans(n_clusters=3, random_state=0)\n",
    "clf.fit(data)\n",
    "res = clf.labels_\n",
    "print(res)"
   ]
  },
  {
   "cell_type": "code",
   "execution_count": 6,
   "metadata": {},
   "outputs": [
    {
     "data": {
      "text/plain": [
       "0         setosa\n",
       "1         setosa\n",
       "2         setosa\n",
       "3         setosa\n",
       "4         setosa\n",
       "         ...    \n",
       "145    virginica\n",
       "146    virginica\n",
       "147    virginica\n",
       "148    virginica\n",
       "149    virginica\n",
       "Name: Name, Length: 150, dtype: object"
      ]
     },
     "execution_count": 6,
     "metadata": {},
     "output_type": "execute_result"
    }
   ],
   "source": [
    "df['Name']"
   ]
  },
  {
   "cell_type": "code",
   "execution_count": 7,
   "metadata": {},
   "outputs": [],
   "source": [
    "df_copy = df.copy()"
   ]
  },
  {
   "cell_type": "code",
   "execution_count": 28,
   "metadata": {},
   "outputs": [],
   "source": [
    "df_copy['Name'] = df['Name'].map({'setosa':0, 'versicolor':2, 'virginica':1})"
   ]
  },
  {
   "cell_type": "code",
   "execution_count": 29,
   "metadata": {},
   "outputs": [],
   "source": [
    "res_series = pd.Series(res)"
   ]
  },
  {
   "cell_type": "code",
   "execution_count": 30,
   "metadata": {
    "scrolled": true
   },
   "outputs": [
    {
     "data": {
      "text/plain": [
       "0      0\n",
       "1      0\n",
       "2      0\n",
       "3      0\n",
       "4      0\n",
       "      ..\n",
       "145    1\n",
       "146    2\n",
       "147    1\n",
       "148    1\n",
       "149    2\n",
       "Length: 150, dtype: int32"
      ]
     },
     "execution_count": 30,
     "metadata": {},
     "output_type": "execute_result"
    }
   ],
   "source": [
    "res_series"
   ]
  },
  {
   "cell_type": "code",
   "execution_count": 11,
   "metadata": {},
   "outputs": [
    {
     "data": {
      "text/plain": [
       "0      1\n",
       "1      1\n",
       "2      1\n",
       "3      1\n",
       "4      1\n",
       "      ..\n",
       "145    2\n",
       "146    2\n",
       "147    2\n",
       "148    2\n",
       "149    2\n",
       "Name: Name, Length: 150, dtype: int64"
      ]
     },
     "execution_count": 11,
     "metadata": {},
     "output_type": "execute_result"
    }
   ],
   "source": [
    "df_copy['Name']"
   ]
  },
  {
   "cell_type": "code",
   "execution_count": 31,
   "metadata": {},
   "outputs": [],
   "source": [
    "df_copy['clustered_name'] = res_series"
   ]
  },
  {
   "cell_type": "code",
   "execution_count": 32,
   "metadata": {},
   "outputs": [],
   "source": [
    "df_failed = df_copy[df_copy['Name'] != res_series][['SepalLength', 'PetalLength']]"
   ]
  },
  {
   "cell_type": "code",
   "execution_count": 33,
   "metadata": {},
   "outputs": [],
   "source": [
    "df_success = df_copy[df_copy['Name'] == res_series][['SepalLength', 'PetalLength']]"
   ]
  },
  {
   "cell_type": "code",
   "execution_count": 34,
   "metadata": {},
   "outputs": [
    {
     "data": {
      "text/plain": [
       "18"
      ]
     },
     "execution_count": 34,
     "metadata": {},
     "output_type": "execute_result"
    }
   ],
   "source": [
    "len(df_failed)"
   ]
  },
  {
   "cell_type": "code",
   "execution_count": 35,
   "metadata": {},
   "outputs": [
    {
     "data": {
      "text/plain": [
       "132"
      ]
     },
     "execution_count": 35,
     "metadata": {},
     "output_type": "execute_result"
    }
   ],
   "source": [
    "len(df_success)"
   ]
  },
  {
   "cell_type": "code",
   "execution_count": 36,
   "metadata": {},
   "outputs": [
    {
     "name": "stderr",
     "output_type": "stream",
     "text": [
      "/usr/local/var/pyenv/versions/3.7.6/lib/python3.7/site-packages/ipykernel_launcher.py:5: UserWarning: Boolean Series key will be reindexed to match DataFrame index.\n",
      "  \"\"\"\n",
      "/usr/local/var/pyenv/versions/3.7.6/lib/python3.7/site-packages/ipykernel_launcher.py:6: UserWarning: Boolean Series key will be reindexed to match DataFrame index.\n",
      "  \n",
      "/usr/local/var/pyenv/versions/3.7.6/lib/python3.7/site-packages/ipykernel_launcher.py:7: UserWarning: Boolean Series key will be reindexed to match DataFrame index.\n",
      "  import sys\n",
      "/usr/local/var/pyenv/versions/3.7.6/lib/python3.7/site-packages/ipykernel_launcher.py:8: UserWarning: Boolean Series key will be reindexed to match DataFrame index.\n",
      "  \n",
      "/usr/local/var/pyenv/versions/3.7.6/lib/python3.7/site-packages/ipykernel_launcher.py:9: UserWarning: Boolean Series key will be reindexed to match DataFrame index.\n",
      "  if __name__ == '__main__':\n",
      "/usr/local/var/pyenv/versions/3.7.6/lib/python3.7/site-packages/ipykernel_launcher.py:10: UserWarning: Boolean Series key will be reindexed to match DataFrame index.\n",
      "  # Remove the CWD from sys.path while we load stuff.\n"
     ]
    },
    {
     "data": {
      "image/png": "[encoded data removed]",
      "text/plain": [
       "<Figure size 864x432 with 2 Axes>"
      ]
     },
     "metadata": {
      "needs_background": "light"
     },
     "output_type": "display_data"
    }
   ],
   "source": [
    "plt.figure(figsize=(12,6))\n",
    "\n",
    "plt.subplot(1,2,1)\n",
    "plt.title('clustering by K-Means')\n",
    "plt.scatter(x=df_success[df_copy['Name'] == 2]['SepalLength'], y=df_success[df_copy['Name'] == 2]['PetalLength'], marker='o', alpha=0.1, label='versicolor')\n",
    "plt.scatter(x=df_success[df_copy['Name'] == 0]['SepalLength'], y=df_success[df_copy['Name'] == 0]['PetalLength'], marker='o', alpha=0.1, label='setosa')\n",
    "plt.scatter(x=df_success[df_copy['Name'] == 1]['SepalLength'], y=df_success[df_copy['Name'] == 1]['PetalLength'], marker='o', alpha=0.1, label='virginica')\n",
    "plt.scatter(x=df_failed[df_copy['clustered_name'] == 2]['SepalLength'], y=df_failed[df_copy['clustered_name'] == 2]['PetalLength'], marker='x', color='r', label='failed versicolor')\n",
    "plt.scatter(x=df_failed[df_copy['clustered_name'] == 0]['SepalLength'], y=df_failed[df_copy['clustered_name'] == 0]['PetalLength'], marker='x', color='b', label='failed setosa')\n",
    "plt.scatter(x=df_failed[df_copy['clustered_name'] == 1]['SepalLength'], y=df_failed[df_copy['clustered_name'] == 1]['PetalLength'], marker='x', color='y', label='failed virginica')\n",
    "plt.legend()\n",
    "plt.xlabel('SepalLength', fontsize=10)\n",
    "plt.ylabel('PetalLength', fontsize=10)\n",
    "\n",
    "plt.subplot(1,2,2)\n",
    "plt.title('original data')\n",
    "plt.scatter(x=df[df['Name']=='setosa']['SepalLength'], y=df[df['Name']=='setosa']['PetalLength'], label='setosa')\n",
    "plt.scatter(x=df[df['Name']=='versicolor']['SepalLength'], y=df[df['Name']=='versicolor']['PetalLength'], label='versicolor')\n",
    "plt.scatter(x=df[df['Name']=='virginica']['SepalLength'], y=df[df['Name']=='virginica']['PetalLength'], label='virginica')\n",
    "plt.legend()\n",
    "plt.xlabel('SepalLength', fontsize=10)\n",
    "plt.ylabel('PetalLength', fontsize=10)\n",
    "plt.show()"
   ]
  },
  {
   "cell_type": "markdown",
   "metadata": {},
   "source": [
    "SVMで分類したときのイメージが残っているので、setosaがなぜ正しく分類できないのかが気になった。"
   ]
  },
  {
   "cell_type": "markdown",
   "metadata": {},
   "source": [
    "→K-Means法の原理を浅く調査。クラスタ分類に重心というものを計算しているのがわかったので、それを可視化してみる。"
   ]
  },
  {
   "cell_type": "markdown",
   "metadata": {},
   "source": [
    "クラスタの重心を取得"
   ]
  },
  {
   "cell_type": "code",
   "execution_count": 38,
   "metadata": {},
   "outputs": [
    {
     "data": {
      "text/plain": [
       "array([[5.00784314, 1.49411765],\n",
       "       [6.83902439, 5.67804878],\n",
       "       [5.87413793, 4.39310345]])"
      ]
     },
     "execution_count": 38,
     "metadata": {},
     "output_type": "execute_result"
    }
   ],
   "source": [
    "centers = clf.cluster_centers_\n",
    "centers"
   ]
  },
  {
   "cell_type": "code",
   "execution_count": 44,
   "metadata": {},
   "outputs": [
    {
     "name": "stderr",
     "output_type": "stream",
     "text": [
      "/usr/local/var/pyenv/versions/3.7.6/lib/python3.7/site-packages/ipykernel_launcher.py:2: UserWarning: Boolean Series key will be reindexed to match DataFrame index.\n",
      "  \n",
      "/usr/local/var/pyenv/versions/3.7.6/lib/python3.7/site-packages/ipykernel_launcher.py:3: UserWarning: Boolean Series key will be reindexed to match DataFrame index.\n",
      "  This is separate from the ipykernel package so we can avoid doing imports until\n",
      "/usr/local/var/pyenv/versions/3.7.6/lib/python3.7/site-packages/ipykernel_launcher.py:4: UserWarning: Boolean Series key will be reindexed to match DataFrame index.\n",
      "  after removing the cwd from sys.path.\n",
      "/usr/local/var/pyenv/versions/3.7.6/lib/python3.7/site-packages/ipykernel_launcher.py:5: UserWarning: Boolean Series key will be reindexed to match DataFrame index.\n",
      "  \"\"\"\n",
      "/usr/local/var/pyenv/versions/3.7.6/lib/python3.7/site-packages/ipykernel_launcher.py:6: UserWarning: Boolean Series key will be reindexed to match DataFrame index.\n",
      "  \n",
      "/usr/local/var/pyenv/versions/3.7.6/lib/python3.7/site-packages/ipykernel_launcher.py:7: UserWarning: Boolean Series key will be reindexed to match DataFrame index.\n",
      "  import sys\n"
     ]
    },
    {
     "data": {
      "image/png": "[encoded data removed]",
      "text/plain": [
       "<Figure size 432x288 with 1 Axes>"
      ]
     },
     "metadata": {
      "needs_background": "light"
     },
     "output_type": "display_data"
    }
   ],
   "source": [
    "plt.title('clustering by K-Means')\n",
    "plt.scatter(x=df_success[df_copy['Name'] == 2]['SepalLength'], y=df_success[df_copy['Name'] == 2]['PetalLength'], marker='o', alpha=0.1, label='versicolor')\n",
    "plt.scatter(x=df_success[df_copy['Name'] == 0]['SepalLength'], y=df_success[df_copy['Name'] == 0]['PetalLength'], marker='o', alpha=0.1, label='setosa')\n",
    "plt.scatter(x=df_success[df_copy['Name'] == 1]['SepalLength'], y=df_success[df_copy['Name'] == 1]['PetalLength'], marker='o', alpha=0.1, label='virginica')\n",
    "plt.scatter(x=df_failed[df_copy['clustered_name'] == 2]['SepalLength'], y=df_failed[df_copy['clustered_name'] == 2]['PetalLength'], marker='x', color='r', label='failed versicolor')\n",
    "plt.scatter(x=df_failed[df_copy['clustered_name'] == 0]['SepalLength'], y=df_failed[df_copy['clustered_name'] == 0]['PetalLength'], marker='x', color='b', label='failed setosa')\n",
    "plt.scatter(x=df_failed[df_copy['clustered_name'] == 1]['SepalLength'], y=df_failed[df_copy['clustered_name'] == 1]['PetalLength'], marker='x', color='y', label='failed virginica')\n",
    "plt.scatter(x=centers[:,0], y=centers[:,1], marker='v', s=80, color='b', label='Center')\n",
    "\n",
    "plt.legend()\n",
    "plt.xlabel('SepalLength', fontsize=10)\n",
    "plt.ylabel('PetalLength', fontsize=10)\n",
    "plt.show()"
   ]
  },
  {
   "cell_type": "markdown",
   "metadata": {},
   "source": [
    "sklearnでは重心の計算と、データ間の距離の計算に使う距離関数として、ユークリッド距離を使う。"
   ]
  },
  {
   "cell_type": "markdown",
   "metadata": {},
   "source": [
    "縦軸・横軸のスケールを合わせてみる"
   ]
  },
  {
   "cell_type": "code",
   "execution_count": 48,
   "metadata": {},
   "outputs": [
    {
     "name": "stderr",
     "output_type": "stream",
     "text": [
      "/usr/local/var/pyenv/versions/3.7.6/lib/python3.7/site-packages/ipykernel_launcher.py:3: UserWarning: Boolean Series key will be reindexed to match DataFrame index.\n",
      "  This is separate from the ipykernel package so we can avoid doing imports until\n",
      "/usr/local/var/pyenv/versions/3.7.6/lib/python3.7/site-packages/ipykernel_launcher.py:4: UserWarning: Boolean Series key will be reindexed to match DataFrame index.\n",
      "  after removing the cwd from sys.path.\n",
      "/usr/local/var/pyenv/versions/3.7.6/lib/python3.7/site-packages/ipykernel_launcher.py:5: UserWarning: Boolean Series key will be reindexed to match DataFrame index.\n",
      "  \"\"\"\n",
      "/usr/local/var/pyenv/versions/3.7.6/lib/python3.7/site-packages/ipykernel_launcher.py:6: UserWarning: Boolean Series key will be reindexed to match DataFrame index.\n",
      "  \n",
      "/usr/local/var/pyenv/versions/3.7.6/lib/python3.7/site-packages/ipykernel_launcher.py:7: UserWarning: Boolean Series key will be reindexed to match DataFrame index.\n",
      "  import sys\n",
      "/usr/local/var/pyenv/versions/3.7.6/lib/python3.7/site-packages/ipykernel_launcher.py:8: UserWarning: Boolean Series key will be reindexed to match DataFrame index.\n",
      "  \n"
     ]
    },
    {
     "data": {
      "image/png": "[encoded data removed]",
      "text/plain": [
       "<Figure size 432x432 with 1 Axes>"
      ]
     },
     "metadata": {
      "needs_background": "light"
     },
     "output_type": "display_data"
    }
   ],
   "source": [
    "plt.figure(figsize=(6,6))\n",
    "plt.title('clustering by K-Means')\n",
    "plt.scatter(x=df_success[df_copy['Name'] == 2]['SepalLength'], y=df_success[df_copy['Name'] == 2]['PetalLength'], marker='o', alpha=0.1, label='versicolor')\n",
    "plt.scatter(x=df_success[df_copy['Name'] == 0]['SepalLength'], y=df_success[df_copy['Name'] == 0]['PetalLength'], marker='o', alpha=0.1, label='setosa')\n",
    "plt.scatter(x=df_success[df_copy['Name'] == 1]['SepalLength'], y=df_success[df_copy['Name'] == 1]['PetalLength'], marker='o', alpha=0.1, label='virginica')\n",
    "plt.scatter(x=df_failed[df_copy['clustered_name'] == 2]['SepalLength'], y=df_failed[df_copy['clustered_name'] == 2]['PetalLength'], marker='x', color='r', label='failed versicolor')\n",
    "plt.scatter(x=df_failed[df_copy['clustered_name'] == 0]['SepalLength'], y=df_failed[df_copy['clustered_name'] == 0]['PetalLength'], marker='x', color='b', label='failed setosa')\n",
    "plt.scatter(x=df_failed[df_copy['clustered_name'] == 1]['SepalLength'], y=df_failed[df_copy['clustered_name'] == 1]['PetalLength'], marker='x', color='y', label='failed virginica')\n",
    "plt.scatter(x=centers[:,0], y=centers[:,1], marker='v', s=80, color='b', label='Center')\n",
    "\n",
    "plt.legend()\n",
    "plt.xlabel('SepalLength', fontsize=10)\n",
    "plt.ylabel('PetalLength', fontsize=10)\n",
    "plt.xlim((1,8))\n",
    "plt.ylim((1,8))\n",
    "plt.show()"
   ]
  },
  {
   "cell_type": "markdown",
   "metadata": {},
   "source": [
    "確かに重心に近い方に分類されていることが確認できた。"
   ]
  },
  {
   "cell_type": "markdown",
   "metadata": {},
   "source": [
    "### ユークリッド距離以外を用いた分類"
   ]
  },
  {
   "cell_type": "markdown",
   "metadata": {},
   "source": [
    "ユークリッド距離以外にも様々な関数（距離関数）が存在するらしい。"
   ]
  },
  {
   "cell_type": "markdown",
   "metadata": {},
   "source": [
    "ベクトルの大きさを考慮せず、角度により距離を測るコサイン類似度と言われるものを使って分類してみた。"
   ]
  },
  {
   "cell_type": "markdown",
   "metadata": {},
   "source": [
    "sklearnのKMeansにはオプションが用意されていないが、予めベクトルの正規化を行ってからユークリッド距離を計算することで擬似的にコサイン類似度を求められることがわかった。"
   ]
  },
  {
   "cell_type": "markdown",
   "metadata": {},
   "source": [
    "https://qiita.com/obake_kaiware/items/36104a479582063308f0"
   ]
  },
  {
   "cell_type": "code",
   "execution_count": 51,
   "metadata": {},
   "outputs": [],
   "source": [
    "from sklearn.preprocessing import normalize  #正規化関数"
   ]
  },
  {
   "cell_type": "code",
   "execution_count": 54,
   "metadata": {},
   "outputs": [
    {
     "data": {
      "text/plain": [
       "array([[0.96432615, 0.26471698],\n",
       "       [0.96152395, 0.27472113],\n",
       "       [0.96381112, 0.26658605],\n",
       "       [0.95072984, 0.3100206 ],\n",
       "       [0.96296402, 0.26962993],\n",
       "       [0.95384925, 0.30028588],\n",
       "       [0.95667388, 0.29116162],\n",
       "       [0.95782629, 0.28734789],\n",
       "       [0.95292578, 0.30320366],\n",
       "       [0.95619996, 0.29271427],\n",
       "       [0.96351791, 0.26764386],\n",
       "       [0.9486833 , 0.31622777],\n",
       "       [0.96      , 0.28      ],\n",
       "       [0.9688027 , 0.24783325],\n",
       "       [0.97926042, 0.2026056 ],\n",
       "       [0.96707454, 0.2544933 ],\n",
       "       [0.97222364, 0.23405384],\n",
       "       [0.96432615, 0.26471698],\n",
       "       [0.95828776, 0.28580512],\n",
       "       [0.9593655 , 0.28216632],\n",
       "       [0.95384925, 0.30028588],\n",
       "       [0.9593655 , 0.28216632],\n",
       "       [0.97717636, 0.21242964],\n",
       "       [0.9486833 , 0.31622777],\n",
       "       [0.92980661, 0.36804845],\n",
       "       [0.95242415, 0.30477573],\n",
       "       [0.95242415, 0.30477573],\n",
       "       [0.96082359, 0.27716065],\n",
       "       [0.96561576, 0.25997347],\n",
       "       [0.94664991, 0.3222638 ],\n",
       "       [0.9486833 , 0.31622777],\n",
       "       [0.96351791, 0.26764386],\n",
       "       [0.96082359, 0.27716065],\n",
       "       [0.96909717, 0.24667928],\n",
       "       [0.95619996, 0.29271427],\n",
       "       [0.9723873 , 0.23337295],\n",
       "       [0.97318461, 0.23002545],\n",
       "       [0.95619996, 0.29271427],\n",
       "       [0.95901771, 0.28334614],\n",
       "       [0.9593655 , 0.28216632],\n",
       "       [0.96782251, 0.25163385],\n",
       "       [0.96071418, 0.27753965],\n",
       "       [0.95901771, 0.28334614],\n",
       "       [0.95242415, 0.30477573],\n",
       "       [0.93708211, 0.34910902],\n",
       "       [0.96      , 0.28      ],\n",
       "       [0.95414649, 0.29934007],\n",
       "       [0.95667388, 0.29116162],\n",
       "       [0.96220605, 0.27232247],\n",
       "       [0.96296402, 0.26962993],\n",
       "       [0.83022113, 0.55743419],\n",
       "       [0.81802916, 0.57517675],\n",
       "       [0.8153272 , 0.57900048],\n",
       "       [0.80873608, 0.5881717 ],\n",
       "       [0.81627121, 0.57766886],\n",
       "       [0.78488277, 0.61964429],\n",
       "       [0.80152412, 0.59796244],\n",
       "       [0.82943693, 0.55860038],\n",
       "       [0.82039817, 0.57179266],\n",
       "       [0.8       , 0.6       ],\n",
       "       [0.81923192, 0.57346234],\n",
       "       [0.81466539, 0.57993129],\n",
       "       [0.83205029, 0.5547002 ],\n",
       "       [0.79214099, 0.61033814],\n",
       "       [0.84117848, 0.54075759],\n",
       "       [0.83586903, 0.54892892],\n",
       "       [0.77950893, 0.62639111],\n",
       "       [0.8165775 , 0.57723582],\n",
       "       [0.80930018, 0.58739529],\n",
       "       [0.82060642, 0.57149375],\n",
       "       [0.77571168, 0.63108747],\n",
       "       [0.83624437, 0.54835696],\n",
       "       [0.78935222, 0.61394061],\n",
       "       [0.79214099, 0.61033814],\n",
       "       [0.8300496 , 0.55768957],\n",
       "       [0.83205029, 0.5547002 ],\n",
       "       [0.81696786, 0.5766832 ],\n",
       "       [0.80143311, 0.59808441],\n",
       "       [0.8       , 0.6       ],\n",
       "       [0.85217123, 0.52326303],\n",
       "       [0.82273034, 0.56843187],\n",
       "       [0.82972211, 0.55817669],\n",
       "       [0.82984257, 0.55799759],\n",
       "       [0.76193932, 0.64764842],\n",
       "       [0.76822128, 0.6401844 ],\n",
       "       [0.8       , 0.6       ],\n",
       "       [0.81865747, 0.57428211],\n",
       "       [0.81984282, 0.57258864],\n",
       "       [0.80686282, 0.59073885],\n",
       "       [0.80873608, 0.5881717 ],\n",
       "       [0.78086881, 0.62469505],\n",
       "       [0.79842658, 0.60209218],\n",
       "       [0.82321279, 0.56773296],\n",
       "       [0.83460941, 0.55084221],\n",
       "       [0.8       , 0.6       ],\n",
       "       [0.80505584, 0.59319904],\n",
       "       [0.80505584, 0.59319904],\n",
       "       [0.82171478, 0.56989896],\n",
       "       [0.86193422, 0.50702013],\n",
       "       [0.81180439, 0.58392947],\n",
       "       [0.72413793, 0.68965517],\n",
       "       [0.75097031, 0.66033597],\n",
       "       [0.76910845, 0.63911829],\n",
       "       [0.74740932, 0.66436384],\n",
       "       [0.7461413 , 0.66578762],\n",
       "       [0.75503312, 0.65568666],\n",
       "       [0.73652989, 0.676405  ],\n",
       "       [0.75705615, 0.65334982],\n",
       "       [0.75606129, 0.65450082],\n",
       "       [0.76298418, 0.64641715],\n",
       "       [0.78673816, 0.61728686],\n",
       "       [0.77019046, 0.63781397],\n",
       "       [0.77751107, 0.62886925],\n",
       "       [0.75175911, 0.65943782],\n",
       "       [0.75097031, 0.66033597],\n",
       "       [0.77019046, 0.63781397],\n",
       "       [0.76338629, 0.64594224],\n",
       "       [0.75439456, 0.65642124],\n",
       "       [0.74473519, 0.6673601 ],\n",
       "       [0.76822128, 0.6401844 ],\n",
       "       [0.77096175, 0.63688145],\n",
       "       [0.75257669, 0.65850461],\n",
       "       [0.75439456, 0.65642124],\n",
       "       [0.78935222, 0.61394061],\n",
       "       [0.76165876, 0.64797835],\n",
       "       [0.76822128, 0.6401844 ],\n",
       "       [0.79072371, 0.61217319],\n",
       "       [0.77962036, 0.62625242],\n",
       "       [0.75257669, 0.65850461],\n",
       "       [0.77875391, 0.62732954],\n",
       "       [0.77162915, 0.63607268],\n",
       "       [0.77701577, 0.62948113],\n",
       "       [0.75257669, 0.65850461],\n",
       "       [0.77724487, 0.62919823],\n",
       "       [0.73665266, 0.67627129],\n",
       "       [0.78383936, 0.62096365],\n",
       "       [0.74740932, 0.66436384],\n",
       "       [0.75841948, 0.65176674],\n",
       "       [0.78086881, 0.62469505],\n",
       "       [0.787505  , 0.61630826],\n",
       "       [0.76728177, 0.64131013],\n",
       "       [0.80417614, 0.59439106],\n",
       "       [0.75097031, 0.66033597],\n",
       "       [0.75532247, 0.65535332],\n",
       "       [0.76165876, 0.64797835],\n",
       "       [0.78998669, 0.613124  ],\n",
       "       [0.7832889 , 0.62165786],\n",
       "       [0.78086881, 0.62469505],\n",
       "       [0.7540816 , 0.65678074],\n",
       "       [0.75653461, 0.65395365]])"
      ]
     },
     "execution_count": 54,
     "metadata": {},
     "output_type": "execute_result"
    }
   ],
   "source": [
    "data_norm = data.copy()\n",
    "data_norm = normalize(data_norm, norm='l2')\n",
    "data_norm"
   ]
  },
  {
   "cell_type": "code",
   "execution_count": 59,
   "metadata": {},
   "outputs": [],
   "source": [
    "df_norm = pd.DataFrame(data_norm, columns=['SepalLength', 'PetalLength'])"
   ]
  },
  {
   "cell_type": "code",
   "execution_count": 60,
   "metadata": {},
   "outputs": [],
   "source": [
    "clf2 = KMeans(n_clusters=3, random_state=0)\n",
    "clf2.fit(df_norm)\n",
    "pred2 = clf2.labels_"
   ]
  },
  {
   "cell_type": "code",
   "execution_count": 61,
   "metadata": {},
   "outputs": [
    {
     "data": {
      "text/plain": [
       "array([0, 0, 0, 0, 0, 0, 0, 0, 0, 0, 0, 0, 0, 0, 0, 0, 0, 0, 0, 0, 0, 0,\n",
       "       0, 0, 0, 0, 0, 0, 0, 0, 0, 0, 0, 0, 0, 0, 0, 0, 0, 0, 0, 0, 0, 0,\n",
       "       0, 0, 0, 0, 0, 0, 2, 2, 2, 2, 2, 1, 2, 2, 2, 2, 2, 2, 2, 1, 2, 2,\n",
       "       1, 2, 2, 2, 1, 2, 1, 1, 2, 2, 2, 2, 2, 2, 2, 2, 2, 1, 1, 2, 2, 2,\n",
       "       2, 2, 1, 2, 2, 2, 2, 2, 2, 2, 2, 2, 1, 1, 1, 1, 1, 1, 1, 1, 1, 1,\n",
       "       1, 1, 1, 1, 1, 1, 1, 1, 1, 1, 1, 1, 1, 1, 1, 1, 1, 1, 1, 1, 1, 1,\n",
       "       1, 1, 1, 1, 1, 1, 1, 1, 1, 2, 1, 1, 1, 1, 1, 1, 1, 1], dtype=int32)"
      ]
     },
     "execution_count": 61,
     "metadata": {},
     "output_type": "execute_result"
    }
   ],
   "source": [
    "pred2"
   ]
  },
  {
   "cell_type": "code",
   "execution_count": 62,
   "metadata": {},
   "outputs": [],
   "source": [
    "df_norm['Name'] = df['Name'].map({'setosa':0, 'versicolor':2, 'virginica':1})"
   ]
  },
  {
   "cell_type": "code",
   "execution_count": 65,
   "metadata": {},
   "outputs": [],
   "source": [
    "df_norm['cluster_num'] = pred2"
   ]
  },
  {
   "cell_type": "code",
   "execution_count": 70,
   "metadata": {},
   "outputs": [
    {
     "data": {
      "text/html": [
       "<div>\n",
       "<style scoped>\n",
       "    .dataframe tbody tr th:only-of-type {\n",
       "        vertical-align: middle;\n",
       "    }\n",
       "\n",
       "    .dataframe tbody tr th {\n",
       "        vertical-align: top;\n",
       "    }\n",
       "\n",
       "    .dataframe thead th {\n",
       "        text-align: right;\n",
       "    }\n",
       "</style>\n",
       "<table border=\"1\" class=\"dataframe\">\n",
       "  <thead>\n",
       "    <tr style=\"text-align: right;\">\n",
       "      <th></th>\n",
       "      <th>SepalLength</th>\n",
       "      <th>PetalLength</th>\n",
       "      <th>Name</th>\n",
       "      <th>cluster_num</th>\n",
       "    </tr>\n",
       "  </thead>\n",
       "  <tbody>\n",
       "    <tr>\n",
       "      <th>0</th>\n",
       "      <td>0.964326</td>\n",
       "      <td>0.264717</td>\n",
       "      <td>0</td>\n",
       "      <td>0</td>\n",
       "    </tr>\n",
       "    <tr>\n",
       "      <th>1</th>\n",
       "      <td>0.961524</td>\n",
       "      <td>0.274721</td>\n",
       "      <td>0</td>\n",
       "      <td>0</td>\n",
       "    </tr>\n",
       "    <tr>\n",
       "      <th>2</th>\n",
       "      <td>0.963811</td>\n",
       "      <td>0.266586</td>\n",
       "      <td>0</td>\n",
       "      <td>0</td>\n",
       "    </tr>\n",
       "    <tr>\n",
       "      <th>3</th>\n",
       "      <td>0.950730</td>\n",
       "      <td>0.310021</td>\n",
       "      <td>0</td>\n",
       "      <td>0</td>\n",
       "    </tr>\n",
       "    <tr>\n",
       "      <th>4</th>\n",
       "      <td>0.962964</td>\n",
       "      <td>0.269630</td>\n",
       "      <td>0</td>\n",
       "      <td>0</td>\n",
       "    </tr>\n",
       "  </tbody>\n",
       "</table>\n",
       "</div>"
      ],
      "text/plain": [
       "   SepalLength  PetalLength  Name  cluster_num\n",
       "0     0.964326     0.264717     0            0\n",
       "1     0.961524     0.274721     0            0\n",
       "2     0.963811     0.266586     0            0\n",
       "3     0.950730     0.310021     0            0\n",
       "4     0.962964     0.269630     0            0"
      ]
     },
     "execution_count": 70,
     "metadata": {},
     "output_type": "execute_result"
    }
   ],
   "source": [
    "df_norm.head()"
   ]
  },
  {
   "cell_type": "code",
   "execution_count": 71,
   "metadata": {},
   "outputs": [],
   "source": [
    "df_norm_success = df_norm[df_norm['Name'] == df_norm['cluster_num']]\n",
    "df_norm_fail = df_norm[df_norm['Name'] != df_norm['cluster_num']]"
   ]
  },
  {
   "cell_type": "code",
   "execution_count": 74,
   "metadata": {},
   "outputs": [
    {
     "name": "stderr",
     "output_type": "stream",
     "text": [
      "/usr/local/var/pyenv/versions/3.7.6/lib/python3.7/site-packages/ipykernel_launcher.py:4: UserWarning: Boolean Series key will be reindexed to match DataFrame index.\n",
      "  after removing the cwd from sys.path.\n",
      "/usr/local/var/pyenv/versions/3.7.6/lib/python3.7/site-packages/ipykernel_launcher.py:5: UserWarning: Boolean Series key will be reindexed to match DataFrame index.\n",
      "  \"\"\"\n",
      "/usr/local/var/pyenv/versions/3.7.6/lib/python3.7/site-packages/ipykernel_launcher.py:6: UserWarning: Boolean Series key will be reindexed to match DataFrame index.\n",
      "  \n",
      "/usr/local/var/pyenv/versions/3.7.6/lib/python3.7/site-packages/ipykernel_launcher.py:7: UserWarning: Boolean Series key will be reindexed to match DataFrame index.\n",
      "  import sys\n",
      "/usr/local/var/pyenv/versions/3.7.6/lib/python3.7/site-packages/ipykernel_launcher.py:8: UserWarning: Boolean Series key will be reindexed to match DataFrame index.\n",
      "  \n",
      "/usr/local/var/pyenv/versions/3.7.6/lib/python3.7/site-packages/ipykernel_launcher.py:9: UserWarning: Boolean Series key will be reindexed to match DataFrame index.\n",
      "  if __name__ == '__main__':\n"
     ]
    },
    {
     "data": {
      "image/png": "[encoded data removed]",
      "text/plain": [
       "<Figure size 432x432 with 1 Axes>"
      ]
     },
     "metadata": {
      "needs_background": "light"
     },
     "output_type": "display_data"
    }
   ],
   "source": [
    "plt.figure(figsize=(6,6))\n",
    "\n",
    "plt.title('clustering by K-Means(cosine)')\n",
    "plt.scatter(x=df_norm_success[df_norm['Name'] == 2]['SepalLength'], y=df_norm_success[df_norm['Name'] == 2]['PetalLength'], marker='o', alpha=0.1, label='versicolor')\n",
    "plt.scatter(x=df_norm_success[df_norm['Name'] == 0]['SepalLength'], y=df_norm_success[df_norm['Name'] == 0]['PetalLength'], marker='o', alpha=0.1, label='setosa')\n",
    "plt.scatter(x=df_norm_success[df_norm['Name'] == 1]['SepalLength'], y=df_norm_success[df_norm['Name'] == 1]['PetalLength'], marker='o', alpha=0.1, label='virginica')\n",
    "plt.scatter(x=df_norm_fail[df_norm['cluster_num'] == 2]['SepalLength'], y=df_norm_fail[df_norm['cluster_num'] == 2]['PetalLength'], marker='x', color='r', label='failed versicolor')\n",
    "plt.scatter(x=df_norm_fail[df_norm['cluster_num'] == 0]['SepalLength'], y=df_norm_fail[df_norm['cluster_num'] == 0]['PetalLength'], marker='x', color='b', label='failed setosa')\n",
    "plt.scatter(x=df_norm_fail[df_norm['cluster_num'] == 1]['SepalLength'], y=df_norm_fail[df_norm['cluster_num'] == 1]['PetalLength'], marker='x', color='y', label='failed virginica')\n",
    "#plt.scatter(x=centers[:,0], y=centers[:,1], marker='v', s=80, color='b', label='Center')\n",
    "\n",
    "plt.legend()\n",
    "plt.xlabel('SepalLength', fontsize=10)\n",
    "plt.ylabel('PetalLength', fontsize=10)\n",
    "plt.xlim((0,1))\n",
    "plt.ylim((0,1))\n",
    "plt.show()"
   ]
  },
  {
   "cell_type": "markdown",
   "metadata": {},
   "source": [
    "正解率の比較"
   ]
  },
  {
   "cell_type": "code",
   "execution_count": 75,
   "metadata": {},
   "outputs": [],
   "source": [
    "from sklearn.metrics import accuracy_score"
   ]
  },
  {
   "cell_type": "code",
   "execution_count": 76,
   "metadata": {},
   "outputs": [],
   "source": [
    "score1 = accuracy_score(df_copy['clustered_name'], df_copy['Name'])\n",
    "score2 = accuracy_score(df_norm['cluster_num'], df_norm['Name'])"
   ]
  },
  {
   "cell_type": "code",
   "execution_count": 78,
   "metadata": {},
   "outputs": [
    {
     "name": "stdout",
     "output_type": "stream",
     "text": [
      "ユークリッド距離\t88.000%\n",
      "コサイン類似度\t93.333%\n"
     ]
    }
   ],
   "source": [
    "print(f\"ユークリッド距離\\t{score1*100:.3f}%\")\n",
    "print(f\"コサイン類似度\\t{score2*100:.3f}%\")"
   ]
  },
  {
   "cell_type": "markdown",
   "metadata": {},
   "source": [
    "実行する前は、花弁と萼（がく）の長さを特徴量とし、単純にユークリッド距離を計算する方が精度が高いのではないかと何となく思っていたが、想像と違ってコサイン類似度で計算した方が精度が高かった。"
   ]
  },
  {
   "cell_type": "markdown",
   "metadata": {},
   "source": [
    "irisの花をクラスタ分類する上では、花弁と萼の絶対的な大きさよりも、それらの比率の方がより有効な情報を持っていることがわかった。"
   ]
  },
  {
   "cell_type": "code",
   "execution_count": null,
   "metadata": {},
   "outputs": [],
   "source": []
  }
 ],
 "metadata": {
  "kernelspec": {
   "display_name": "Python 3",
   "language": "python",
   "name": "python3"
  },
  "language_info": {
   "codemirror_mode": {
    "name": "ipython",
    "version": 3
   },
   "file_extension": ".py",
   "mimetype": "text/x-python",
   "name": "python",
   "nbconvert_exporter": "python",
   "pygments_lexer": "ipython3",
   "version": "3.7.8"
  }
 },
 "nbformat": 4,
 "nbformat_minor": 4
}
