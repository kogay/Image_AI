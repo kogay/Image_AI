{
 "cells": [
  {
   "cell_type": "markdown",
   "metadata": {},
   "source": [
    "## SVMでアンサンブル学習(タイタニック)  \n",
    "### 1. バギング+SVM  \n",
    "（参考）バギングはモデルが過学習の傾向にあるときに有効"
   ]
  },
  {
   "cell_type": "code",
   "execution_count": 1,
   "metadata": {},
   "outputs": [],
   "source": [
    "import pandas as pd\n",
    "import numpy as np\n",
    "from sklearn.model_selection import train_test_split\n",
    "from sklearn.svm import SVC\n",
    "from sklearn.ensemble import BaggingClassifier"
   ]
  },
  {
   "cell_type": "code",
   "execution_count": 2,
   "metadata": {},
   "outputs": [
    {
     "name": "stdout",
     "output_type": "stream",
     "text": [
      "<class 'pandas.core.frame.DataFrame'>\n",
      "RangeIndex: 891 entries, 0 to 890\n",
      "Data columns (total 12 columns):\n",
      " #   Column       Non-Null Count  Dtype  \n",
      "---  ------       --------------  -----  \n",
      " 0   PassengerId  891 non-null    int64  \n",
      " 1   Survived     891 non-null    int64  \n",
      " 2   Pclass       891 non-null    int64  \n",
      " 3   Name         891 non-null    object \n",
      " 4   Sex          891 non-null    object \n",
      " 5   Age          714 non-null    float64\n",
      " 6   SibSp        891 non-null    int64  \n",
      " 7   Parch        891 non-null    int64  \n",
      " 8   Ticket       891 non-null    object \n",
      " 9   Fare         891 non-null    float64\n",
      " 10  Cabin        204 non-null    object \n",
      " 11  Embarked     889 non-null    object \n",
      "dtypes: float64(2), int64(5), object(5)\n",
      "memory usage: 83.7+ KB\n"
     ]
    }
   ],
   "source": [
    "titanic = pd.read_csv('train.csv')\n",
    "titanic.info()"
   ]
  },
  {
   "cell_type": "code",
   "execution_count": 3,
   "metadata": {},
   "outputs": [],
   "source": [
    "titanic_fill = titanic.copy()\n",
    "# Ageをガウス分布に従う確率変数で補間\n",
    "rvs = np.random.normal(loc=titanic.Age.mean(), scale=titanic.Age.std(), size=titanic.Age.isnull().sum())\n",
    "rvs_sign = np.copysign(rvs, 1)\n",
    "rvs_df = pd.Series(rvs_sign, index=titanic[titanic.Age.isnull()].index)\n",
    "titanic_fill.Age = titanic.Age.fillna(rvs_df)\n",
    "\n",
    "# Embarkedが欠損している行は切り捨て\n",
    "titanic_fill = titanic_fill[titanic_fill.Embarked.isnull() == False]\n",
    "\n",
    "#Sex, Embarkedを数値に変換\n",
    "titanic_fill.Sex = titanic.Sex.map({'male': 0, 'female': 1})\n",
    "titanic_fill.Embarked = titanic.Embarked.map({'S': 0, 'C': 2, 'Q': 1})"
   ]
  },
  {
   "cell_type": "code",
   "execution_count": 4,
   "metadata": {},
   "outputs": [
    {
     "name": "stdout",
     "output_type": "stream",
     "text": [
      "<class 'pandas.core.frame.DataFrame'>\n",
      "Int64Index: 889 entries, 0 to 890\n",
      "Data columns (total 12 columns):\n",
      " #   Column       Non-Null Count  Dtype  \n",
      "---  ------       --------------  -----  \n",
      " 0   PassengerId  889 non-null    int64  \n",
      " 1   Survived     889 non-null    int64  \n",
      " 2   Pclass       889 non-null    int64  \n",
      " 3   Name         889 non-null    object \n",
      " 4   Sex          889 non-null    int64  \n",
      " 5   Age          889 non-null    float64\n",
      " 6   SibSp        889 non-null    int64  \n",
      " 7   Parch        889 non-null    int64  \n",
      " 8   Ticket       889 non-null    object \n",
      " 9   Fare         889 non-null    float64\n",
      " 10  Cabin        202 non-null    object \n",
      " 11  Embarked     889 non-null    float64\n",
      "dtypes: float64(3), int64(6), object(3)\n",
      "memory usage: 90.3+ KB\n"
     ]
    }
   ],
   "source": [
    "titanic_fill.info()"
   ]
  },
  {
   "cell_type": "markdown",
   "metadata": {},
   "source": [
    "Survivedとの相関が高くなるEmbarkedの数値変換を探索する"
   ]
  },
  {
   "cell_type": "code",
   "execution_count": 30,
   "metadata": {},
   "outputs": [
    {
     "name": "stdout",
     "output_type": "stream",
     "text": [
      "0.1086686710178753\n",
      "0.1697176771641289\n",
      "-0.1267534655035265\n",
      "0.1267534655035265\n",
      "-0.1697176771641289\n",
      "-0.1086686710178753\n"
     ]
    }
   ],
   "source": [
    "titanic_fill.Embarked = titanic.Embarked.map({'S': 0, 'C': 1, 'Q': 2})\n",
    "print(titanic_fill.corr().Embarked['Survived'])\n",
    "titanic_fill.Embarked = titanic.Embarked.map({'S': 0, 'C': 2, 'Q': 1})\n",
    "print(titanic_fill.corr().Embarked['Survived'])\n",
    "titanic_fill.Embarked = titanic.Embarked.map({'S': 1, 'C': 0, 'Q': 2})\n",
    "print(titanic_fill.corr().Embarked['Survived'])\n",
    "titanic_fill.Embarked = titanic.Embarked.map({'S': 1, 'C': 2, 'Q': 0})\n",
    "print(titanic_fill.corr().Embarked['Survived'])\n",
    "titanic_fill.Embarked = titanic.Embarked.map({'S': 2, 'C': 0, 'Q': 1})\n",
    "print(titanic_fill.corr().Embarked['Survived'])\n",
    "titanic_fill.Embarked = titanic.Embarked.map({'S': 2, 'C': 1, 'Q': 0})\n",
    "print(titanic_fill.corr().Embarked['Survived'])"
   ]
  },
  {
   "cell_type": "markdown",
   "metadata": {},
   "source": [
    "Embarkedは'S', 'Q', 'C'の順に並ぶように数値化する"
   ]
  },
  {
   "cell_type": "code",
   "execution_count": 18,
   "metadata": {},
   "outputs": [
    {
     "data": {
      "text/html": [
       "<div>\n",
       "<style scoped>\n",
       "    .dataframe tbody tr th:only-of-type {\n",
       "        vertical-align: middle;\n",
       "    }\n",
       "\n",
       "    .dataframe tbody tr th {\n",
       "        vertical-align: top;\n",
       "    }\n",
       "\n",
       "    .dataframe thead th {\n",
       "        text-align: right;\n",
       "    }\n",
       "</style>\n",
       "<table border=\"1\" class=\"dataframe\">\n",
       "  <thead>\n",
       "    <tr style=\"text-align: right;\">\n",
       "      <th></th>\n",
       "      <th>PassengerId</th>\n",
       "      <th>Survived</th>\n",
       "      <th>Pclass</th>\n",
       "      <th>Sex</th>\n",
       "      <th>Age</th>\n",
       "      <th>SibSp</th>\n",
       "      <th>Parch</th>\n",
       "      <th>Fare</th>\n",
       "      <th>Embarked</th>\n",
       "    </tr>\n",
       "  </thead>\n",
       "  <tbody>\n",
       "    <tr>\n",
       "      <th>PassengerId</th>\n",
       "      <td>1.000000</td>\n",
       "      <td>-0.005028</td>\n",
       "      <td>-0.035330</td>\n",
       "      <td>-0.043136</td>\n",
       "      <td>0.033655</td>\n",
       "      <td>-0.057686</td>\n",
       "      <td>-0.001657</td>\n",
       "      <td>0.012703</td>\n",
       "      <td>-0.013166</td>\n",
       "    </tr>\n",
       "    <tr>\n",
       "      <th>Survived</th>\n",
       "      <td>-0.005028</td>\n",
       "      <td>1.000000</td>\n",
       "      <td>-0.335549</td>\n",
       "      <td>0.541585</td>\n",
       "      <td>-0.073891</td>\n",
       "      <td>-0.034040</td>\n",
       "      <td>0.083151</td>\n",
       "      <td>0.255290</td>\n",
       "      <td>0.169718</td>\n",
       "    </tr>\n",
       "    <tr>\n",
       "      <th>Pclass</th>\n",
       "      <td>-0.035330</td>\n",
       "      <td>-0.335549</td>\n",
       "      <td>1.000000</td>\n",
       "      <td>-0.127741</td>\n",
       "      <td>-0.256710</td>\n",
       "      <td>0.081656</td>\n",
       "      <td>0.016824</td>\n",
       "      <td>-0.548193</td>\n",
       "      <td>-0.164681</td>\n",
       "    </tr>\n",
       "    <tr>\n",
       "      <th>Sex</th>\n",
       "      <td>-0.043136</td>\n",
       "      <td>0.541585</td>\n",
       "      <td>-0.127741</td>\n",
       "      <td>1.000000</td>\n",
       "      <td>-0.064797</td>\n",
       "      <td>0.116348</td>\n",
       "      <td>0.247508</td>\n",
       "      <td>0.179958</td>\n",
       "      <td>0.110320</td>\n",
       "    </tr>\n",
       "    <tr>\n",
       "      <th>Age</th>\n",
       "      <td>0.033655</td>\n",
       "      <td>-0.073891</td>\n",
       "      <td>-0.256710</td>\n",
       "      <td>-0.064797</td>\n",
       "      <td>1.000000</td>\n",
       "      <td>-0.174677</td>\n",
       "      <td>-0.141518</td>\n",
       "      <td>0.070319</td>\n",
       "      <td>0.048645</td>\n",
       "    </tr>\n",
       "    <tr>\n",
       "      <th>SibSp</th>\n",
       "      <td>-0.057686</td>\n",
       "      <td>-0.034040</td>\n",
       "      <td>0.081656</td>\n",
       "      <td>0.116348</td>\n",
       "      <td>-0.174677</td>\n",
       "      <td>1.000000</td>\n",
       "      <td>0.414542</td>\n",
       "      <td>0.160887</td>\n",
       "      <td>-0.068900</td>\n",
       "    </tr>\n",
       "    <tr>\n",
       "      <th>Parch</th>\n",
       "      <td>-0.001657</td>\n",
       "      <td>0.083151</td>\n",
       "      <td>0.016824</td>\n",
       "      <td>0.247508</td>\n",
       "      <td>-0.141518</td>\n",
       "      <td>0.414542</td>\n",
       "      <td>1.000000</td>\n",
       "      <td>0.217532</td>\n",
       "      <td>-0.040449</td>\n",
       "    </tr>\n",
       "    <tr>\n",
       "      <th>Fare</th>\n",
       "      <td>0.012703</td>\n",
       "      <td>0.255290</td>\n",
       "      <td>-0.548193</td>\n",
       "      <td>0.179958</td>\n",
       "      <td>0.070319</td>\n",
       "      <td>0.160887</td>\n",
       "      <td>0.217532</td>\n",
       "      <td>1.000000</td>\n",
       "      <td>0.226311</td>\n",
       "    </tr>\n",
       "    <tr>\n",
       "      <th>Embarked</th>\n",
       "      <td>-0.013166</td>\n",
       "      <td>0.169718</td>\n",
       "      <td>-0.164681</td>\n",
       "      <td>0.110320</td>\n",
       "      <td>0.048645</td>\n",
       "      <td>-0.068900</td>\n",
       "      <td>-0.040449</td>\n",
       "      <td>0.226311</td>\n",
       "      <td>1.000000</td>\n",
       "    </tr>\n",
       "  </tbody>\n",
       "</table>\n",
       "</div>"
      ],
      "text/plain": [
       "             PassengerId  Survived    Pclass       Sex       Age     SibSp  \\\n",
       "PassengerId     1.000000 -0.005028 -0.035330 -0.043136  0.033655 -0.057686   \n",
       "Survived       -0.005028  1.000000 -0.335549  0.541585 -0.073891 -0.034040   \n",
       "Pclass         -0.035330 -0.335549  1.000000 -0.127741 -0.256710  0.081656   \n",
       "Sex            -0.043136  0.541585 -0.127741  1.000000 -0.064797  0.116348   \n",
       "Age             0.033655 -0.073891 -0.256710 -0.064797  1.000000 -0.174677   \n",
       "SibSp          -0.057686 -0.034040  0.081656  0.116348 -0.174677  1.000000   \n",
       "Parch          -0.001657  0.083151  0.016824  0.247508 -0.141518  0.414542   \n",
       "Fare            0.012703  0.255290 -0.548193  0.179958  0.070319  0.160887   \n",
       "Embarked       -0.013166  0.169718 -0.164681  0.110320  0.048645 -0.068900   \n",
       "\n",
       "                Parch      Fare  Embarked  \n",
       "PassengerId -0.001657  0.012703 -0.013166  \n",
       "Survived     0.083151  0.255290  0.169718  \n",
       "Pclass       0.016824 -0.548193 -0.164681  \n",
       "Sex          0.247508  0.179958  0.110320  \n",
       "Age         -0.141518  0.070319  0.048645  \n",
       "SibSp        0.414542  0.160887 -0.068900  \n",
       "Parch        1.000000  0.217532 -0.040449  \n",
       "Fare         0.217532  1.000000  0.226311  \n",
       "Embarked    -0.040449  0.226311  1.000000  "
      ]
     },
     "execution_count": 18,
     "metadata": {},
     "output_type": "execute_result"
    }
   ],
   "source": [
    "titanic_fill.corr()"
   ]
  },
  {
   "cell_type": "code",
   "execution_count": 5,
   "metadata": {},
   "outputs": [],
   "source": [
    "data = titanic_fill[['Pclass', 'Sex', 'Fare', 'Embarked']]\n",
    "label = titanic_fill['Survived']\n",
    "X_train, X_test, y_train, y_test = train_test_split(data, label, stratify=label, random_state=10)"
   ]
  },
  {
   "cell_type": "code",
   "execution_count": 35,
   "metadata": {},
   "outputs": [],
   "source": [
    "# SVMと(SVMの)バギングでそれぞれモデル構築\n",
    "models = {\n",
    "    'SVM': SVC(),\n",
    "    'bagging': BaggingClassifier(SVC(), n_estimators=100, random_state=0)\n",
    "}\n",
    "scores = {}\n",
    "for model_name, model in models.items():\n",
    "    model.fit(X_train, y_train)\n",
    "    scores[(model_name, 'train_score')] = model.score(X_train, y_train)\n",
    "    scores[(model_name, 'test_score')] = model.score(X_test, y_test)"
   ]
  },
  {
   "cell_type": "code",
   "execution_count": 40,
   "metadata": {},
   "outputs": [
    {
     "data": {
      "text/html": [
       "<div>\n",
       "<style scoped>\n",
       "    .dataframe tbody tr th:only-of-type {\n",
       "        vertical-align: middle;\n",
       "    }\n",
       "\n",
       "    .dataframe tbody tr th {\n",
       "        vertical-align: top;\n",
       "    }\n",
       "\n",
       "    .dataframe thead th {\n",
       "        text-align: right;\n",
       "    }\n",
       "</style>\n",
       "<table border=\"1\" class=\"dataframe\">\n",
       "  <thead>\n",
       "    <tr style=\"text-align: right;\">\n",
       "      <th></th>\n",
       "      <th>test_score</th>\n",
       "      <th>train_score</th>\n",
       "    </tr>\n",
       "  </thead>\n",
       "  <tbody>\n",
       "    <tr>\n",
       "      <th>SVM</th>\n",
       "      <td>0.668161</td>\n",
       "      <td>0.684685</td>\n",
       "    </tr>\n",
       "    <tr>\n",
       "      <th>bagging</th>\n",
       "      <td>0.668161</td>\n",
       "      <td>0.687688</td>\n",
       "    </tr>\n",
       "  </tbody>\n",
       "</table>\n",
       "</div>"
      ],
      "text/plain": [
       "         test_score  train_score\n",
       "SVM        0.668161     0.684685\n",
       "bagging    0.668161     0.687688"
      ]
     },
     "execution_count": 40,
     "metadata": {},
     "output_type": "execute_result"
    }
   ],
   "source": [
    "pd.Series(scores).unstack()"
   ]
  },
  {
   "cell_type": "markdown",
   "metadata": {},
   "source": [
    "### GridSearchでパラメータ調整した上でスコアを比較"
   ]
  },
  {
   "cell_type": "code",
   "execution_count": 41,
   "metadata": {},
   "outputs": [],
   "source": [
    "from sklearn.model_selection import GridSearchCV\n",
    "params = {\n",
    "    'C': [0.1, 1, 10, 100, 1000, 1e4, 1e5, 1e6],\n",
    "    'gamma': [1e-9, 1e-8, 1e-7, 1e-6, 1e-5, 1e-4, 1e-3, 1e-2, 0.1, 1]\n",
    "}\n",
    "clf = GridSearchCV(SVC(), params, cv=5)\n",
    "clf.fit(X_train, y_train)\n",
    "res = pd.DataFrame(clf.cv_results_)"
   ]
  },
  {
   "cell_type": "code",
   "execution_count": 43,
   "metadata": {},
   "outputs": [
    {
     "data": {
      "text/html": [
       "<div>\n",
       "<style scoped>\n",
       "    .dataframe tbody tr th:only-of-type {\n",
       "        vertical-align: middle;\n",
       "    }\n",
       "\n",
       "    .dataframe tbody tr th {\n",
       "        vertical-align: top;\n",
       "    }\n",
       "\n",
       "    .dataframe thead th {\n",
       "        text-align: right;\n",
       "    }\n",
       "</style>\n",
       "<table border=\"1\" class=\"dataframe\">\n",
       "  <thead>\n",
       "    <tr style=\"text-align: right;\">\n",
       "      <th></th>\n",
       "      <th>mean_fit_time</th>\n",
       "      <th>std_fit_time</th>\n",
       "      <th>mean_score_time</th>\n",
       "      <th>std_score_time</th>\n",
       "      <th>param_C</th>\n",
       "      <th>param_gamma</th>\n",
       "      <th>params</th>\n",
       "      <th>split0_test_score</th>\n",
       "      <th>split1_test_score</th>\n",
       "      <th>split2_test_score</th>\n",
       "      <th>split3_test_score</th>\n",
       "      <th>split4_test_score</th>\n",
       "      <th>mean_test_score</th>\n",
       "      <th>std_test_score</th>\n",
       "      <th>rank_test_score</th>\n",
       "    </tr>\n",
       "  </thead>\n",
       "  <tbody>\n",
       "    <tr>\n",
       "      <th>54</th>\n",
       "      <td>0.137299</td>\n",
       "      <td>0.075681</td>\n",
       "      <td>0.002165</td>\n",
       "      <td>0.000084</td>\n",
       "      <td>10000</td>\n",
       "      <td>1e-05</td>\n",
       "      <td>{'C': 10000.0, 'gamma': 1e-05}</td>\n",
       "      <td>0.858209</td>\n",
       "      <td>0.804511</td>\n",
       "      <td>0.796992</td>\n",
       "      <td>0.714286</td>\n",
       "      <td>0.759398</td>\n",
       "      <td>0.786679</td>\n",
       "      <td>0.048012</td>\n",
       "      <td>1</td>\n",
       "    </tr>\n",
       "    <tr>\n",
       "      <th>63</th>\n",
       "      <td>0.107227</td>\n",
       "      <td>0.044284</td>\n",
       "      <td>0.002212</td>\n",
       "      <td>0.000076</td>\n",
       "      <td>100000</td>\n",
       "      <td>1e-06</td>\n",
       "      <td>{'C': 100000.0, 'gamma': 1e-06}</td>\n",
       "      <td>0.858209</td>\n",
       "      <td>0.804511</td>\n",
       "      <td>0.796992</td>\n",
       "      <td>0.714286</td>\n",
       "      <td>0.759398</td>\n",
       "      <td>0.786679</td>\n",
       "      <td>0.048012</td>\n",
       "      <td>1</td>\n",
       "    </tr>\n",
       "    <tr>\n",
       "      <th>64</th>\n",
       "      <td>0.445803</td>\n",
       "      <td>0.246923</td>\n",
       "      <td>0.002242</td>\n",
       "      <td>0.000136</td>\n",
       "      <td>100000</td>\n",
       "      <td>1e-05</td>\n",
       "      <td>{'C': 100000.0, 'gamma': 1e-05}</td>\n",
       "      <td>0.858209</td>\n",
       "      <td>0.804511</td>\n",
       "      <td>0.796992</td>\n",
       "      <td>0.714286</td>\n",
       "      <td>0.759398</td>\n",
       "      <td>0.786679</td>\n",
       "      <td>0.048012</td>\n",
       "      <td>1</td>\n",
       "    </tr>\n",
       "    <tr>\n",
       "      <th>72</th>\n",
       "      <td>0.031214</td>\n",
       "      <td>0.010737</td>\n",
       "      <td>0.002336</td>\n",
       "      <td>0.000093</td>\n",
       "      <td>1e+06</td>\n",
       "      <td>1e-07</td>\n",
       "      <td>{'C': 1000000.0, 'gamma': 1e-07}</td>\n",
       "      <td>0.858209</td>\n",
       "      <td>0.804511</td>\n",
       "      <td>0.796992</td>\n",
       "      <td>0.714286</td>\n",
       "      <td>0.759398</td>\n",
       "      <td>0.786679</td>\n",
       "      <td>0.048012</td>\n",
       "      <td>1</td>\n",
       "    </tr>\n",
       "    <tr>\n",
       "      <th>73</th>\n",
       "      <td>0.143441</td>\n",
       "      <td>0.050680</td>\n",
       "      <td>0.002139</td>\n",
       "      <td>0.000127</td>\n",
       "      <td>1e+06</td>\n",
       "      <td>1e-06</td>\n",
       "      <td>{'C': 1000000.0, 'gamma': 1e-06}</td>\n",
       "      <td>0.858209</td>\n",
       "      <td>0.804511</td>\n",
       "      <td>0.796992</td>\n",
       "      <td>0.714286</td>\n",
       "      <td>0.759398</td>\n",
       "      <td>0.786679</td>\n",
       "      <td>0.048012</td>\n",
       "      <td>1</td>\n",
       "    </tr>\n",
       "  </tbody>\n",
       "</table>\n",
       "</div>"
      ],
      "text/plain": [
       "    mean_fit_time  std_fit_time  mean_score_time  std_score_time param_C  \\\n",
       "54       0.137299      0.075681         0.002165        0.000084   10000   \n",
       "63       0.107227      0.044284         0.002212        0.000076  100000   \n",
       "64       0.445803      0.246923         0.002242        0.000136  100000   \n",
       "72       0.031214      0.010737         0.002336        0.000093   1e+06   \n",
       "73       0.143441      0.050680         0.002139        0.000127   1e+06   \n",
       "\n",
       "   param_gamma                            params  split0_test_score  \\\n",
       "54       1e-05    {'C': 10000.0, 'gamma': 1e-05}           0.858209   \n",
       "63       1e-06   {'C': 100000.0, 'gamma': 1e-06}           0.858209   \n",
       "64       1e-05   {'C': 100000.0, 'gamma': 1e-05}           0.858209   \n",
       "72       1e-07  {'C': 1000000.0, 'gamma': 1e-07}           0.858209   \n",
       "73       1e-06  {'C': 1000000.0, 'gamma': 1e-06}           0.858209   \n",
       "\n",
       "    split1_test_score  split2_test_score  split3_test_score  \\\n",
       "54           0.804511           0.796992           0.714286   \n",
       "63           0.804511           0.796992           0.714286   \n",
       "64           0.804511           0.796992           0.714286   \n",
       "72           0.804511           0.796992           0.714286   \n",
       "73           0.804511           0.796992           0.714286   \n",
       "\n",
       "    split4_test_score  mean_test_score  std_test_score  rank_test_score  \n",
       "54           0.759398         0.786679        0.048012                1  \n",
       "63           0.759398         0.786679        0.048012                1  \n",
       "64           0.759398         0.786679        0.048012                1  \n",
       "72           0.759398         0.786679        0.048012                1  \n",
       "73           0.759398         0.786679        0.048012                1  "
      ]
     },
     "execution_count": 43,
     "metadata": {},
     "output_type": "execute_result"
    }
   ],
   "source": [
    "res[res.rank_test_score == 1]"
   ]
  },
  {
   "cell_type": "markdown",
   "metadata": {},
   "source": [
    "正解率１位のパラメータについて汎化性能を調べる"
   ]
  },
  {
   "cell_type": "code",
   "execution_count": 65,
   "metadata": {},
   "outputs": [
    {
     "data": {
      "image/png": "[encoded data removed]",
      "text/plain": [
       "<Figure size 432x288 with 1 Axes>"
      ]
     },
     "metadata": {
      "needs_background": "light"
     },
     "output_type": "display_data"
    },
    {
     "data": {
      "image/png": "[encoded data removed]",
      "text/plain": [
       "<Figure size 432x288 with 1 Axes>"
      ]
     },
     "metadata": {
      "needs_background": "light"
     },
     "output_type": "display_data"
    },
    {
     "data": {
      "image/png": "[encoded data removed]",
      "text/plain": [
       "<Figure size 432x288 with 1 Axes>"
      ]
     },
     "metadata": {
      "needs_background": "light"
     },
     "output_type": "display_data"
    },
    {
     "data": {
      "image/png": "[encoded data removed]",
      "text/plain": [
       "<Figure size 432x288 with 1 Axes>"
      ]
     },
     "metadata": {
      "needs_background": "light"
     },
     "output_type": "display_data"
    },
    {
     "data": {
      "image/png": "[encoded data removed]",
      "text/plain": [
       "<Figure size 432x288 with 1 Axes>"
      ]
     },
     "metadata": {
      "needs_background": "light"
     },
     "output_type": "display_data"
    }
   ],
   "source": [
    "from matplotlib import pyplot as plt\n",
    "\n",
    "for param in res[res.rank_test_score == 1].params:\n",
    "    all_scores = []\n",
    "    for i in range(100):\n",
    "        train_d, test_d, train_l, test_l = train_test_split(data, label, test_size=0.3, random_state=i)\n",
    "        clf = SVC(C=param['C'], gamma=param['gamma'])\n",
    "        clf.fit(train_d, train_l)\n",
    "        all_scores = np.append(all_scores, clf.score(test_d, test_l))\n",
    "    \n",
    "    plt.hist(all_scores, alpha=0.3, label=str(param))\n",
    "    plt.legend()\n",
    "    plt.show()"
   ]
  },
  {
   "cell_type": "markdown",
   "metadata": {},
   "source": [
    "C=1e4, gamma=1e-5を採用"
   ]
  },
  {
   "cell_type": "code",
   "execution_count": 6,
   "metadata": {},
   "outputs": [],
   "source": [
    "C=1e4\n",
    "gamma=1e-5"
   ]
  },
  {
   "cell_type": "code",
   "execution_count": 66,
   "metadata": {},
   "outputs": [],
   "source": [
    "# SVMと(SVMの)バギングでそれぞれモデル構築\n",
    "models = {\n",
    "    'SVM': SVC(C=C, gamma=gamma),\n",
    "    'bagging': BaggingClassifier(SVC(C=C, gamma=gamma), n_estimators=100, random_state=0)\n",
    "}\n",
    "scores = {}\n",
    "for model_name, model in models.items():\n",
    "    model.fit(X_train, y_train)\n",
    "    scores[(model_name, 'train_score')] = model.score(X_train, y_train)\n",
    "    scores[(model_name, 'test_score')] = model.score(X_test, y_test)"
   ]
  },
  {
   "cell_type": "code",
   "execution_count": 67,
   "metadata": {},
   "outputs": [
    {
     "data": {
      "text/html": [
       "<div>\n",
       "<style scoped>\n",
       "    .dataframe tbody tr th:only-of-type {\n",
       "        vertical-align: middle;\n",
       "    }\n",
       "\n",
       "    .dataframe tbody tr th {\n",
       "        vertical-align: top;\n",
       "    }\n",
       "\n",
       "    .dataframe thead th {\n",
       "        text-align: right;\n",
       "    }\n",
       "</style>\n",
       "<table border=\"1\" class=\"dataframe\">\n",
       "  <thead>\n",
       "    <tr style=\"text-align: right;\">\n",
       "      <th></th>\n",
       "      <th>test_score</th>\n",
       "      <th>train_score</th>\n",
       "    </tr>\n",
       "  </thead>\n",
       "  <tbody>\n",
       "    <tr>\n",
       "      <th>SVM</th>\n",
       "      <td>0.793722</td>\n",
       "      <td>0.786787</td>\n",
       "    </tr>\n",
       "    <tr>\n",
       "      <th>bagging</th>\n",
       "      <td>0.793722</td>\n",
       "      <td>0.786787</td>\n",
       "    </tr>\n",
       "  </tbody>\n",
       "</table>\n",
       "</div>"
      ],
      "text/plain": [
       "         test_score  train_score\n",
       "SVM        0.793722     0.786787\n",
       "bagging    0.793722     0.786787"
      ]
     },
     "execution_count": 67,
     "metadata": {},
     "output_type": "execute_result"
    }
   ],
   "source": [
    "pd.Series(scores).unstack()"
   ]
  },
  {
   "cell_type": "markdown",
   "metadata": {},
   "source": [
    "SVMではバギングを行っても正解率に差が出なかった  \n",
    "### 2. ブースティング+SVM  \n",
    "（参考）ブースティングはモデルが学習不足の傾向にあるときに有効"
   ]
  },
  {
   "cell_type": "code",
   "execution_count": 68,
   "metadata": {},
   "outputs": [],
   "source": [
    "from sklearn.ensemble import AdaBoostClassifier"
   ]
  },
  {
   "cell_type": "code",
   "execution_count": 71,
   "metadata": {},
   "outputs": [
    {
     "data": {
      "text/html": [
       "<div>\n",
       "<style scoped>\n",
       "    .dataframe tbody tr th:only-of-type {\n",
       "        vertical-align: middle;\n",
       "    }\n",
       "\n",
       "    .dataframe tbody tr th {\n",
       "        vertical-align: top;\n",
       "    }\n",
       "\n",
       "    .dataframe thead th {\n",
       "        text-align: right;\n",
       "    }\n",
       "</style>\n",
       "<table border=\"1\" class=\"dataframe\">\n",
       "  <thead>\n",
       "    <tr style=\"text-align: right;\">\n",
       "      <th></th>\n",
       "      <th>test_score</th>\n",
       "      <th>train_score</th>\n",
       "    </tr>\n",
       "  </thead>\n",
       "  <tbody>\n",
       "    <tr>\n",
       "      <th>AdaBoost</th>\n",
       "      <td>0.654709</td>\n",
       "      <td>0.678679</td>\n",
       "    </tr>\n",
       "    <tr>\n",
       "      <th>SVM</th>\n",
       "      <td>0.793722</td>\n",
       "      <td>0.786787</td>\n",
       "    </tr>\n",
       "  </tbody>\n",
       "</table>\n",
       "</div>"
      ],
      "text/plain": [
       "          test_score  train_score\n",
       "AdaBoost    0.654709     0.678679\n",
       "SVM         0.793722     0.786787"
      ]
     },
     "execution_count": 71,
     "metadata": {},
     "output_type": "execute_result"
    }
   ],
   "source": [
    "models = {\n",
    "    'SVM': SVC(C=C, gamma=gamma),\n",
    "    'AdaBoost': AdaBoostClassifier(SVC(C=C, gamma=gamma), random_state=0, algorithm='SAMME')\n",
    "}\n",
    "\n",
    "# モデル構築\n",
    "scores = {}\n",
    "for model_name, model in models.items():\n",
    "    model.fit(X_train, y_train)\n",
    "    scores[(model_name, 'train_score')] = model.score(X_train, y_train)\n",
    "    scores[(model_name, 'test_score')] = model.score(X_test, y_test)\n",
    "    \n",
    "# 結果表示\n",
    "pd.Series(scores).unstack()"
   ]
  },
  {
   "cell_type": "markdown",
   "metadata": {},
   "source": [
    "ブースティングを行うとスコアが悪くなってしまった  \n",
    "### 3. バギング+SVM(特徴量をランダムに抽出)"
   ]
  },
  {
   "cell_type": "markdown",
   "metadata": {},
   "source": [
    "SKlearnのBaggingClassifierは弱識別器を作成するときデフォルトでデータセットの全特徴量を使う。  \n",
    "ランダムフォレストでは全特徴量からいくつかをランダムで抽出して互いに相関の低い決定木を作成する。  \n",
    "バギング+SVMで同様のことをやってみる。"
   ]
  },
  {
   "cell_type": "code",
   "execution_count": 17,
   "metadata": {
    "scrolled": true
   },
   "outputs": [
    {
     "data": {
      "text/html": [
       "<div>\n",
       "<style scoped>\n",
       "    .dataframe tbody tr th:only-of-type {\n",
       "        vertical-align: middle;\n",
       "    }\n",
       "\n",
       "    .dataframe tbody tr th {\n",
       "        vertical-align: top;\n",
       "    }\n",
       "\n",
       "    .dataframe thead th {\n",
       "        text-align: right;\n",
       "    }\n",
       "</style>\n",
       "<table border=\"1\" class=\"dataframe\">\n",
       "  <thead>\n",
       "    <tr style=\"text-align: right;\">\n",
       "      <th></th>\n",
       "      <th>test_score</th>\n",
       "      <th>train_score</th>\n",
       "    </tr>\n",
       "  </thead>\n",
       "  <tbody>\n",
       "    <tr>\n",
       "      <th>SVM</th>\n",
       "      <td>0.811659</td>\n",
       "      <td>0.780781</td>\n",
       "    </tr>\n",
       "    <tr>\n",
       "      <th>bagging</th>\n",
       "      <td>0.771300</td>\n",
       "      <td>0.786787</td>\n",
       "    </tr>\n",
       "  </tbody>\n",
       "</table>\n",
       "</div>"
      ],
      "text/plain": [
       "         test_score  train_score\n",
       "SVM        0.811659     0.780781\n",
       "bagging    0.771300     0.786787"
      ]
     },
     "execution_count": 17,
     "metadata": {},
     "output_type": "execute_result"
    }
   ],
   "source": [
    "# 弱識別器の作成に用いる特徴量の数\n",
    "# 元データの特徴量が4つなので、2とする\n",
    "max_features = 2\n",
    "\n",
    "models = {\n",
    "    'SVM': SVC(C=C, gamma=gamma),\n",
    "    'bagging': BaggingClassifier(SVC(C=C, gamma=gamma), n_estimators=100, random_state=0, max_features=max_features)\n",
    "}\n",
    "scores = {}\n",
    "for model_name, model in models.items():\n",
    "    model.fit(X_train, y_train)\n",
    "    scores[(model_name, 'train_score')] = model.score(X_train, y_train)\n",
    "    scores[(model_name, 'test_score')] = model.score(X_test, y_test)\n",
    "\n",
    "# 結果表示\n",
    "pd.Series(scores).unstack()"
   ]
  },
  {
   "cell_type": "markdown",
   "metadata": {},
   "source": [
    "あまり変化はなかった..."
   ]
  },
  {
   "cell_type": "markdown",
   "metadata": {},
   "source": [
    "考察  \n",
    "バイアス-バリアンスの関係  \n",
    "  \n",
    "ランダムフォレストの弱識別器である決定木は、アルゴリズム上低バイアス-高バリアンス（過学習）のモデルになる。  \n",
    "バギングで汎化性を高めると精度向上に繋がる。  \n",
    "一方SVMは高バイアス-低バリアンスのモデル（と書かれていた）  \n",
    "バギングでは精度に大きな変化はなかったが、なぜブースティングで精度が落ちてしまったのか…"
   ]
  },
  {
   "cell_type": "markdown",
   "metadata": {},
   "source": [
    "### （追加）スケーリング（正規化）を行ったデータ予測"
   ]
  },
  {
   "cell_type": "markdown",
   "metadata": {},
   "source": [
    "絶対値が小さい特徴量は他の特徴量に比べ予測への影響度が小さくなってしまう。それを防ぐため正規化する。  \n",
    "学習データの各列に対して、平均値=0,標準偏差=1となるように数値変換する。"
   ]
  },
  {
   "cell_type": "code",
   "execution_count": 13,
   "metadata": {},
   "outputs": [
    {
     "data": {
      "text/html": [
       "<div>\n",
       "<style scoped>\n",
       "    .dataframe tbody tr th:only-of-type {\n",
       "        vertical-align: middle;\n",
       "    }\n",
       "\n",
       "    .dataframe tbody tr th {\n",
       "        vertical-align: top;\n",
       "    }\n",
       "\n",
       "    .dataframe thead th {\n",
       "        text-align: right;\n",
       "    }\n",
       "</style>\n",
       "<table border=\"1\" class=\"dataframe\">\n",
       "  <thead>\n",
       "    <tr style=\"text-align: right;\">\n",
       "      <th></th>\n",
       "      <th>test_score</th>\n",
       "      <th>test_score(scaled)</th>\n",
       "      <th>train_score</th>\n",
       "      <th>train_score(scaled)</th>\n",
       "    </tr>\n",
       "  </thead>\n",
       "  <tbody>\n",
       "    <tr>\n",
       "      <th>SVM</th>\n",
       "      <td>0.811659</td>\n",
       "      <td>0.811659</td>\n",
       "      <td>0.780781</td>\n",
       "      <td>0.777778</td>\n",
       "    </tr>\n",
       "    <tr>\n",
       "      <th>bagging</th>\n",
       "      <td>0.771300</td>\n",
       "      <td>0.775785</td>\n",
       "      <td>0.786787</td>\n",
       "      <td>0.783784</td>\n",
       "    </tr>\n",
       "  </tbody>\n",
       "</table>\n",
       "</div>"
      ],
      "text/plain": [
       "         test_score  test_score(scaled)  train_score  train_score(scaled)\n",
       "SVM        0.811659            0.811659     0.780781             0.777778\n",
       "bagging    0.771300            0.775785     0.786787             0.783784"
      ]
     },
     "execution_count": 13,
     "metadata": {},
     "output_type": "execute_result"
    }
   ],
   "source": [
    "# 標準化を行うクラス\n",
    "from sklearn.preprocessing import StandardScaler\n",
    "\n",
    "# 標準化処理\n",
    "sc = StandardScaler()\n",
    "sc.fit(X_train)\n",
    "X_train_std = sc.transform(X_train)\n",
    "X_test_std = sc.transform(X_test)\n",
    "\n",
    "# バギング+SVMでモデル構築\n",
    "max_features = 2\n",
    "\n",
    "models = {\n",
    "    'SVM': SVC(C=C, gamma=gamma),\n",
    "    'bagging': BaggingClassifier(SVC(C=C, gamma=gamma), n_estimators=100, random_state=0, max_features=max_features)\n",
    "}\n",
    "scores = {}\n",
    "for model_name, model in models.items():\n",
    "    model.fit(X_train_std, y_train)\n",
    "    scores[(model_name, 'train_score(scaled)')] = model.score(X_train_std, y_train)\n",
    "    scores[(model_name, 'test_score(scaled)')] = model.score(X_test_std, y_test)\n",
    "    model.fit(X_train, y_train)\n",
    "    scores[(model_name, 'train_score')] = model.score(X_train, y_train)\n",
    "    scores[(model_name, 'test_score')] = model.score(X_test, y_test)\n",
    "\n",
    "# 結果表示\n",
    "pd.Series(scores).unstack()"
   ]
  },
  {
   "cell_type": "markdown",
   "metadata": {},
   "source": [
    "↓正規化前と後のデータ"
   ]
  },
  {
   "cell_type": "code",
   "execution_count": 16,
   "metadata": {},
   "outputs": [
    {
     "data": {
      "text/html": [
       "<div>\n",
       "<style scoped>\n",
       "    .dataframe tbody tr th:only-of-type {\n",
       "        vertical-align: middle;\n",
       "    }\n",
       "\n",
       "    .dataframe tbody tr th {\n",
       "        vertical-align: top;\n",
       "    }\n",
       "\n",
       "    .dataframe thead th {\n",
       "        text-align: right;\n",
       "    }\n",
       "</style>\n",
       "<table border=\"1\" class=\"dataframe\">\n",
       "  <thead>\n",
       "    <tr style=\"text-align: right;\">\n",
       "      <th></th>\n",
       "      <th>Pclass</th>\n",
       "      <th>Sex</th>\n",
       "      <th>Fare</th>\n",
       "      <th>Embarked</th>\n",
       "    </tr>\n",
       "  </thead>\n",
       "  <tbody>\n",
       "    <tr>\n",
       "      <th>36</th>\n",
       "      <td>3</td>\n",
       "      <td>0</td>\n",
       "      <td>7.2292</td>\n",
       "      <td>2.0</td>\n",
       "    </tr>\n",
       "    <tr>\n",
       "      <th>246</th>\n",
       "      <td>3</td>\n",
       "      <td>1</td>\n",
       "      <td>7.7750</td>\n",
       "      <td>0.0</td>\n",
       "    </tr>\n",
       "    <tr>\n",
       "      <th>558</th>\n",
       "      <td>1</td>\n",
       "      <td>1</td>\n",
       "      <td>79.6500</td>\n",
       "      <td>0.0</td>\n",
       "    </tr>\n",
       "    <tr>\n",
       "      <th>702</th>\n",
       "      <td>3</td>\n",
       "      <td>1</td>\n",
       "      <td>14.4542</td>\n",
       "      <td>2.0</td>\n",
       "    </tr>\n",
       "    <tr>\n",
       "      <th>465</th>\n",
       "      <td>3</td>\n",
       "      <td>0</td>\n",
       "      <td>7.0500</td>\n",
       "      <td>0.0</td>\n",
       "    </tr>\n",
       "  </tbody>\n",
       "</table>\n",
       "</div>"
      ],
      "text/plain": [
       "     Pclass  Sex     Fare  Embarked\n",
       "36        3    0   7.2292       2.0\n",
       "246       3    1   7.7750       0.0\n",
       "558       1    1  79.6500       0.0\n",
       "702       3    1  14.4542       2.0\n",
       "465       3    0   7.0500       0.0"
      ]
     },
     "execution_count": 16,
     "metadata": {},
     "output_type": "execute_result"
    }
   ],
   "source": [
    "X_train.head()"
   ]
  },
  {
   "cell_type": "code",
   "execution_count": 11,
   "metadata": {},
   "outputs": [
    {
     "data": {
      "text/html": [
       "<div>\n",
       "<style scoped>\n",
       "    .dataframe tbody tr th:only-of-type {\n",
       "        vertical-align: middle;\n",
       "    }\n",
       "\n",
       "    .dataframe tbody tr th {\n",
       "        vertical-align: top;\n",
       "    }\n",
       "\n",
       "    .dataframe thead th {\n",
       "        text-align: right;\n",
       "    }\n",
       "</style>\n",
       "<table border=\"1\" class=\"dataframe\">\n",
       "  <thead>\n",
       "    <tr style=\"text-align: right;\">\n",
       "      <th></th>\n",
       "      <th>0</th>\n",
       "      <th>1</th>\n",
       "      <th>2</th>\n",
       "      <th>3</th>\n",
       "    </tr>\n",
       "  </thead>\n",
       "  <tbody>\n",
       "    <tr>\n",
       "      <th>0</th>\n",
       "      <td>0.824841</td>\n",
       "      <td>-0.743268</td>\n",
       "      <td>-0.490027</td>\n",
       "      <td>1.939227</td>\n",
       "    </tr>\n",
       "    <tr>\n",
       "      <th>1</th>\n",
       "      <td>0.824841</td>\n",
       "      <td>1.345409</td>\n",
       "      <td>-0.479344</td>\n",
       "      <td>-0.580822</td>\n",
       "    </tr>\n",
       "    <tr>\n",
       "      <th>2</th>\n",
       "      <td>-1.600519</td>\n",
       "      <td>1.345409</td>\n",
       "      <td>0.927436</td>\n",
       "      <td>-0.580822</td>\n",
       "    </tr>\n",
       "    <tr>\n",
       "      <th>3</th>\n",
       "      <td>0.824841</td>\n",
       "      <td>1.345409</td>\n",
       "      <td>-0.348615</td>\n",
       "      <td>1.939227</td>\n",
       "    </tr>\n",
       "    <tr>\n",
       "      <th>4</th>\n",
       "      <td>0.824841</td>\n",
       "      <td>-0.743268</td>\n",
       "      <td>-0.493534</td>\n",
       "      <td>-0.580822</td>\n",
       "    </tr>\n",
       "  </tbody>\n",
       "</table>\n",
       "</div>"
      ],
      "text/plain": [
       "          0         1         2         3\n",
       "0  0.824841 -0.743268 -0.490027  1.939227\n",
       "1  0.824841  1.345409 -0.479344 -0.580822\n",
       "2 -1.600519  1.345409  0.927436 -0.580822\n",
       "3  0.824841  1.345409 -0.348615  1.939227\n",
       "4  0.824841 -0.743268 -0.493534 -0.580822"
      ]
     },
     "execution_count": 11,
     "metadata": {},
     "output_type": "execute_result"
    }
   ],
   "source": [
    "pd.DataFrame(X_train_std).head()"
   ]
  },
  {
   "cell_type": "code",
   "execution_count": null,
   "metadata": {},
   "outputs": [],
   "source": []
  }
 ],
 "metadata": {
  "kernelspec": {
   "display_name": "Python 3",
   "language": "python",
   "name": "python3"
  },
  "language_info": {
   "codemirror_mode": {
    "name": "ipython",
    "version": 3
   },
   "file_extension": ".py",
   "mimetype": "text/x-python",
   "name": "python",
   "nbconvert_exporter": "python",
   "pygments_lexer": "ipython3",
   "version": "3.7.6"
  }
 },
 "nbformat": 4,
 "nbformat_minor": 4
}
