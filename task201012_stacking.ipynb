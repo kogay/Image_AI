{
 "cells": [
  {
   "cell_type": "code",
   "execution_count": 44,
   "metadata": {},
   "outputs": [],
   "source": [
    "import pandas as pd\n",
    "import numpy as np\n",
    "from sklearn.svm import SVC\n",
    "from sklearn.ensemble import RandomForestClassifier as RFC, StackingClassifier\n",
    "from sklearn.neural_network import MLPClassifier as MLP\n",
    "from sklearn.model_selection import train_test_split, GridSearchCV, cross_val_predict\n",
    "from sklearn.linear_model import LogisticRegression"
   ]
  },
  {
   "cell_type": "code",
   "execution_count": 3,
   "metadata": {},
   "outputs": [
    {
     "name": "stdout",
     "output_type": "stream",
     "text": [
      "<class 'pandas.core.frame.DataFrame'>\n",
      "RangeIndex: 891 entries, 0 to 890\n",
      "Data columns (total 12 columns):\n",
      " #   Column       Non-Null Count  Dtype  \n",
      "---  ------       --------------  -----  \n",
      " 0   PassengerId  891 non-null    int64  \n",
      " 1   Survived     891 non-null    int64  \n",
      " 2   Pclass       891 non-null    int64  \n",
      " 3   Name         891 non-null    object \n",
      " 4   Sex          891 non-null    object \n",
      " 5   Age          714 non-null    float64\n",
      " 6   SibSp        891 non-null    int64  \n",
      " 7   Parch        891 non-null    int64  \n",
      " 8   Ticket       891 non-null    object \n",
      " 9   Fare         891 non-null    float64\n",
      " 10  Cabin        204 non-null    object \n",
      " 11  Embarked     889 non-null    object \n",
      "dtypes: float64(2), int64(5), object(5)\n",
      "memory usage: 83.7+ KB\n"
     ]
    }
   ],
   "source": [
    "titanic = pd.read_csv('train.csv')\n",
    "titanic.info()"
   ]
  },
  {
   "cell_type": "code",
   "execution_count": 27,
   "metadata": {},
   "outputs": [],
   "source": [
    "data = titanic.copy()\n",
    "data = data.dropna(subset=['Embarked'])\n",
    "data['Embarked'] = data['Embarked'].map({'S':0, 'C':2, 'Q':1})\n",
    "data['Sex'] = data['Sex'].map({'male':0, 'female':1})\n",
    "data['Age'] = data['Age'].fillna(data['Age'].mode()[0])"
   ]
  },
  {
   "cell_type": "code",
   "execution_count": 25,
   "metadata": {},
   "outputs": [
    {
     "data": {
      "text/html": [
       "<div>\n",
       "<style scoped>\n",
       "    .dataframe tbody tr th:only-of-type {\n",
       "        vertical-align: middle;\n",
       "    }\n",
       "\n",
       "    .dataframe tbody tr th {\n",
       "        vertical-align: top;\n",
       "    }\n",
       "\n",
       "    .dataframe thead th {\n",
       "        text-align: right;\n",
       "    }\n",
       "</style>\n",
       "<table border=\"1\" class=\"dataframe\">\n",
       "  <thead>\n",
       "    <tr style=\"text-align: right;\">\n",
       "      <th></th>\n",
       "      <th>PassengerId</th>\n",
       "      <th>Survived</th>\n",
       "      <th>Pclass</th>\n",
       "      <th>Sex</th>\n",
       "      <th>Age</th>\n",
       "      <th>SibSp</th>\n",
       "      <th>Parch</th>\n",
       "      <th>Fare</th>\n",
       "      <th>Embarked</th>\n",
       "    </tr>\n",
       "  </thead>\n",
       "  <tbody>\n",
       "    <tr>\n",
       "      <th>PassengerId</th>\n",
       "      <td>1.000000</td>\n",
       "      <td>-0.005028</td>\n",
       "      <td>-0.035330</td>\n",
       "      <td>-0.043136</td>\n",
       "      <td>0.033351</td>\n",
       "      <td>-0.057686</td>\n",
       "      <td>-0.001657</td>\n",
       "      <td>0.012703</td>\n",
       "      <td>-0.013166</td>\n",
       "    </tr>\n",
       "    <tr>\n",
       "      <th>Survived</th>\n",
       "      <td>-0.005028</td>\n",
       "      <td>1.000000</td>\n",
       "      <td>-0.335549</td>\n",
       "      <td>0.541585</td>\n",
       "      <td>-0.057833</td>\n",
       "      <td>-0.034040</td>\n",
       "      <td>0.083151</td>\n",
       "      <td>0.255290</td>\n",
       "      <td>0.169718</td>\n",
       "    </tr>\n",
       "    <tr>\n",
       "      <th>Pclass</th>\n",
       "      <td>-0.035330</td>\n",
       "      <td>-0.335549</td>\n",
       "      <td>1.000000</td>\n",
       "      <td>-0.127741</td>\n",
       "      <td>-0.352812</td>\n",
       "      <td>0.081656</td>\n",
       "      <td>0.016824</td>\n",
       "      <td>-0.548193</td>\n",
       "      <td>-0.164681</td>\n",
       "    </tr>\n",
       "    <tr>\n",
       "      <th>Sex</th>\n",
       "      <td>-0.043136</td>\n",
       "      <td>0.541585</td>\n",
       "      <td>-0.127741</td>\n",
       "      <td>1.000000</td>\n",
       "      <td>-0.078802</td>\n",
       "      <td>0.116348</td>\n",
       "      <td>0.247508</td>\n",
       "      <td>0.179958</td>\n",
       "      <td>0.110320</td>\n",
       "    </tr>\n",
       "    <tr>\n",
       "      <th>Age</th>\n",
       "      <td>0.033351</td>\n",
       "      <td>-0.057833</td>\n",
       "      <td>-0.352812</td>\n",
       "      <td>-0.078802</td>\n",
       "      <td>1.000000</td>\n",
       "      <td>-0.231639</td>\n",
       "      <td>-0.154027</td>\n",
       "      <td>0.104553</td>\n",
       "      <td>0.002171</td>\n",
       "    </tr>\n",
       "    <tr>\n",
       "      <th>SibSp</th>\n",
       "      <td>-0.057686</td>\n",
       "      <td>-0.034040</td>\n",
       "      <td>0.081656</td>\n",
       "      <td>0.116348</td>\n",
       "      <td>-0.231639</td>\n",
       "      <td>1.000000</td>\n",
       "      <td>0.414542</td>\n",
       "      <td>0.160887</td>\n",
       "      <td>-0.068900</td>\n",
       "    </tr>\n",
       "    <tr>\n",
       "      <th>Parch</th>\n",
       "      <td>-0.001657</td>\n",
       "      <td>0.083151</td>\n",
       "      <td>0.016824</td>\n",
       "      <td>0.247508</td>\n",
       "      <td>-0.154027</td>\n",
       "      <td>0.414542</td>\n",
       "      <td>1.000000</td>\n",
       "      <td>0.217532</td>\n",
       "      <td>-0.040449</td>\n",
       "    </tr>\n",
       "    <tr>\n",
       "      <th>Fare</th>\n",
       "      <td>0.012703</td>\n",
       "      <td>0.255290</td>\n",
       "      <td>-0.548193</td>\n",
       "      <td>0.179958</td>\n",
       "      <td>0.104553</td>\n",
       "      <td>0.160887</td>\n",
       "      <td>0.217532</td>\n",
       "      <td>1.000000</td>\n",
       "      <td>0.226311</td>\n",
       "    </tr>\n",
       "    <tr>\n",
       "      <th>Embarked</th>\n",
       "      <td>-0.013166</td>\n",
       "      <td>0.169718</td>\n",
       "      <td>-0.164681</td>\n",
       "      <td>0.110320</td>\n",
       "      <td>0.002171</td>\n",
       "      <td>-0.068900</td>\n",
       "      <td>-0.040449</td>\n",
       "      <td>0.226311</td>\n",
       "      <td>1.000000</td>\n",
       "    </tr>\n",
       "  </tbody>\n",
       "</table>\n",
       "</div>"
      ],
      "text/plain": [
       "             PassengerId  Survived    Pclass       Sex       Age     SibSp  \\\n",
       "PassengerId     1.000000 -0.005028 -0.035330 -0.043136  0.033351 -0.057686   \n",
       "Survived       -0.005028  1.000000 -0.335549  0.541585 -0.057833 -0.034040   \n",
       "Pclass         -0.035330 -0.335549  1.000000 -0.127741 -0.352812  0.081656   \n",
       "Sex            -0.043136  0.541585 -0.127741  1.000000 -0.078802  0.116348   \n",
       "Age             0.033351 -0.057833 -0.352812 -0.078802  1.000000 -0.231639   \n",
       "SibSp          -0.057686 -0.034040  0.081656  0.116348 -0.231639  1.000000   \n",
       "Parch          -0.001657  0.083151  0.016824  0.247508 -0.154027  0.414542   \n",
       "Fare            0.012703  0.255290 -0.548193  0.179958  0.104553  0.160887   \n",
       "Embarked       -0.013166  0.169718 -0.164681  0.110320  0.002171 -0.068900   \n",
       "\n",
       "                Parch      Fare  Embarked  \n",
       "PassengerId -0.001657  0.012703 -0.013166  \n",
       "Survived     0.083151  0.255290  0.169718  \n",
       "Pclass       0.016824 -0.548193 -0.164681  \n",
       "Sex          0.247508  0.179958  0.110320  \n",
       "Age         -0.154027  0.104553  0.002171  \n",
       "SibSp        0.414542  0.160887 -0.068900  \n",
       "Parch        1.000000  0.217532 -0.040449  \n",
       "Fare         0.217532  1.000000  0.226311  \n",
       "Embarked    -0.040449  0.226311  1.000000  "
      ]
     },
     "execution_count": 25,
     "metadata": {},
     "output_type": "execute_result"
    }
   ],
   "source": [
    "data.corr()"
   ]
  },
  {
   "cell_type": "code",
   "execution_count": 28,
   "metadata": {},
   "outputs": [],
   "source": [
    "label = data['Survived']\n",
    "data = data[['Pclass', 'Sex', 'Fare', 'Embarked']]"
   ]
  },
  {
   "cell_type": "code",
   "execution_count": 30,
   "metadata": {},
   "outputs": [],
   "source": [
    "X_train, X_test, y_train, y_test = train_test_split(data, label, test_size=0.4, stratify=label)"
   ]
  },
  {
   "cell_type": "code",
   "execution_count": 33,
   "metadata": {},
   "outputs": [
    {
     "data": {
      "text/plain": [
       "GridSearchCV(cv=5, estimator=RandomForestClassifier(),\n",
       "             param_grid={'n_estimators': [100, 200]})"
      ]
     },
     "execution_count": 33,
     "metadata": {},
     "output_type": "execute_result"
    }
   ],
   "source": [
    "params_svm = {\n",
    "    'C': [1, 10, 100, 1000, 1e4, 1e5, 1e6],\n",
    "    'gamma': [1e-9, 1e-8, 1e-7, 1e-6, 1e-5, 1e-4, 1e-3]\n",
    "}\n",
    "params_rfc = {\n",
    "    'n_estimators': [100, 200]\n",
    "}\n",
    "params_dnn = {\n",
    "    'random_state': [None]\n",
    "}\n",
    "clf_svm = GridSearchCV(SVC(), params_svm, cv=5)\n",
    "clf_rfc = GridSearchCV(RFC(), params_rfc, cv=5)\n",
    "clf_mlp = GridSearchCV(MLP(), params_dnn, cv=5)\n",
    "clf_svm.fit(X_train, y_train)\n",
    "clf_rfc.fit(X_train, y_train)\n",
    "clf_mlp.fit(X_train, y_train)"
   ]
  },
  {
   "cell_type": "code",
   "execution_count": 39,
   "metadata": {},
   "outputs": [
    {
     "data": {
      "text/plain": [
       "GridSearchCV(cv=5, estimator=MLPClassifier(),\n",
       "             param_grid={'random_state': [None]})"
      ]
     },
     "execution_count": 39,
     "metadata": {},
     "output_type": "execute_result"
    }
   ],
   "source": [
    "params_dnn = {\n",
    "    'random_state': [None]\n",
    "}\n",
    "clf_mlp = GridSearchCV(MLP(), params_dnn, cv=5)\n",
    "clf_mlp.fit(X_train, y_train)"
   ]
  },
  {
   "cell_type": "code",
   "execution_count": 40,
   "metadata": {},
   "outputs": [],
   "source": [
    "res_svm = pd.DataFrame(clf_svm.cv_results_)\n",
    "res_rfc = pd.DataFrame(clf_rfc.cv_results_)\n",
    "res_mlp = pd.DataFrame(clf_mlp.cv_results_)"
   ]
  },
  {
   "cell_type": "code",
   "execution_count": 46,
   "metadata": {},
   "outputs": [
    {
     "data": {
      "text/plain": [
       "StackingClassifier(estimators=[('SVM', SVC(C=1000000.0, gamma=1e-09)),\n",
       "                               ('RFC', RandomForestClassifier()),\n",
       "                               ('MLP', MLPClassifier())],\n",
       "                   final_estimator=LogisticRegression())"
      ]
     },
     "execution_count": 46,
     "metadata": {},
     "output_type": "execute_result"
    }
   ],
   "source": [
    "estimators = [\n",
    "    ('SVM', SVC(C=1e6, gamma=1e-9)),\n",
    "    ('RFC', RFC()),\n",
    "    ('MLP', MLP())\n",
    "]\n",
    "# モデルの設定\n",
    "clf = StackingClassifier(estimators, LogisticRegression())\n",
    "# スタッキングによる学習\n",
    "clf.fit(X_train, y_train)"
   ]
  },
  {
   "cell_type": "code",
   "execution_count": 47,
   "metadata": {},
   "outputs": [
    {
     "data": {
      "text/plain": [
       "0.8117977528089888"
      ]
     },
     "execution_count": 47,
     "metadata": {},
     "output_type": "execute_result"
    }
   ],
   "source": [
    "clf.score(X_test, y_test)"
   ]
  },
  {
   "cell_type": "code",
   "execution_count": null,
   "metadata": {},
   "outputs": [],
   "source": []
  }
 ],
 "metadata": {
  "kernelspec": {
   "display_name": "Python 3",
   "language": "python",
   "name": "python3"
  },
  "language_info": {
   "codemirror_mode": {
    "name": "ipython",
    "version": 3
   },
   "file_extension": ".py",
   "mimetype": "text/x-python",
   "name": "python",
   "nbconvert_exporter": "python",
   "pygments_lexer": "ipython3",
   "version": "3.7.6"
  }
 },
 "nbformat": 4,
 "nbformat_minor": 4
}
