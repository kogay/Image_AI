{
 "cells": [
  {
   "cell_type": "code",
   "execution_count": 1,
   "metadata": {
    "scrolled": true
   },
   "outputs": [
    {
     "name": "stdout",
     "output_type": "stream",
     "text": [
      "\u001b[34m2019archive\u001b[m\u001b[m/\r\n",
      "Untitled.ipynb\r\n",
      "iris_dataset.csv\r\n",
      "iris_dataset.xlsx\r\n",
      "task200528_iris統計量表示.ipynb\r\n",
      "task200528_xlsx読み込み.ipynb\r\n",
      "task200529_iris平均値表示.ipynb\r\n",
      "task200601_Irisデータヒストグラム表示.ipynb\r\n",
      "task200602_iris散布図.ipynb\r\n",
      "task200604_iris相関係数.ipynb\r\n",
      "task200605_学習データ分割.ipynb\r\n",
      "task200608_SVMでの予測.ipynb\r\n",
      "task200609_SVMパラメータCを調整.ipynb\r\n",
      "task200610_SVMパラメータgamma調整.ipynb\r\n",
      "task200611_分類器を3つ作成.ipynb\r\n",
      "task200612_複数テストデータ比較.ipynb\r\n",
      "task200615_複数テストデータ比較2.ipynb\r\n",
      "task200616_Cとガンマを変えて評価.ipynb\r\n",
      "task200617_SVMパラメータ変更.ipynb\r\n",
      "task200618_クロスバリデーション.ipynb\r\n",
      "task200619_2つのデータセットで評価比較.ipynb\r\n",
      "task200624_タイタニックSVM,ランダムフォレスト.ipynb\r\n",
      "task200625_タイタニック回帰分析でAgeを補間.ipynb\r\n",
      "task200629_グリッドサーチ.ipynb\r\n",
      "task200630_ガンマパラメータ調整.ipynb\r\n",
      "task200701_正誤表作成、比較.ipynb\r\n",
      "task200702_予測失敗データをCSV出力.ipynb\r\n",
      "task200706_Age平均値補間.ipynb\r\n",
      "task200707_Ageガウス分布で補間.ipynb\r\n",
      "task200709_性別ランダムに書き換え.ipynb\r\n",
      "test_d_f.csv\r\n",
      "train.csv\r\n",
      "勉強会発表資料200623.ipynb\r\n"
     ]
    }
   ],
   "source": [
    "ls"
   ]
  },
  {
   "cell_type": "code",
   "execution_count": 7,
   "metadata": {},
   "outputs": [],
   "source": [
    "import pandas as pd\n",
    "import numpy as np\n",
    "from sklearn.cluster import KMeans\n",
    "from sklearn.model_selection import train_test_split\n",
    "from sklearn.metrics import accuracy_score"
   ]
  },
  {
   "cell_type": "code",
   "execution_count": 5,
   "metadata": {},
   "outputs": [
    {
     "name": "stdout",
     "output_type": "stream",
     "text": [
      "<class 'pandas.core.frame.DataFrame'>\n",
      "RangeIndex: 150 entries, 0 to 149\n",
      "Data columns (total 5 columns):\n",
      " #   Column       Non-Null Count  Dtype  \n",
      "---  ------       --------------  -----  \n",
      " 0   SepalLength  150 non-null    float64\n",
      " 1   SepalWidth   150 non-null    float64\n",
      " 2   PetalLength  150 non-null    float64\n",
      " 3   PetalWidth   150 non-null    float64\n",
      " 4   Name         150 non-null    object \n",
      "dtypes: float64(4), object(1)\n",
      "memory usage: 6.0+ KB\n"
     ]
    }
   ],
   "source": [
    "df = pd.read_csv('iris_dataset.csv')\n",
    "df.info()"
   ]
  },
  {
   "cell_type": "code",
   "execution_count": 6,
   "metadata": {},
   "outputs": [],
   "source": [
    "data = df[['SepalLength', 'SepalWidth', 'PetalLength', 'PetalWidth']]\n",
    "label = df['Name']"
   ]
  },
  {
   "cell_type": "code",
   "execution_count": 8,
   "metadata": {},
   "outputs": [],
   "source": [
    "train_d, test_d, train_l, test_l = train_test_split(data, label, test_size=0.3)"
   ]
  },
  {
   "cell_type": "code",
   "execution_count": 25,
   "metadata": {},
   "outputs": [],
   "source": [
    "clf = KMeans(n_clusters=3)\n",
    "model = clf.fit(data)"
   ]
  },
  {
   "cell_type": "code",
   "execution_count": 26,
   "metadata": {},
   "outputs": [
    {
     "data": {
      "text/plain": [
       "array([0, 0, 0, 0, 0, 0, 0, 0, 0, 0, 0, 0, 0, 0, 0, 0, 0, 0, 0, 0, 0, 0,\n",
       "       0, 0, 0, 0, 0, 0, 0, 0, 0, 0, 0, 0, 0, 0, 0, 0, 0, 0, 0, 0, 0, 0,\n",
       "       0, 0, 0, 0, 0, 0, 1, 1, 2, 1, 1, 1, 1, 1, 1, 1, 1, 1, 1, 1, 1, 1,\n",
       "       1, 1, 1, 1, 1, 1, 1, 1, 1, 1, 1, 2, 1, 1, 1, 1, 1, 1, 1, 1, 1, 1,\n",
       "       1, 1, 1, 1, 1, 1, 1, 1, 1, 1, 1, 1, 2, 1, 2, 2, 2, 2, 1, 2, 2, 2,\n",
       "       2, 2, 2, 1, 1, 2, 2, 2, 2, 1, 2, 1, 2, 1, 2, 2, 1, 1, 2, 2, 2, 2,\n",
       "       2, 1, 2, 2, 2, 2, 1, 2, 2, 2, 1, 2, 2, 2, 1, 2, 2, 1], dtype=int32)"
      ]
     },
     "execution_count": 26,
     "metadata": {},
     "output_type": "execute_result"
    }
   ],
   "source": [
    "model.labels_"
   ]
  },
  {
   "cell_type": "markdown",
   "metadata": {},
   "source": [
    "labelを0,1,2に変換"
   ]
  },
  {
   "cell_type": "code",
   "execution_count": 20,
   "metadata": {},
   "outputs": [
    {
     "data": {
      "text/plain": [
       "0      0\n",
       "1      0\n",
       "2      0\n",
       "3      0\n",
       "4      0\n",
       "      ..\n",
       "145    2\n",
       "146    2\n",
       "147    2\n",
       "148    2\n",
       "149    2\n",
       "Name: Name, Length: 150, dtype: int64"
      ]
     },
     "execution_count": 20,
     "metadata": {},
     "output_type": "execute_result"
    }
   ],
   "source": [
    "label = df['Name'].map({'setosa':0, 'versicolor':1, 'virginica':2})\n",
    "label"
   ]
  },
  {
   "cell_type": "code",
   "execution_count": 27,
   "metadata": {},
   "outputs": [
    {
     "name": "stdout",
     "output_type": "stream",
     "text": [
      "正解率: 89.333%\n"
     ]
    }
   ],
   "source": [
    "score = accuracy_score(model.labels_, label)\n",
    "print(f\"正解率: {score*100:.3f}%\")"
   ]
  },
  {
   "cell_type": "code",
   "execution_count": null,
   "metadata": {},
   "outputs": [],
   "source": []
  }
 ],
 "metadata": {
  "kernelspec": {
   "display_name": "Python 3",
   "language": "python",
   "name": "python3"
  },
  "language_info": {
   "codemirror_mode": {
    "name": "ipython",
    "version": 3
   },
   "file_extension": ".py",
   "mimetype": "text/x-python",
   "name": "python",
   "nbconvert_exporter": "python",
   "pygments_lexer": "ipython3",
   "version": "3.7.6"
  }
 },
 "nbformat": 4,
 "nbformat_minor": 4
}
