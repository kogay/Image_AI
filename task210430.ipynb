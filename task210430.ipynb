{
 "cells": [
  {
   "cell_type": "code",
   "execution_count": 1,
   "metadata": {},
   "outputs": [],
   "source": [
    "import numpy as np\n",
    "\n",
    "from sklearn.model_selection import train_test_split\n",
    "from sklearn.metrics import accuracy_score\n",
    "\n",
    "from tensorflow.keras.models import Sequential\n",
    "from tensorflow.keras.layers import Dense\n",
    "from tensorflow.keras.optimizers import SGD,Adam\n",
    "from tensorflow.keras.utils import to_categorical"
   ]
  },
  {
   "cell_type": "code",
   "execution_count": 2,
   "metadata": {},
   "outputs": [],
   "source": [
    "data = np.load('./mnist_data.npz', allow_pickle=1)\n",
    "T = np.load('./mnist_target.npz', allow_pickle=1)"
   ]
  },
  {
   "cell_type": "code",
   "execution_count": 14,
   "metadata": {},
   "outputs": [],
   "source": [
    "data = data['arr_0']\n",
    "T = T['arr_0']"
   ]
  },
  {
   "cell_type": "code",
   "execution_count": 15,
   "metadata": {},
   "outputs": [],
   "source": [
    "X_train, X_test, Y_train, Y_test = train_test_split(data, T, test_size=0.3)"
   ]
  },
  {
   "cell_type": "code",
   "execution_count": 16,
   "metadata": {
    "scrolled": false
   },
   "outputs": [
    {
     "data": {
      "text/plain": [
       "array([[0., 0., 0., ..., 1., 0., 0.],\n",
       "       [0., 0., 0., ..., 0., 0., 0.],\n",
       "       [0., 0., 0., ..., 0., 0., 0.],\n",
       "       ...,\n",
       "       [0., 0., 0., ..., 1., 0., 0.],\n",
       "       [0., 0., 0., ..., 0., 1., 0.],\n",
       "       [0., 1., 0., ..., 0., 0., 0.]], dtype=float32)"
      ]
     },
     "execution_count": 16,
     "metadata": {},
     "output_type": "execute_result"
    }
   ],
   "source": [
    "Y_train_onehot = to_categorical(Y_train)\n",
    "Y_train_onehot"
   ]
  },
  {
   "cell_type": "code",
   "execution_count": 17,
   "metadata": {},
   "outputs": [
    {
     "data": {
      "text/plain": [
       "(49000, 784)"
      ]
     },
     "execution_count": 17,
     "metadata": {},
     "output_type": "execute_result"
    }
   ],
   "source": [
    "X_train.shape"
   ]
  },
  {
   "cell_type": "code",
   "execution_count": 18,
   "metadata": {},
   "outputs": [],
   "source": [
    "model = Sequential()\n",
    "model.add(Dense(input_dim=784, units=200, activation='relu'))\n",
    "model.add(Dense(units=10, activation='softmax'))"
   ]
  },
  {
   "cell_type": "code",
   "execution_count": 19,
   "metadata": {},
   "outputs": [],
   "source": [
    "model.compile(loss='categorical_crossentropy', metrics='accuracy', optimizer=SGD(lr=0.01))"
   ]
  },
  {
   "cell_type": "code",
   "execution_count": 20,
   "metadata": {},
   "outputs": [
    {
     "name": "stdout",
     "output_type": "stream",
     "text": [
      "Epoch 1/50\n",
      "25/25 [==============================] - 1s 15ms/step - loss: 1482.3978 - accuracy: 0.2612\n",
      "Epoch 2/50\n",
      "25/25 [==============================] - 0s 16ms/step - loss: 1.7444 - accuracy: 0.4043\n",
      "Epoch 3/50\n",
      "25/25 [==============================] - 0s 15ms/step - loss: 1.5840 - accuracy: 0.4671\n",
      "Epoch 4/50\n",
      "25/25 [==============================] - 0s 15ms/step - loss: 1.5182 - accuracy: 0.4898\n",
      "Epoch 5/50\n",
      "25/25 [==============================] - 0s 15ms/step - loss: 1.3705 - accuracy: 0.5510\n",
      "Epoch 6/50\n",
      "25/25 [==============================] - 0s 15ms/step - loss: 1.1570 - accuracy: 0.6703\n",
      "Epoch 7/50\n",
      "25/25 [==============================] - 0s 15ms/step - loss: 1.0057 - accuracy: 0.7344\n",
      "Epoch 8/50\n",
      "25/25 [==============================] - 0s 15ms/step - loss: 0.9749 - accuracy: 0.7463\n",
      "Epoch 9/50\n",
      "25/25 [==============================] - 1s 21ms/step - loss: 0.8762 - accuracy: 0.7645\n",
      "Epoch 10/50\n",
      "25/25 [==============================] - 0s 16ms/step - loss: 0.8419 - accuracy: 0.7689\n",
      "Epoch 11/50\n",
      "25/25 [==============================] - 0s 16ms/step - loss: 0.8184 - accuracy: 0.7781\n",
      "Epoch 12/50\n",
      "25/25 [==============================] - 0s 17ms/step - loss: 0.7899 - accuracy: 0.7869\n",
      "Epoch 13/50\n",
      "25/25 [==============================] - 0s 16ms/step - loss: 0.7770 - accuracy: 0.7860\n",
      "Epoch 14/50\n",
      "25/25 [==============================] - 0s 20ms/step - loss: 0.7701 - accuracy: 0.8000\n",
      "Epoch 15/50\n",
      "25/25 [==============================] - 0s 16ms/step - loss: 0.6858 - accuracy: 0.8292\n",
      "Epoch 16/50\n",
      "25/25 [==============================] - 0s 17ms/step - loss: 0.6413 - accuracy: 0.8415\n",
      "Epoch 17/50\n",
      "25/25 [==============================] - 0s 16ms/step - loss: 0.6023 - accuracy: 0.8597\n",
      "Epoch 18/50\n",
      "25/25 [==============================] - 0s 16ms/step - loss: 0.5611 - accuracy: 0.8645\n",
      "Epoch 19/50\n",
      "25/25 [==============================] - 0s 16ms/step - loss: 0.6884 - accuracy: 0.8299\n",
      "Epoch 20/50\n",
      "25/25 [==============================] - 0s 17ms/step - loss: 0.6152 - accuracy: 0.8722\n",
      "Epoch 21/50\n",
      "25/25 [==============================] - 0s 17ms/step - loss: 0.5615 - accuracy: 0.8766\n",
      "Epoch 22/50\n",
      "25/25 [==============================] - 0s 16ms/step - loss: 0.4964 - accuracy: 0.8863\n",
      "Epoch 23/50\n",
      "25/25 [==============================] - 0s 16ms/step - loss: 0.4926 - accuracy: 0.8872\n",
      "Epoch 24/50\n",
      "25/25 [==============================] - 0s 17ms/step - loss: 0.4956 - accuracy: 0.8836\n",
      "Epoch 25/50\n",
      "25/25 [==============================] - 0s 16ms/step - loss: 0.4755 - accuracy: 0.8887\n",
      "Epoch 26/50\n",
      "25/25 [==============================] - 0s 16ms/step - loss: 0.4788 - accuracy: 0.8837\n",
      "Epoch 27/50\n",
      "25/25 [==============================] - 0s 17ms/step - loss: 0.4395 - accuracy: 0.8879\n",
      "Epoch 28/50\n",
      "25/25 [==============================] - 0s 16ms/step - loss: 0.4404 - accuracy: 0.8800\n",
      "Epoch 29/50\n",
      "25/25 [==============================] - 0s 17ms/step - loss: 0.4727 - accuracy: 0.8806\n",
      "Epoch 30/50\n",
      "25/25 [==============================] - 0s 17ms/step - loss: 0.4788 - accuracy: 0.8805\n",
      "Epoch 31/50\n",
      "25/25 [==============================] - 0s 17ms/step - loss: 0.3574 - accuracy: 0.9073\n",
      "Epoch 32/50\n",
      "25/25 [==============================] - 0s 16ms/step - loss: 0.3622 - accuracy: 0.9058\n",
      "Epoch 33/50\n",
      "25/25 [==============================] - 0s 17ms/step - loss: 0.3426 - accuracy: 0.9089\n",
      "Epoch 34/50\n",
      "25/25 [==============================] - 0s 16ms/step - loss: 0.3153 - accuracy: 0.9147\n",
      "Epoch 35/50\n",
      "25/25 [==============================] - 0s 16ms/step - loss: 0.3817 - accuracy: 0.9057\n",
      "Epoch 36/50\n",
      "25/25 [==============================] - 0s 17ms/step - loss: 0.3144 - accuracy: 0.9168\n",
      "Epoch 37/50\n",
      "25/25 [==============================] - 0s 17ms/step - loss: 0.3305 - accuracy: 0.9124\n",
      "Epoch 38/50\n",
      "25/25 [==============================] - 0s 17ms/step - loss: 0.3299 - accuracy: 0.9110\n",
      "Epoch 39/50\n",
      "25/25 [==============================] - 0s 18ms/step - loss: 0.2965 - accuracy: 0.9193\n",
      "Epoch 40/50\n",
      "25/25 [==============================] - 0s 16ms/step - loss: 0.3505 - accuracy: 0.9035\n",
      "Epoch 41/50\n",
      "25/25 [==============================] - 0s 16ms/step - loss: 0.2818 - accuracy: 0.9233\n",
      "Epoch 42/50\n",
      "25/25 [==============================] - 0s 17ms/step - loss: 0.2902 - accuracy: 0.9191\n",
      "Epoch 43/50\n",
      "25/25 [==============================] - 0s 17ms/step - loss: 0.4184 - accuracy: 0.8991\n",
      "Epoch 44/50\n",
      "25/25 [==============================] - 0s 17ms/step - loss: 0.2668 - accuracy: 0.9265\n",
      "Epoch 45/50\n",
      "25/25 [==============================] - 0s 17ms/step - loss: 0.3136 - accuracy: 0.9176\n",
      "Epoch 46/50\n",
      "25/25 [==============================] - 0s 17ms/step - loss: 0.3307 - accuracy: 0.9138\n",
      "Epoch 47/50\n",
      "25/25 [==============================] - 0s 17ms/step - loss: 0.2545 - accuracy: 0.9283\n",
      "Epoch 48/50\n",
      "25/25 [==============================] - 0s 18ms/step - loss: 0.2721 - accuracy: 0.9256\n",
      "Epoch 49/50\n",
      "25/25 [==============================] - 0s 17ms/step - loss: 0.2624 - accuracy: 0.9264\n",
      "Epoch 50/50\n",
      "25/25 [==============================] - 0s 17ms/step - loss: 0.2834 - accuracy: 0.9225\n"
     ]
    }
   ],
   "source": [
    "result = model.fit(X_train, Y_train_onehot, epochs=50, batch_size=2000)"
   ]
  },
  {
   "cell_type": "code",
   "execution_count": 23,
   "metadata": {},
   "outputs": [
    {
     "data": {
      "text/plain": [
       "dict"
      ]
     },
     "execution_count": 23,
     "metadata": {},
     "output_type": "execute_result"
    }
   ],
   "source": [
    "type(result.history)"
   ]
  },
  {
   "cell_type": "code",
   "execution_count": 25,
   "metadata": {},
   "outputs": [
    {
     "data": {
      "text/plain": [
       "dict_keys(['loss', 'accuracy'])"
      ]
     },
     "execution_count": 25,
     "metadata": {},
     "output_type": "execute_result"
    }
   ],
   "source": [
    "result.history.keys()"
   ]
  },
  {
   "cell_type": "code",
   "execution_count": 26,
   "metadata": {},
   "outputs": [
    {
     "data": {
      "text/plain": [
       "0.9268367290496826"
      ]
     },
     "execution_count": 26,
     "metadata": {},
     "output_type": "execute_result"
    }
   ],
   "source": [
    "result.history['accuracy'][-1]"
   ]
  },
  {
   "cell_type": "code",
   "execution_count": null,
   "metadata": {},
   "outputs": [],
   "source": []
  }
 ],
 "metadata": {
  "kernelspec": {
   "display_name": "Python 3",
   "language": "python",
   "name": "python3"
  },
  "language_info": {
   "codemirror_mode": {
    "name": "ipython",
    "version": 3
   },
   "file_extension": ".py",
   "mimetype": "text/x-python",
   "name": "python",
   "nbconvert_exporter": "python",
   "pygments_lexer": "ipython3",
   "version": "3.7.8"
  }
 },
 "nbformat": 4,
 "nbformat_minor": 4
}
