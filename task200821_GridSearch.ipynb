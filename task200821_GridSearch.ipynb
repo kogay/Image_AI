{
 "cells": [
  {
   "cell_type": "code",
   "execution_count": 9,
   "metadata": {},
   "outputs": [],
   "source": [
    "import pandas as pd\n",
    "from sklearn.model_selection import GridSearchCV\n",
    "from sklearn.model_selection import train_test_split\n",
    "from sklearn.metrics import accuracy_score\n",
    "from sklearn.svm import SVC"
   ]
  },
  {
   "cell_type": "code",
   "execution_count": 3,
   "metadata": {},
   "outputs": [
    {
     "name": "stdout",
     "output_type": "stream",
     "text": [
      "<class 'pandas.core.frame.DataFrame'>\n",
      "RangeIndex: 150 entries, 0 to 149\n",
      "Data columns (total 5 columns):\n",
      " #   Column       Non-Null Count  Dtype  \n",
      "---  ------       --------------  -----  \n",
      " 0   SepalLength  150 non-null    float64\n",
      " 1   SepalWidth   150 non-null    float64\n",
      " 2   PetalLength  150 non-null    float64\n",
      " 3   PetalWidth   150 non-null    float64\n",
      " 4   Name         150 non-null    object \n",
      "dtypes: float64(4), object(1)\n",
      "memory usage: 6.0+ KB\n"
     ]
    }
   ],
   "source": [
    "df = pd.read_csv('iris_dataset.csv')\n",
    "df.info()"
   ]
  },
  {
   "cell_type": "code",
   "execution_count": 5,
   "metadata": {},
   "outputs": [],
   "source": [
    "data = df.copy().drop('Name', axis=1)\n",
    "label = df.copy()['Name']"
   ]
  },
  {
   "cell_type": "code",
   "execution_count": 7,
   "metadata": {},
   "outputs": [],
   "source": [
    "train_d, test_d, train_l, test_l = train_test_split(data, label, test_size=0.3)\n",
    "train_d1, train_d2, train_l1, train_l2 = train_test_split(train_d, train_l, test_size=0.3)"
   ]
  },
  {
   "cell_type": "code",
   "execution_count": 20,
   "metadata": {},
   "outputs": [
    {
     "data": {
      "text/plain": [
       "GridSearchCV(cv=4, estimator=SVC(),\n",
       "             param_grid=[{'C': [0.01, 0.1, 1, 5, 10, 50, 100],\n",
       "                          'gamma': [0.001, 0.01, 0.1, 1, 10],\n",
       "                          'kernel': ['rbf']},\n",
       "                         {'C': [0.01, 0.1, 1, 5, 10, 50, 100],\n",
       "                          'kernel': ['linear']}])"
      ]
     },
     "execution_count": 20,
     "metadata": {},
     "output_type": "execute_result"
    }
   ],
   "source": [
    "C = [0.01, 0.1, 1, 5, 10, 50, 100]\n",
    "gamma = [0.001, 0.01, 0.1, 1, 10]\n",
    "\n",
    "param_grid = [{'kernel':['rbf'], 'C':C, 'gamma':gamma}\n",
    "            ,{'kernel':['linear'], 'C':C}]\n",
    "clf = GridSearchCV(SVC(), param_grid, cv=4)\n",
    "clf.fit(train_d, train_l)"
   ]
  },
  {
   "cell_type": "code",
   "execution_count": 26,
   "metadata": {},
   "outputs": [
    {
     "name": "stdout",
     "output_type": "stream",
     "text": [
      "Best score: 97.151%\n",
      "{'C': 1, 'gamma': 0.1, 'kernel': 'rbf'}\n"
     ]
    }
   ],
   "source": [
    "print(f\"Best score: {clf.best_score_*100:.3f}%\")\n",
    "print(clf.best_params_)"
   ]
  },
  {
   "cell_type": "code",
   "execution_count": 22,
   "metadata": {},
   "outputs": [],
   "source": [
    "clf2 = SVC(C=1, gamma=0.1)\n",
    "clf2.fit(train_d, train_l)\n",
    "res = clf2.predict(test_d)"
   ]
  },
  {
   "cell_type": "code",
   "execution_count": 25,
   "metadata": {},
   "outputs": [
    {
     "name": "stdout",
     "output_type": "stream",
     "text": [
      "Score by tuning params: 91.111%\n"
     ]
    }
   ],
   "source": [
    "score = accuracy_score(res, test_l)\n",
    "print(f\"Score by tuning params: {score*100:.3f}%\")"
   ]
  },
  {
   "cell_type": "markdown",
   "metadata": {},
   "source": [
    "### show all scores"
   ]
  },
  {
   "cell_type": "code",
   "execution_count": 31,
   "metadata": {},
   "outputs": [],
   "source": [
    "num = len(clf.cv_results_['params'])"
   ]
  },
  {
   "cell_type": "code",
   "execution_count": 36,
   "metadata": {},
   "outputs": [
    {
     "data": {
      "text/plain": [
       "dict_keys(['mean_fit_time', 'std_fit_time', 'mean_score_time', 'std_score_time', 'param_C', 'param_gamma', 'param_kernel', 'params', 'split0_test_score', 'split1_test_score', 'split2_test_score', 'split3_test_score', 'mean_test_score', 'std_test_score', 'rank_test_score'])"
      ]
     },
     "execution_count": 36,
     "metadata": {},
     "output_type": "execute_result"
    }
   ],
   "source": [
    "clf.cv_results_.keys()"
   ]
  },
  {
   "cell_type": "code",
   "execution_count": 37,
   "metadata": {},
   "outputs": [
    {
     "name": "stdout",
     "output_type": "stream",
     "text": [
      "Params: {'C': 0.01, 'gamma': 0.001, 'kernel': 'rbf'}\t\tScore: 39.103%\n",
      "Params: {'C': 0.01, 'gamma': 0.01, 'kernel': 'rbf'}\t\tScore: 39.103%\n",
      "Params: {'C': 0.01, 'gamma': 0.1, 'kernel': 'rbf'}\t\tScore: 39.103%\n",
      "Params: {'C': 0.01, 'gamma': 1, 'kernel': 'rbf'}\t\tScore: 41.026%\n",
      "Params: {'C': 0.01, 'gamma': 10, 'kernel': 'rbf'}\t\tScore: 40.064%\n",
      "Params: {'C': 0.1, 'gamma': 0.001, 'kernel': 'rbf'}\t\tScore: 39.103%\n",
      "Params: {'C': 0.1, 'gamma': 0.01, 'kernel': 'rbf'}\t\tScore: 39.103%\n",
      "Params: {'C': 0.1, 'gamma': 0.1, 'kernel': 'rbf'}\t\tScore: 92.343%\n",
      "Params: {'C': 0.1, 'gamma': 1, 'kernel': 'rbf'}\t\tScore: 95.228%\n",
      "Params: {'C': 0.1, 'gamma': 10, 'kernel': 'rbf'}\t\tScore: 40.064%\n",
      "Params: {'C': 1, 'gamma': 0.001, 'kernel': 'rbf'}\t\tScore: 39.103%\n",
      "Params: {'C': 1, 'gamma': 0.01, 'kernel': 'rbf'}\t\tScore: 92.343%\n",
      "Params: {'C': 1, 'gamma': 0.1, 'kernel': 'rbf'}\t\tScore: 97.151%\n",
      "Params: {'C': 1, 'gamma': 1, 'kernel': 'rbf'}\t\tScore: 96.189%\n",
      "Params: {'C': 1, 'gamma': 10, 'kernel': 'rbf'}\t\tScore: 92.343%\n",
      "Params: {'C': 5, 'gamma': 0.001, 'kernel': 'rbf'}\t\tScore: 91.417%\n",
      "Params: {'C': 5, 'gamma': 0.01, 'kernel': 'rbf'}\t\tScore: 96.189%\n",
      "Params: {'C': 5, 'gamma': 0.1, 'kernel': 'rbf'}\t\tScore: 97.151%\n",
      "Params: {'C': 5, 'gamma': 1, 'kernel': 'rbf'}\t\tScore: 95.228%\n",
      "Params: {'C': 5, 'gamma': 10, 'kernel': 'rbf'}\t\tScore: 92.343%\n",
      "Params: {'C': 10, 'gamma': 0.001, 'kernel': 'rbf'}\t\tScore: 92.343%\n",
      "Params: {'C': 10, 'gamma': 0.01, 'kernel': 'rbf'}\t\tScore: 97.151%\n",
      "Params: {'C': 10, 'gamma': 0.1, 'kernel': 'rbf'}\t\tScore: 97.151%\n",
      "Params: {'C': 10, 'gamma': 1, 'kernel': 'rbf'}\t\tScore: 95.228%\n",
      "Params: {'C': 10, 'gamma': 10, 'kernel': 'rbf'}\t\tScore: 92.343%\n",
      "Params: {'C': 50, 'gamma': 0.001, 'kernel': 'rbf'}\t\tScore: 96.189%\n",
      "Params: {'C': 50, 'gamma': 0.01, 'kernel': 'rbf'}\t\tScore: 97.151%\n",
      "Params: {'C': 50, 'gamma': 0.1, 'kernel': 'rbf'}\t\tScore: 95.228%\n",
      "Params: {'C': 50, 'gamma': 1, 'kernel': 'rbf'}\t\tScore: 94.266%\n",
      "Params: {'C': 50, 'gamma': 10, 'kernel': 'rbf'}\t\tScore: 92.343%\n",
      "Params: {'C': 100, 'gamma': 0.001, 'kernel': 'rbf'}\t\tScore: 97.151%\n",
      "Params: {'C': 100, 'gamma': 0.01, 'kernel': 'rbf'}\t\tScore: 97.151%\n",
      "Params: {'C': 100, 'gamma': 0.1, 'kernel': 'rbf'}\t\tScore: 95.228%\n",
      "Params: {'C': 100, 'gamma': 1, 'kernel': 'rbf'}\t\tScore: 93.305%\n",
      "Params: {'C': 100, 'gamma': 10, 'kernel': 'rbf'}\t\tScore: 92.343%\n",
      "Params: {'C': 0.01, 'kernel': 'linear'}\t\tScore: 91.417%\n",
      "Params: {'C': 0.1, 'kernel': 'linear'}\t\tScore: 96.189%\n",
      "Params: {'C': 1, 'kernel': 'linear'}\t\tScore: 97.151%\n",
      "Params: {'C': 5, 'kernel': 'linear'}\t\tScore: 96.189%\n",
      "Params: {'C': 10, 'kernel': 'linear'}\t\tScore: 96.189%\n",
      "Params: {'C': 50, 'kernel': 'linear'}\t\tScore: 95.228%\n",
      "Params: {'C': 100, 'kernel': 'linear'}\t\tScore: 95.228%\n"
     ]
    }
   ],
   "source": [
    "for i in range(num):\n",
    "    i_params = clf.cv_results_['params'][i]\n",
    "    i_score = clf.cv_results_['mean_test_score'][i]\n",
    "    print(f\"Params: {i_params}\\t\\tScore: {i_score*100:.3f}%\")"
   ]
  },
  {
   "cell_type": "code",
   "execution_count": null,
   "metadata": {},
   "outputs": [],
   "source": []
  }
 ],
 "metadata": {
  "kernelspec": {
   "display_name": "Python 3",
   "language": "python",
   "name": "python3"
  },
  "language_info": {
   "codemirror_mode": {
    "name": "ipython",
    "version": 3
   },
   "file_extension": ".py",
   "mimetype": "text/x-python",
   "name": "python",
   "nbconvert_exporter": "python",
   "pygments_lexer": "ipython3",
   "version": "3.7.8"
  }
 },
 "nbformat": 4,
 "nbformat_minor": 4
}
