{
 "cells": [
  {
   "cell_type": "code",
   "execution_count": 1,
   "metadata": {},
   "outputs": [
    {
     "name": "stderr",
     "output_type": "stream",
     "text": [
      "/home/user/.pyenv/versions/3.7.8/lib/python3.7/importlib/_bootstrap.py:219: RuntimeWarning: numpy.ufunc size changed, may indicate binary incompatibility. Expected 192 from C header, got 216 from PyObject\n",
      "  return f(*args, **kwds)\n",
      "/home/user/.pyenv/versions/3.7.8/lib/python3.7/importlib/_bootstrap.py:219: RuntimeWarning: numpy.ufunc size changed, may indicate binary incompatibility. Expected 192 from C header, got 216 from PyObject\n",
      "  return f(*args, **kwds)\n",
      "/home/user/.pyenv/versions/3.7.8/lib/python3.7/importlib/_bootstrap.py:219: RuntimeWarning: numpy.ufunc size changed, may indicate binary incompatibility. Expected 192 from C header, got 216 from PyObject\n",
      "  return f(*args, **kwds)\n"
     ]
    }
   ],
   "source": [
    "import numpy as np\n",
    "from sklearn.model_selection import train_test_split\n",
    "from sklearn.metrics import accuracy_score\n",
    "from tensorflow.keras.models import Sequential\n",
    "from tensorflow.keras.layers import Dense\n",
    "from tensorflow.keras.optimizers import SGD, Adam"
   ]
  },
  {
   "cell_type": "code",
   "execution_count": 7,
   "metadata": {},
   "outputs": [],
   "source": [
    "from tensorflow.keras.utils import to_categorical"
   ]
  },
  {
   "cell_type": "code",
   "execution_count": 2,
   "metadata": {},
   "outputs": [],
   "source": [
    "X = np.load('./mnist_data.npz')\n",
    "T = np.load('./mnist_target.npz')"
   ]
  },
  {
   "cell_type": "code",
   "execution_count": 4,
   "metadata": {},
   "outputs": [],
   "source": [
    "X = X['arr_0']\n",
    "T = T['arr_0']"
   ]
  },
  {
   "cell_type": "code",
   "execution_count": 5,
   "metadata": {},
   "outputs": [],
   "source": [
    "X_train, X_test, T_train, T_test = train_test_split(X, T, test_size=0.3, stratify=T, random_state=1)"
   ]
  },
  {
   "cell_type": "code",
   "execution_count": 8,
   "metadata": {},
   "outputs": [
    {
     "data": {
      "text/plain": [
       "array([[0., 0., 0., ..., 0., 0., 0.],\n",
       "       [0., 0., 0., ..., 0., 0., 0.],\n",
       "       [0., 0., 0., ..., 0., 0., 0.],\n",
       "       ...,\n",
       "       [0., 0., 0., ..., 1., 0., 0.],\n",
       "       [0., 0., 0., ..., 1., 0., 0.],\n",
       "       [0., 1., 0., ..., 0., 0., 0.]], dtype=float32)"
      ]
     },
     "execution_count": 8,
     "metadata": {},
     "output_type": "execute_result"
    }
   ],
   "source": [
    "T_train = to_categorical(T_train)\n",
    "T_train"
   ]
  },
  {
   "cell_type": "code",
   "execution_count": 11,
   "metadata": {},
   "outputs": [
    {
     "data": {
      "text/plain": [
       "(49000, 784)"
      ]
     },
     "execution_count": 11,
     "metadata": {},
     "output_type": "execute_result"
    }
   ],
   "source": [
    "X_train.shape"
   ]
  },
  {
   "cell_type": "code",
   "execution_count": 13,
   "metadata": {},
   "outputs": [
    {
     "data": {
      "text/plain": [
       "(49000, 10)"
      ]
     },
     "execution_count": 13,
     "metadata": {},
     "output_type": "execute_result"
    }
   ],
   "source": [
    "T_train.shape"
   ]
  },
  {
   "cell_type": "code",
   "execution_count": 14,
   "metadata": {},
   "outputs": [],
   "source": [
    "model = Sequential()\n",
    "model.add(Dense(input_dim=784, units=2000, activation='relu'))\n",
    "model.add(Dense(units=10, activation='softmax'))"
   ]
  },
  {
   "cell_type": "code",
   "execution_count": 16,
   "metadata": {},
   "outputs": [],
   "source": [
    "model.compile(loss='categorical_crossentropy', optimizer=SGD(lr=0.02), metrics='accuracy')"
   ]
  },
  {
   "cell_type": "code",
   "execution_count": 17,
   "metadata": {},
   "outputs": [
    {
     "name": "stdout",
     "output_type": "stream",
     "text": [
      "Epoch 1/20\n",
      "48/48 [==============================] - 3s 56ms/step - loss: 14626.9551 - accuracy: 0.1674\n",
      "Epoch 2/20\n",
      "48/48 [==============================] - 3s 52ms/step - loss: 1.8722 - accuracy: 0.4554\n",
      "Epoch 3/20\n",
      "48/48 [==============================] - 3s 55ms/step - loss: 2.3020 - accuracy: 0.4690\n",
      "Epoch 4/20\n",
      "48/48 [==============================] - 3s 55ms/step - loss: 1.1945 - accuracy: 0.6284\n",
      "Epoch 5/20\n",
      "48/48 [==============================] - 3s 55ms/step - loss: 0.9455 - accuracy: 0.7206\n",
      "Epoch 6/20\n",
      "48/48 [==============================] - 3s 56ms/step - loss: 1.4313 - accuracy: 0.5222\n",
      "Epoch 7/20\n",
      "48/48 [==============================] - 3s 56ms/step - loss: 1.1597 - accuracy: 0.6119\n",
      "Epoch 8/20\n",
      "48/48 [==============================] - 3s 57ms/step - loss: 1.0365 - accuracy: 0.6686\n",
      "Epoch 9/20\n",
      "48/48 [==============================] - 3s 58ms/step - loss: 1.0754 - accuracy: 0.6749\n",
      "Epoch 10/20\n",
      "48/48 [==============================] - 3s 58ms/step - loss: 0.9775 - accuracy: 0.7000\n",
      "Epoch 11/20\n",
      "48/48 [==============================] - 3s 59ms/step - loss: 0.8277 - accuracy: 0.7629\n",
      "Epoch 12/20\n",
      "48/48 [==============================] - 3s 59ms/step - loss: 0.7577 - accuracy: 0.8017\n",
      "Epoch 13/20\n",
      "48/48 [==============================] - 3s 60ms/step - loss: 0.7122 - accuracy: 0.8085\n",
      "Epoch 14/20\n",
      "48/48 [==============================] - 3s 61ms/step - loss: 0.8429 - accuracy: 0.7300\n",
      "Epoch 15/20\n",
      "48/48 [==============================] - 3s 62ms/step - loss: 0.8104 - accuracy: 0.7306\n",
      "Epoch 16/20\n",
      "48/48 [==============================] - 3s 62ms/step - loss: 0.8301 - accuracy: 0.7260\n",
      "Epoch 17/20\n",
      "48/48 [==============================] - 3s 62ms/step - loss: 1.1321 - accuracy: 0.6642\n",
      "Epoch 18/20\n",
      "48/48 [==============================] - 3s 63ms/step - loss: 0.7949 - accuracy: 0.7548\n",
      "Epoch 19/20\n",
      "48/48 [==============================] - 3s 63ms/step - loss: 0.6778 - accuracy: 0.8069\n",
      "Epoch 20/20\n",
      "48/48 [==============================] - 3s 64ms/step - loss: 0.6749 - accuracy: 0.8081\n"
     ]
    }
   ],
   "source": [
    "result = model.fit(X_train, T_train, epochs=20, batch_size=1024)"
   ]
  },
  {
   "cell_type": "code",
   "execution_count": 21,
   "metadata": {},
   "outputs": [
    {
     "data": {
      "text/plain": [
       "dict_keys(['loss', 'accuracy'])"
      ]
     },
     "execution_count": 21,
     "metadata": {},
     "output_type": "execute_result"
    }
   ],
   "source": [
    "result.history.keys()"
   ]
  },
  {
   "cell_type": "code",
   "execution_count": 24,
   "metadata": {},
   "outputs": [
    {
     "data": {
      "text/plain": [
       "[7756.75634765625,\n",
       " 1.6850441694259644,\n",
       " 1.8076858520507812,\n",
       " 1.1030594110488892,\n",
       " 0.9748391509056091,\n",
       " 1.4111003875732422,\n",
       " 1.0866498947143555,\n",
       " 1.0043630599975586,\n",
       " 1.169468879699707,\n",
       " 0.9048274755477905,\n",
       " 0.8298661708831787,\n",
       " 0.7381597757339478,\n",
       " 0.7494398355484009,\n",
       " 0.8319398164749146,\n",
       " 0.8399221301078796,\n",
       " 0.8026561737060547,\n",
       " 1.0515992641448975,\n",
       " 0.7560830116271973,\n",
       " 0.6808692812919617,\n",
       " 0.6633198857307434]"
      ]
     },
     "execution_count": 24,
     "metadata": {},
     "output_type": "execute_result"
    }
   ],
   "source": [
    "result.history['loss']"
   ]
  },
  {
   "cell_type": "code",
   "execution_count": 22,
   "metadata": {},
   "outputs": [],
   "source": [
    "from matplotlib import pyplot as plt"
   ]
  },
  {
   "cell_type": "code",
   "execution_count": 39,
   "metadata": {},
   "outputs": [
    {
     "data": {
      "image/png": "[encoded data removed]",
      "text/plain": [
       "<Figure size 432x288 with 1 Axes>"
      ]
     },
     "metadata": {
      "needs_background": "light"
     },
     "output_type": "display_data"
    }
   ],
   "source": [
    "plt.plot(result.history['loss'], label='loss')\n",
    "plt.plot(result.history['accuracy'], label='accuracy')\n",
    "plt.ylim([0, 2])\n",
    "plt.xticks(ticks=np.arange(20))\n",
    "plt.legend()\n",
    "plt.show()"
   ]
  },
  {
   "cell_type": "code",
   "execution_count": null,
   "metadata": {},
   "outputs": [],
   "source": []
  }
 ],
 "metadata": {
  "kernelspec": {
   "display_name": "Python 3",
   "language": "python",
   "name": "python3"
  },
  "language_info": {
   "codemirror_mode": {
    "name": "ipython",
    "version": 3
   },
   "file_extension": ".py",
   "mimetype": "text/x-python",
   "name": "python",
   "nbconvert_exporter": "python",
   "pygments_lexer": "ipython3",
   "version": "3.7.8"
  }
 },
 "nbformat": 4,
 "nbformat_minor": 4
}
