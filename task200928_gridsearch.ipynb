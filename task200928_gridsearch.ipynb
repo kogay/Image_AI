{
 "cells": [
  {
   "cell_type": "code",
   "execution_count": 1,
   "metadata": {},
   "outputs": [],
   "source": [
    "import pandas as pd\n",
    "import numpy as np\n",
    "from sklearn.svm import SVC\n",
    "from sklearn.model_selection import GridSearchCV, train_test_split"
   ]
  },
  {
   "cell_type": "code",
   "execution_count": 2,
   "metadata": {},
   "outputs": [
    {
     "name": "stdout",
     "output_type": "stream",
     "text": [
      "<class 'pandas.core.frame.DataFrame'>\n",
      "RangeIndex: 178 entries, 0 to 177\n",
      "Data columns (total 14 columns):\n",
      " #   Column                        Non-Null Count  Dtype  \n",
      "---  ------                        --------------  -----  \n",
      " 0   alcohol                       178 non-null    float64\n",
      " 1   malic_acid                    178 non-null    float64\n",
      " 2   ash                           178 non-null    float64\n",
      " 3   alcalinity_of_ash             178 non-null    float64\n",
      " 4   magnesium                     178 non-null    float64\n",
      " 5   total_phenols                 178 non-null    float64\n",
      " 6   flavanoids                    178 non-null    float64\n",
      " 7   nonflavanoid_phenols          178 non-null    float64\n",
      " 8   proanthocyanins               178 non-null    float64\n",
      " 9   color_intensity               178 non-null    float64\n",
      " 10  hue                           178 non-null    float64\n",
      " 11  od280/od315_of_diluted_wines  178 non-null    float64\n",
      " 12  proline                       178 non-null    float64\n",
      " 13  label                         178 non-null    int64  \n",
      "dtypes: float64(13), int64(1)\n",
      "memory usage: 19.6 KB\n"
     ]
    }
   ],
   "source": [
    "df = pd.read_csv('wine.csv')\n",
    "df.info()"
   ]
  },
  {
   "cell_type": "code",
   "execution_count": 3,
   "metadata": {},
   "outputs": [],
   "source": [
    "data = df.drop('label', axis=1)\n",
    "label = df['label']"
   ]
  },
  {
   "cell_type": "code",
   "execution_count": 4,
   "metadata": {},
   "outputs": [],
   "source": [
    "train_d, test_d, train_l, test_l = train_test_split(data, label, test_size=0.3, random_state=0)"
   ]
  },
  {
   "cell_type": "code",
   "execution_count": 5,
   "metadata": {},
   "outputs": [],
   "source": [
    "param_grid = {'C': [0.1, 1, 10, 1e2, 1e3, 1e4, 1e5], 'gamma': [1e-10, 1e-9, 1e-8, 1e-7, 1e-6, 1e-5, 1e-4, 1e-3, 1e-2, 0.1,1]}\n",
    "\n",
    "clf = GridSearchCV(SVC(), param_grid, cv=4)\n",
    "clf.fit(train_d, train_l)\n",
    "res = clf.cv_results_\n",
    "\n",
    "res_df = pd.DataFrame(res)"
   ]
  },
  {
   "cell_type": "code",
   "execution_count": 6,
   "metadata": {},
   "outputs": [
    {
     "data": {
      "text/html": [
       "<div>\n",
       "<style scoped>\n",
       "    .dataframe tbody tr th:only-of-type {\n",
       "        vertical-align: middle;\n",
       "    }\n",
       "\n",
       "    .dataframe tbody tr th {\n",
       "        vertical-align: top;\n",
       "    }\n",
       "\n",
       "    .dataframe thead th {\n",
       "        text-align: right;\n",
       "    }\n",
       "</style>\n",
       "<table border=\"1\" class=\"dataframe\">\n",
       "  <thead>\n",
       "    <tr style=\"text-align: right;\">\n",
       "      <th></th>\n",
       "      <th>mean_fit_time</th>\n",
       "      <th>std_fit_time</th>\n",
       "      <th>mean_score_time</th>\n",
       "      <th>std_score_time</th>\n",
       "      <th>param_C</th>\n",
       "      <th>param_gamma</th>\n",
       "      <th>params</th>\n",
       "      <th>split0_test_score</th>\n",
       "      <th>split1_test_score</th>\n",
       "      <th>split2_test_score</th>\n",
       "      <th>split3_test_score</th>\n",
       "      <th>mean_test_score</th>\n",
       "      <th>std_test_score</th>\n",
       "      <th>rank_test_score</th>\n",
       "    </tr>\n",
       "  </thead>\n",
       "  <tbody>\n",
       "    <tr>\n",
       "      <th>0</th>\n",
       "      <td>0.003144</td>\n",
       "      <td>0.000600</td>\n",
       "      <td>0.001852</td>\n",
       "      <td>0.000180</td>\n",
       "      <td>0.1</td>\n",
       "      <td>1e-10</td>\n",
       "      <td>{'C': 0.1, 'gamma': 1e-10}</td>\n",
       "      <td>0.419355</td>\n",
       "      <td>0.387097</td>\n",
       "      <td>0.387097</td>\n",
       "      <td>0.387097</td>\n",
       "      <td>0.395161</td>\n",
       "      <td>0.013968</td>\n",
       "      <td>52</td>\n",
       "    </tr>\n",
       "    <tr>\n",
       "      <th>1</th>\n",
       "      <td>0.003274</td>\n",
       "      <td>0.000419</td>\n",
       "      <td>0.001824</td>\n",
       "      <td>0.000273</td>\n",
       "      <td>0.1</td>\n",
       "      <td>1e-09</td>\n",
       "      <td>{'C': 0.1, 'gamma': 1e-09}</td>\n",
       "      <td>0.419355</td>\n",
       "      <td>0.387097</td>\n",
       "      <td>0.387097</td>\n",
       "      <td>0.387097</td>\n",
       "      <td>0.395161</td>\n",
       "      <td>0.013968</td>\n",
       "      <td>52</td>\n",
       "    </tr>\n",
       "    <tr>\n",
       "      <th>2</th>\n",
       "      <td>0.002623</td>\n",
       "      <td>0.000166</td>\n",
       "      <td>0.001481</td>\n",
       "      <td>0.000061</td>\n",
       "      <td>0.1</td>\n",
       "      <td>1e-08</td>\n",
       "      <td>{'C': 0.1, 'gamma': 1e-08}</td>\n",
       "      <td>0.419355</td>\n",
       "      <td>0.387097</td>\n",
       "      <td>0.387097</td>\n",
       "      <td>0.387097</td>\n",
       "      <td>0.395161</td>\n",
       "      <td>0.013968</td>\n",
       "      <td>52</td>\n",
       "    </tr>\n",
       "    <tr>\n",
       "      <th>3</th>\n",
       "      <td>0.002491</td>\n",
       "      <td>0.000458</td>\n",
       "      <td>0.001473</td>\n",
       "      <td>0.000079</td>\n",
       "      <td>0.1</td>\n",
       "      <td>1e-07</td>\n",
       "      <td>{'C': 0.1, 'gamma': 1e-07}</td>\n",
       "      <td>0.419355</td>\n",
       "      <td>0.387097</td>\n",
       "      <td>0.387097</td>\n",
       "      <td>0.387097</td>\n",
       "      <td>0.395161</td>\n",
       "      <td>0.013968</td>\n",
       "      <td>52</td>\n",
       "    </tr>\n",
       "    <tr>\n",
       "      <th>4</th>\n",
       "      <td>0.002192</td>\n",
       "      <td>0.000137</td>\n",
       "      <td>0.001350</td>\n",
       "      <td>0.000012</td>\n",
       "      <td>0.1</td>\n",
       "      <td>1e-06</td>\n",
       "      <td>{'C': 0.1, 'gamma': 1e-06}</td>\n",
       "      <td>0.645161</td>\n",
       "      <td>0.677419</td>\n",
       "      <td>0.709677</td>\n",
       "      <td>0.612903</td>\n",
       "      <td>0.661290</td>\n",
       "      <td>0.036066</td>\n",
       "      <td>36</td>\n",
       "    </tr>\n",
       "  </tbody>\n",
       "</table>\n",
       "</div>"
      ],
      "text/plain": [
       "   mean_fit_time  std_fit_time  mean_score_time  std_score_time param_C  \\\n",
       "0       0.003144      0.000600         0.001852        0.000180     0.1   \n",
       "1       0.003274      0.000419         0.001824        0.000273     0.1   \n",
       "2       0.002623      0.000166         0.001481        0.000061     0.1   \n",
       "3       0.002491      0.000458         0.001473        0.000079     0.1   \n",
       "4       0.002192      0.000137         0.001350        0.000012     0.1   \n",
       "\n",
       "  param_gamma                      params  split0_test_score  \\\n",
       "0       1e-10  {'C': 0.1, 'gamma': 1e-10}           0.419355   \n",
       "1       1e-09  {'C': 0.1, 'gamma': 1e-09}           0.419355   \n",
       "2       1e-08  {'C': 0.1, 'gamma': 1e-08}           0.419355   \n",
       "3       1e-07  {'C': 0.1, 'gamma': 1e-07}           0.419355   \n",
       "4       1e-06  {'C': 0.1, 'gamma': 1e-06}           0.645161   \n",
       "\n",
       "   split1_test_score  split2_test_score  split3_test_score  mean_test_score  \\\n",
       "0           0.387097           0.387097           0.387097         0.395161   \n",
       "1           0.387097           0.387097           0.387097         0.395161   \n",
       "2           0.387097           0.387097           0.387097         0.395161   \n",
       "3           0.387097           0.387097           0.387097         0.395161   \n",
       "4           0.677419           0.709677           0.612903         0.661290   \n",
       "\n",
       "   std_test_score  rank_test_score  \n",
       "0        0.013968               52  \n",
       "1        0.013968               52  \n",
       "2        0.013968               52  \n",
       "3        0.013968               52  \n",
       "4        0.036066               36  "
      ]
     },
     "execution_count": 6,
     "metadata": {},
     "output_type": "execute_result"
    }
   ],
   "source": [
    "res_df.head()"
   ]
  },
  {
   "cell_type": "code",
   "execution_count": 8,
   "metadata": {},
   "outputs": [
    {
     "data": {
      "text/html": [
       "<div>\n",
       "<style scoped>\n",
       "    .dataframe tbody tr th:only-of-type {\n",
       "        vertical-align: middle;\n",
       "    }\n",
       "\n",
       "    .dataframe tbody tr th {\n",
       "        vertical-align: top;\n",
       "    }\n",
       "\n",
       "    .dataframe thead th {\n",
       "        text-align: right;\n",
       "    }\n",
       "</style>\n",
       "<table border=\"1\" class=\"dataframe\">\n",
       "  <thead>\n",
       "    <tr style=\"text-align: right;\">\n",
       "      <th></th>\n",
       "      <th>mean_fit_time</th>\n",
       "      <th>std_fit_time</th>\n",
       "      <th>mean_score_time</th>\n",
       "      <th>std_score_time</th>\n",
       "      <th>param_C</th>\n",
       "      <th>param_gamma</th>\n",
       "      <th>params</th>\n",
       "      <th>split0_test_score</th>\n",
       "      <th>split1_test_score</th>\n",
       "      <th>split2_test_score</th>\n",
       "      <th>split3_test_score</th>\n",
       "      <th>mean_test_score</th>\n",
       "      <th>std_test_score</th>\n",
       "      <th>rank_test_score</th>\n",
       "    </tr>\n",
       "  </thead>\n",
       "  <tbody>\n",
       "    <tr>\n",
       "      <th>69</th>\n",
       "      <td>0.003813</td>\n",
       "      <td>0.000863</td>\n",
       "      <td>0.001347</td>\n",
       "      <td>0.000062</td>\n",
       "      <td>100000</td>\n",
       "      <td>1e-07</td>\n",
       "      <td>{'C': 100000.0, 'gamma': 1e-07}</td>\n",
       "      <td>0.838710</td>\n",
       "      <td>0.967742</td>\n",
       "      <td>1.0</td>\n",
       "      <td>0.903226</td>\n",
       "      <td>0.927419</td>\n",
       "      <td>0.061945</td>\n",
       "      <td>1</td>\n",
       "    </tr>\n",
       "    <tr>\n",
       "      <th>70</th>\n",
       "      <td>0.006610</td>\n",
       "      <td>0.003408</td>\n",
       "      <td>0.001309</td>\n",
       "      <td>0.000002</td>\n",
       "      <td>100000</td>\n",
       "      <td>1e-06</td>\n",
       "      <td>{'C': 100000.0, 'gamma': 1e-06}</td>\n",
       "      <td>0.806452</td>\n",
       "      <td>0.870968</td>\n",
       "      <td>1.0</td>\n",
       "      <td>0.967742</td>\n",
       "      <td>0.911290</td>\n",
       "      <td>0.076931</td>\n",
       "      <td>2</td>\n",
       "    </tr>\n",
       "    <tr>\n",
       "      <th>59</th>\n",
       "      <td>0.003297</td>\n",
       "      <td>0.000656</td>\n",
       "      <td>0.001310</td>\n",
       "      <td>0.000002</td>\n",
       "      <td>10000</td>\n",
       "      <td>1e-06</td>\n",
       "      <td>{'C': 10000.0, 'gamma': 1e-06}</td>\n",
       "      <td>0.774194</td>\n",
       "      <td>0.903226</td>\n",
       "      <td>1.0</td>\n",
       "      <td>0.870968</td>\n",
       "      <td>0.887097</td>\n",
       "      <td>0.080645</td>\n",
       "      <td>3</td>\n",
       "    </tr>\n",
       "  </tbody>\n",
       "</table>\n",
       "</div>"
      ],
      "text/plain": [
       "    mean_fit_time  std_fit_time  mean_score_time  std_score_time param_C  \\\n",
       "69       0.003813      0.000863         0.001347        0.000062  100000   \n",
       "70       0.006610      0.003408         0.001309        0.000002  100000   \n",
       "59       0.003297      0.000656         0.001310        0.000002   10000   \n",
       "\n",
       "   param_gamma                           params  split0_test_score  \\\n",
       "69       1e-07  {'C': 100000.0, 'gamma': 1e-07}           0.838710   \n",
       "70       1e-06  {'C': 100000.0, 'gamma': 1e-06}           0.806452   \n",
       "59       1e-06   {'C': 10000.0, 'gamma': 1e-06}           0.774194   \n",
       "\n",
       "    split1_test_score  split2_test_score  split3_test_score  mean_test_score  \\\n",
       "69           0.967742                1.0           0.903226         0.927419   \n",
       "70           0.870968                1.0           0.967742         0.911290   \n",
       "59           0.903226                1.0           0.870968         0.887097   \n",
       "\n",
       "    std_test_score  rank_test_score  \n",
       "69        0.061945                1  \n",
       "70        0.076931                2  \n",
       "59        0.080645                3  "
      ]
     },
     "execution_count": 8,
     "metadata": {},
     "output_type": "execute_result"
    }
   ],
   "source": [
    "res_df.sort_values('rank_test_score').head(3)"
   ]
  },
  {
   "cell_type": "code",
   "execution_count": 9,
   "metadata": {},
   "outputs": [],
   "source": [
    "param_C = [res_df.loc[69].param_C, res_df.loc[70].param_C, res_df.loc[59].param_C]\n",
    "param_gamma = [res_df.loc[69].param_gamma, res_df.loc[70].param_gamma, res_df.loc[59].param_gamma]"
   ]
  },
  {
   "cell_type": "code",
   "execution_count": 11,
   "metadata": {},
   "outputs": [
    {
     "name": "stdout",
     "output_type": "stream",
     "text": [
      "C=100000.0,\tgamma=1e-07\tScore: 96.296%\n",
      "C=100000.0,\tgamma=1e-06\tScore: 98.148%\n",
      "C=10000.0,\tgamma=1e-06\tScore: 94.444%\n"
     ]
    }
   ],
   "source": [
    "for i in range(len(param_C)):\n",
    "    clf = SVC(C=param_C[i], gamma=param_gamma[i])\n",
    "    clf.fit(train_d, train_l)\n",
    "    print(f\"C={param_C[i]},\\tgamma={param_gamma[i]}\\tScore: {clf.score(test_d, test_l)*100:.3f}%\")"
   ]
  },
  {
   "cell_type": "code",
   "execution_count": 38,
   "metadata": {},
   "outputs": [
    {
     "name": "stdout",
     "output_type": "stream",
     "text": [
      "C=100000.0,\tgamma=1e-07\tAveScore: 94.057%\n",
      "C=100000.0,\tgamma=1e-06\tAveScore: 94.639%\n",
      "C=10000.0,\tgamma=1e-06\tAveScore: 93.395%\n"
     ]
    }
   ],
   "source": [
    "score1 = []\n",
    "score2 = []\n",
    "score3 = []\n",
    "for n in range(1,1000):\n",
    "    train_d, test_d, train_l, test_l = train_test_split(data, label, test_size=0.3, random_state=n)\n",
    "    for i in range(len(param_C)):\n",
    "        clf = SVC(C=param_C[i], gamma=param_gamma[i])\n",
    "        clf.fit(train_d, train_l)\n",
    "        if i == 0:\n",
    "            score1.append(clf.score(test_d, test_l))\n",
    "        elif i == 1:\n",
    "            score2.append(clf.score(test_d, test_l))\n",
    "        elif i == 2:\n",
    "            score3.append(clf.score(test_d, test_l))\n",
    "\n",
    "scores = [np.mean(score1), np.mean(score2), np.mean(score3)]\n",
    "for i in range(len(param_C)):\n",
    "    print(f\"C={param_C[i]},\\tgamma={param_gamma[i]}\\tAveScore: {scores[i]*100:.3f}%\")"
   ]
  },
  {
   "cell_type": "code",
   "execution_count": 40,
   "metadata": {},
   "outputs": [
    {
     "data": {
      "image/png": "[encoded data removed]",
      "text/plain": [
       "<Figure size 432x288 with 1 Axes>"
      ]
     },
     "metadata": {
      "needs_background": "light"
     },
     "output_type": "display_data"
    }
   ],
   "source": [
    "from matplotlib import pyplot as plt\n",
    "\n",
    "plt.hist(score1, label='C=100000, gamma=1e-07', alpha=0.5)\n",
    "plt.hist(score2, label='C=100000, gamma=1e-06', alpha=0.5)\n",
    "plt.hist(score3, label='C=10000, gamma=1e-06', alpha=0.5)\n",
    "plt.legend()\n",
    "plt.title('Histgram of accuracy for 3 different params')\n",
    "plt.show()"
   ]
  },
  {
   "cell_type": "code",
   "execution_count": null,
   "metadata": {},
   "outputs": [],
   "source": []
  }
 ],
 "metadata": {
  "kernelspec": {
   "display_name": "Python 3",
   "language": "python",
   "name": "python3"
  },
  "language_info": {
   "codemirror_mode": {
    "name": "ipython",
    "version": 3
   },
   "file_extension": ".py",
   "mimetype": "text/x-python",
   "name": "python",
   "nbconvert_exporter": "python",
   "pygments_lexer": "ipython3",
   "version": "3.7.6"
  }
 },
 "nbformat": 4,
 "nbformat_minor": 4
}
