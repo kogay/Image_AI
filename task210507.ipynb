{
 "cells": [
  {
   "cell_type": "code",
   "execution_count": 15,
   "metadata": {},
   "outputs": [],
   "source": [
    "import numpy as np\n",
    "from sklearn.model_selection import train_test_split\n",
    "from sklearn.metrics import accuracy_score\n",
    "\n",
    "from tensorflow.keras.models import Sequential\n",
    "from tensorflow.keras.layers import Dense\n",
    "from tensorflow.keras.optimizers import SGD,Adam\n",
    "from tensorflow.keras.utils import to_categorical"
   ]
  },
  {
   "cell_type": "code",
   "execution_count": 2,
   "metadata": {},
   "outputs": [],
   "source": [
    "X = np.load('./mnist_data.npz')\n",
    "T = np.load('./mnist_target.npz')"
   ]
  },
  {
   "cell_type": "code",
   "execution_count": 4,
   "metadata": {},
   "outputs": [],
   "source": [
    "X = X['arr_0']\n",
    "T = T['arr_0']"
   ]
  },
  {
   "cell_type": "code",
   "execution_count": 5,
   "metadata": {},
   "outputs": [],
   "source": [
    "X_train, X_test, T_train, T_test = train_test_split(X, T, test_size=0.3, stratify=T, random_state=1)"
   ]
  },
  {
   "cell_type": "code",
   "execution_count": 9,
   "metadata": {},
   "outputs": [
    {
     "data": {
      "text/plain": [
       "(49000,)"
      ]
     },
     "execution_count": 9,
     "metadata": {},
     "output_type": "execute_result"
    }
   ],
   "source": [
    "T_train.shape"
   ]
  },
  {
   "cell_type": "code",
   "execution_count": 10,
   "metadata": {},
   "outputs": [
    {
     "data": {
      "text/plain": [
       "(49000, 784)"
      ]
     },
     "execution_count": 10,
     "metadata": {},
     "output_type": "execute_result"
    }
   ],
   "source": [
    "X_train.shape"
   ]
  },
  {
   "cell_type": "code",
   "execution_count": 11,
   "metadata": {},
   "outputs": [],
   "source": [
    "T_train_categorical = to_categorical(T_train)"
   ]
  },
  {
   "cell_type": "code",
   "execution_count": 12,
   "metadata": {},
   "outputs": [
    {
     "data": {
      "text/plain": [
       "array([[0., 0., 0., ..., 0., 0., 0.],\n",
       "       [0., 0., 0., ..., 0., 0., 0.],\n",
       "       [0., 0., 0., ..., 0., 0., 0.],\n",
       "       ...,\n",
       "       [0., 0., 0., ..., 1., 0., 0.],\n",
       "       [0., 0., 0., ..., 1., 0., 0.],\n",
       "       [0., 1., 0., ..., 0., 0., 0.]], dtype=float32)"
      ]
     },
     "execution_count": 12,
     "metadata": {},
     "output_type": "execute_result"
    }
   ],
   "source": [
    "T_train_categorical"
   ]
  },
  {
   "cell_type": "code",
   "execution_count": 13,
   "metadata": {},
   "outputs": [
    {
     "data": {
      "text/plain": [
       "(49000, 10)"
      ]
     },
     "execution_count": 13,
     "metadata": {},
     "output_type": "execute_result"
    }
   ],
   "source": [
    "T_train_categorical.shape"
   ]
  },
  {
   "cell_type": "code",
   "execution_count": 18,
   "metadata": {},
   "outputs": [],
   "source": [
    "model = Sequential()\n",
    "model.add(Dense(input_dim=784, units=2000, activation='sigmoid'))\n",
    "model.add(Dense(units=10, activation='softmax'))\n",
    "model.compile(loss='categorical_crossentropy', metrics='accuracy', optimizer=SGD(lr=0.01))"
   ]
  },
  {
   "cell_type": "code",
   "execution_count": 19,
   "metadata": {},
   "outputs": [
    {
     "name": "stdout",
     "output_type": "stream",
     "text": [
      "Epoch 1/50\n",
      "24/24 [==============================] - 3s 98ms/step - loss: 1.8792 - accuracy: 0.4030\n",
      "Epoch 2/50\n",
      "24/24 [==============================] - 2s 98ms/step - loss: 0.8662 - accuracy: 0.8005\n",
      "Epoch 3/50\n",
      "24/24 [==============================] - 3s 107ms/step - loss: 0.6395 - accuracy: 0.8530\n",
      "Epoch 4/50\n",
      "24/24 [==============================] - 2s 103ms/step - loss: 0.5378 - accuracy: 0.8729\n",
      "Epoch 5/50\n",
      "24/24 [==============================] - 3s 105ms/step - loss: 0.4759 - accuracy: 0.8882\n",
      "Epoch 6/50\n",
      "24/24 [==============================] - 3s 105ms/step - loss: 0.4337 - accuracy: 0.8969\n",
      "Epoch 7/50\n",
      "24/24 [==============================] - 3s 108ms/step - loss: 0.4069 - accuracy: 0.9016\n",
      "Epoch 8/50\n",
      "24/24 [==============================] - 3s 108ms/step - loss: 0.3774 - accuracy: 0.9101\n",
      "Epoch 9/50\n",
      "24/24 [==============================] - 3s 111ms/step - loss: 0.3595 - accuracy: 0.9136\n",
      "Epoch 10/50\n",
      "24/24 [==============================] - 3s 113ms/step - loss: 0.3505 - accuracy: 0.9132\n",
      "Epoch 11/50\n",
      "24/24 [==============================] - 3s 118ms/step - loss: 0.3295 - accuracy: 0.9194\n",
      "Epoch 12/50\n",
      "24/24 [==============================] - 3s 112ms/step - loss: 0.3217 - accuracy: 0.9213\n",
      "Epoch 13/50\n",
      "24/24 [==============================] - 3s 115ms/step - loss: 0.3069 - accuracy: 0.9251\n",
      "Epoch 14/50\n",
      "24/24 [==============================] - 3s 115ms/step - loss: 0.2993 - accuracy: 0.9264\n",
      "Epoch 15/50\n",
      "24/24 [==============================] - 3s 113ms/step - loss: 0.2864 - accuracy: 0.9303\n",
      "Epoch 16/50\n",
      "24/24 [==============================] - 3s 114ms/step - loss: 0.2804 - accuracy: 0.9313\n",
      "Epoch 17/50\n",
      "24/24 [==============================] - 3s 115ms/step - loss: 0.2752 - accuracy: 0.9326\n",
      "Epoch 18/50\n",
      "24/24 [==============================] - 3s 115ms/step - loss: 0.2639 - accuracy: 0.9368\n",
      "Epoch 19/50\n",
      "24/24 [==============================] - 3s 123ms/step - loss: 0.2605 - accuracy: 0.9372\n",
      "Epoch 20/50\n",
      "24/24 [==============================] - 3s 120ms/step - loss: 0.2542 - accuracy: 0.9380\n",
      "Epoch 21/50\n",
      "24/24 [==============================] - 3s 118ms/step - loss: 0.2486 - accuracy: 0.9389\n",
      "Epoch 22/50\n",
      "24/24 [==============================] - 3s 115ms/step - loss: 0.2416 - accuracy: 0.9417\n",
      "Epoch 23/50\n",
      "24/24 [==============================] - 3s 136ms/step - loss: 0.2380 - accuracy: 0.9429\n",
      "Epoch 24/50\n",
      "24/24 [==============================] - 3s 130ms/step - loss: 0.2343 - accuracy: 0.9438\n",
      "Epoch 25/50\n",
      "24/24 [==============================] - 3s 121ms/step - loss: 0.2259 - accuracy: 0.9452\n",
      "Epoch 26/50\n",
      "24/24 [==============================] - 3s 126ms/step - loss: 0.2249 - accuracy: 0.9462\n",
      "Epoch 27/50\n",
      "24/24 [==============================] - 3s 124ms/step - loss: 0.2166 - accuracy: 0.9495\n",
      "Epoch 28/50\n",
      "24/24 [==============================] - 3s 122ms/step - loss: 0.2190 - accuracy: 0.9471\n",
      "Epoch 29/50\n",
      "24/24 [==============================] - 3s 119ms/step - loss: 0.2116 - accuracy: 0.9500\n",
      "Epoch 30/50\n",
      "24/24 [==============================] - 3s 122ms/step - loss: 0.2099 - accuracy: 0.9506\n",
      "Epoch 31/50\n",
      "24/24 [==============================] - 3s 120ms/step - loss: 0.2069 - accuracy: 0.9515\n",
      "Epoch 32/50\n",
      "24/24 [==============================] - 3s 122ms/step - loss: 0.2023 - accuracy: 0.9518\n",
      "Epoch 33/50\n",
      "24/24 [==============================] - 3s 120ms/step - loss: 0.2026 - accuracy: 0.9524\n",
      "Epoch 34/50\n",
      "24/24 [==============================] - 3s 120ms/step - loss: 0.1982 - accuracy: 0.9537\n",
      "Epoch 35/50\n",
      "24/24 [==============================] - 3s 121ms/step - loss: 0.1942 - accuracy: 0.9548\n",
      "Epoch 36/50\n",
      "24/24 [==============================] - 3s 131ms/step - loss: 0.1926 - accuracy: 0.9548\n",
      "Epoch 37/50\n",
      "24/24 [==============================] - 3s 125ms/step - loss: 0.1886 - accuracy: 0.9568\n",
      "Epoch 38/50\n",
      "24/24 [==============================] - 3s 126ms/step - loss: 0.1847 - accuracy: 0.9569\n",
      "Epoch 39/50\n",
      "24/24 [==============================] - 3s 125ms/step - loss: 0.1884 - accuracy: 0.9566\n",
      "Epoch 40/50\n",
      "24/24 [==============================] - 3s 133ms/step - loss: 0.1804 - accuracy: 0.9581\n",
      "Epoch 41/50\n",
      "24/24 [==============================] - 3s 129ms/step - loss: 0.1802 - accuracy: 0.9583\n",
      "Epoch 42/50\n",
      "24/24 [==============================] - 3s 128ms/step - loss: 0.1764 - accuracy: 0.9603\n",
      "Epoch 43/50\n",
      "24/24 [==============================] - 3s 134ms/step - loss: 0.1770 - accuracy: 0.9595\n",
      "Epoch 44/50\n",
      "24/24 [==============================] - 3s 126ms/step - loss: 0.1751 - accuracy: 0.9594\n",
      "Epoch 45/50\n",
      "24/24 [==============================] - 3s 130ms/step - loss: 0.1710 - accuracy: 0.9615\n",
      "Epoch 46/50\n",
      "24/24 [==============================] - 3s 127ms/step - loss: 0.1716 - accuracy: 0.9611\n",
      "Epoch 47/50\n",
      "24/24 [==============================] - 3s 122ms/step - loss: 0.1670 - accuracy: 0.9615\n",
      "Epoch 48/50\n",
      "24/24 [==============================] - 3s 122ms/step - loss: 0.1685 - accuracy: 0.9619\n",
      "Epoch 49/50\n",
      "24/24 [==============================] - 3s 130ms/step - loss: 0.1649 - accuracy: 0.9618\n",
      "Epoch 50/50\n",
      "24/24 [==============================] - 3s 132ms/step - loss: 0.1596 - accuracy: 0.9644\n"
     ]
    }
   ],
   "source": [
    "result = model.fit(X_train, T_train_categorical, epochs=50, batch_size=2048)"
   ]
  },
  {
   "cell_type": "code",
   "execution_count": 26,
   "metadata": {},
   "outputs": [],
   "source": [
    "Y = model.predict(X_test)"
   ]
  },
  {
   "cell_type": "code",
   "execution_count": 29,
   "metadata": {},
   "outputs": [
    {
     "data": {
      "text/plain": [
       "array([[1.52302533e-01, 4.80275281e-04, 6.09685958e-04, ...,\n",
       "        2.67367018e-03, 4.51271571e-02, 5.87715360e-04],\n",
       "       [3.74705088e-03, 1.44235848e-04, 5.80261039e-05, ...,\n",
       "        3.59948346e-04, 3.31798289e-03, 7.51927262e-04],\n",
       "       [3.85159743e-03, 1.66881233e-02, 1.37822982e-02, ...,\n",
       "        9.94801521e-02, 1.61492899e-01, 4.85246807e-01],\n",
       "       ...,\n",
       "       [8.69743340e-03, 1.45162921e-03, 1.79429054e-01, ...,\n",
       "        5.27679440e-05, 7.44910969e-04, 4.63412507e-05],\n",
       "       [2.01323332e-04, 1.18519438e-05, 9.99192417e-01, ...,\n",
       "        7.91683703e-07, 8.70356453e-05, 2.71775207e-06],\n",
       "       [1.55302296e-05, 1.00152665e-05, 6.34006923e-04, ...,\n",
       "        2.24087373e-04, 3.00386397e-04, 2.13214196e-03]], dtype=float32)"
      ]
     },
     "execution_count": 29,
     "metadata": {},
     "output_type": "execute_result"
    }
   ],
   "source": [
    "Y"
   ]
  },
  {
   "cell_type": "code",
   "execution_count": 22,
   "metadata": {},
   "outputs": [
    {
     "data": {
      "text/plain": [
       "array([5, 5, 9, ..., 6, 2, 4])"
      ]
     },
     "execution_count": 22,
     "metadata": {},
     "output_type": "execute_result"
    }
   ],
   "source": [
    "np.argmax(Y, axis=-1)"
   ]
  },
  {
   "cell_type": "code",
   "execution_count": 23,
   "metadata": {},
   "outputs": [],
   "source": [
    "Y = np.argmax(Y, axis=-1)"
   ]
  },
  {
   "cell_type": "code",
   "execution_count": 24,
   "metadata": {},
   "outputs": [],
   "source": [
    "score = accuracy_score(Y, T_test)"
   ]
  },
  {
   "cell_type": "code",
   "execution_count": 25,
   "metadata": {
    "scrolled": true
   },
   "outputs": [
    {
     "data": {
      "text/plain": [
       "0.9301428571428572"
      ]
     },
     "execution_count": 25,
     "metadata": {},
     "output_type": "execute_result"
    }
   ],
   "source": [
    "score"
   ]
  },
  {
   "cell_type": "code",
   "execution_count": 30,
   "metadata": {},
   "outputs": [
    {
     "name": "stdout",
     "output_type": "stream",
     "text": [
      "657/657 [==============================] - 3s 4ms/step - loss: 0.2464 - accuracy: 0.9301\n"
     ]
    }
   ],
   "source": [
    "T_test_onehot = to_categorical(T_test)\n",
    "loss, accuracy = model.evaluate(X_test, T_test_onehot)"
   ]
  },
  {
   "cell_type": "code",
   "execution_count": null,
   "metadata": {},
   "outputs": [],
   "source": []
  }
 ],
 "metadata": {
  "kernelspec": {
   "display_name": "Python 3",
   "language": "python",
   "name": "python3"
  },
  "language_info": {
   "codemirror_mode": {
    "name": "ipython",
    "version": 3
   },
   "file_extension": ".py",
   "mimetype": "text/x-python",
   "name": "python",
   "nbconvert_exporter": "python",
   "pygments_lexer": "ipython3",
   "version": "3.7.8"
  }
 },
 "nbformat": 4,
 "nbformat_minor": 4
}
