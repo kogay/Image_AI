{
 "cells": [
  {
   "cell_type": "code",
   "execution_count": 28,
   "metadata": {},
   "outputs": [],
   "source": [
    "import pandas as pd\n",
    "import numpy as np\n",
    "from sklearn.model_selection import cross_val_score\n",
    "from sklearn.model_selection import GridSearchCV\n",
    "from sklearn.model_selection import train_test_split\n",
    "from sklearn.metrics import accuracy_score\n",
    "from sklearn.ensemble import RandomForestClassifier as RFC"
   ]
  },
  {
   "cell_type": "code",
   "execution_count": 2,
   "metadata": {},
   "outputs": [
    {
     "name": "stdout",
     "output_type": "stream",
     "text": [
      "<class 'pandas.core.frame.DataFrame'>\n",
      "RangeIndex: 891 entries, 0 to 890\n",
      "Data columns (total 12 columns):\n",
      " #   Column       Non-Null Count  Dtype  \n",
      "---  ------       --------------  -----  \n",
      " 0   PassengerId  891 non-null    int64  \n",
      " 1   Survived     891 non-null    int64  \n",
      " 2   Pclass       891 non-null    int64  \n",
      " 3   Name         891 non-null    object \n",
      " 4   Sex          891 non-null    object \n",
      " 5   Age          714 non-null    float64\n",
      " 6   SibSp        891 non-null    int64  \n",
      " 7   Parch        891 non-null    int64  \n",
      " 8   Ticket       891 non-null    object \n",
      " 9   Fare         891 non-null    float64\n",
      " 10  Cabin        204 non-null    object \n",
      " 11  Embarked     889 non-null    object \n",
      "dtypes: float64(2), int64(5), object(5)\n",
      "memory usage: 83.7+ KB\n"
     ]
    }
   ],
   "source": [
    "df = pd.read_csv('train.csv')\n",
    "df.info()"
   ]
  },
  {
   "cell_type": "code",
   "execution_count": 3,
   "metadata": {},
   "outputs": [
    {
     "data": {
      "text/plain": [
       "array(['male', 'female'], dtype=object)"
      ]
     },
     "execution_count": 3,
     "metadata": {},
     "output_type": "execute_result"
    }
   ],
   "source": [
    "df['Sex'].unique()"
   ]
  },
  {
   "cell_type": "code",
   "execution_count": 4,
   "metadata": {},
   "outputs": [],
   "source": [
    "data = df.copy()\n",
    "data['Sex'] = data['Sex'].map({'male':0, 'female':1})"
   ]
  },
  {
   "cell_type": "code",
   "execution_count": 7,
   "metadata": {},
   "outputs": [],
   "source": [
    "dataset = data[['Pclass','Sex']]\n",
    "label = data['Survived']"
   ]
  },
  {
   "cell_type": "code",
   "execution_count": 8,
   "metadata": {},
   "outputs": [],
   "source": [
    "train_d, test_d, train_l, test_l = train_test_split(dataset, label, test_size=0.3)"
   ]
  },
  {
   "cell_type": "code",
   "execution_count": 11,
   "metadata": {},
   "outputs": [
    {
     "ename": "AttributeError",
     "evalue": "'GridSearchCV' object has no attribute 'results_'",
     "output_type": "error",
     "traceback": [
      "\u001b[0;31m---------------------------------------------------------------------------\u001b[0m",
      "\u001b[0;31mAttributeError\u001b[0m                            Traceback (most recent call last)",
      "\u001b[0;32m<ipython-input-11-819032693dbe>\u001b[0m in \u001b[0;36m<module>\u001b[0;34m\u001b[0m\n\u001b[1;32m      2\u001b[0m \u001b[0mclf\u001b[0m \u001b[0;34m=\u001b[0m \u001b[0mGridSearchCV\u001b[0m\u001b[0;34m(\u001b[0m\u001b[0mRFC\u001b[0m\u001b[0;34m(\u001b[0m\u001b[0;34m)\u001b[0m\u001b[0;34m,\u001b[0m \u001b[0mparam_grid\u001b[0m\u001b[0;34m,\u001b[0m \u001b[0mcv\u001b[0m\u001b[0;34m=\u001b[0m\u001b[0;36m4\u001b[0m\u001b[0;34m)\u001b[0m\u001b[0;34m\u001b[0m\u001b[0;34m\u001b[0m\u001b[0m\n\u001b[1;32m      3\u001b[0m \u001b[0mclf\u001b[0m\u001b[0;34m.\u001b[0m\u001b[0mfit\u001b[0m\u001b[0;34m(\u001b[0m\u001b[0mtrain_d\u001b[0m\u001b[0;34m,\u001b[0m \u001b[0mtrain_l\u001b[0m\u001b[0;34m)\u001b[0m\u001b[0;34m\u001b[0m\u001b[0;34m\u001b[0m\u001b[0m\n\u001b[0;32m----> 4\u001b[0;31m \u001b[0mm_score\u001b[0m \u001b[0;34m=\u001b[0m \u001b[0mclf\u001b[0m\u001b[0;34m.\u001b[0m\u001b[0mresults_\u001b[0m\u001b[0;34m.\u001b[0m\u001b[0mmean_score_\u001b[0m\u001b[0;34m\u001b[0m\u001b[0;34m\u001b[0m\u001b[0m\n\u001b[0m\u001b[1;32m      5\u001b[0m \u001b[0;34m\u001b[0m\u001b[0m\n\u001b[1;32m      6\u001b[0m \u001b[0mprint\u001b[0m\u001b[0;34m(\u001b[0m\u001b[0;34mf\"Mean score: {m_score}\"\u001b[0m\u001b[0;34m)\u001b[0m\u001b[0;34m\u001b[0m\u001b[0;34m\u001b[0m\u001b[0m\n",
      "\u001b[0;31mAttributeError\u001b[0m: 'GridSearchCV' object has no attribute 'results_'"
     ]
    }
   ],
   "source": [
    "param_grid = {'n_estimators':[1,5,10,20,40], 'max_features':[1,2,'auto'], 'max_depth':[2,4,8,16,None], 'min_samples_split':[2,4,8], 'random_state':[0]}\n",
    "clf = GridSearchCV(RFC(), param_grid, cv=4)\n",
    "clf.fit(train_d, train_l)\n",
    "m_score = clf.results_.mean_score_\n",
    "\n",
    "print(f\"Mean score: {m_score}\")"
   ]
  },
  {
   "cell_type": "code",
   "execution_count": 26,
   "metadata": {},
   "outputs": [
    {
     "name": "stdout",
     "output_type": "stream",
     "text": [
      "Mean score: 0.7928970223325061\t\t{'max_depth': 2, 'max_features': 1, 'min_samples_split': 2, 'n_estimators': 1, 'random_state': 0}\n",
      "Mean score: 0.7928970223325061\t\t{'max_depth': 2, 'max_features': 1, 'min_samples_split': 2, 'n_estimators': 5, 'random_state': 0}\n",
      "Mean score: 0.791294458229942\t\t{'max_depth': 2, 'max_features': 1, 'min_samples_split': 2, 'n_estimators': 10, 'random_state': 0}\n",
      "Mean score: 0.791294458229942\t\t{'max_depth': 2, 'max_features': 1, 'min_samples_split': 2, 'n_estimators': 20, 'random_state': 0}\n",
      "Mean score: 0.791294458229942\t\t{'max_depth': 2, 'max_features': 1, 'min_samples_split': 2, 'n_estimators': 40, 'random_state': 0}\n",
      "Mean score: 0.7928970223325061\t\t{'max_depth': 2, 'max_features': 1, 'min_samples_split': 4, 'n_estimators': 1, 'random_state': 0}\n",
      "Mean score: 0.7928970223325061\t\t{'max_depth': 2, 'max_features': 1, 'min_samples_split': 4, 'n_estimators': 5, 'random_state': 0}\n",
      "Mean score: 0.791294458229942\t\t{'max_depth': 2, 'max_features': 1, 'min_samples_split': 4, 'n_estimators': 10, 'random_state': 0}\n",
      "Mean score: 0.791294458229942\t\t{'max_depth': 2, 'max_features': 1, 'min_samples_split': 4, 'n_estimators': 20, 'random_state': 0}\n",
      "Mean score: 0.791294458229942\t\t{'max_depth': 2, 'max_features': 1, 'min_samples_split': 4, 'n_estimators': 40, 'random_state': 0}\n",
      "Mean score: 0.7928970223325061\t\t{'max_depth': 2, 'max_features': 1, 'min_samples_split': 8, 'n_estimators': 1, 'random_state': 0}\n",
      "Mean score: 0.7928970223325061\t\t{'max_depth': 2, 'max_features': 1, 'min_samples_split': 8, 'n_estimators': 5, 'random_state': 0}\n",
      "Mean score: 0.791294458229942\t\t{'max_depth': 2, 'max_features': 1, 'min_samples_split': 8, 'n_estimators': 10, 'random_state': 0}\n",
      "Mean score: 0.791294458229942\t\t{'max_depth': 2, 'max_features': 1, 'min_samples_split': 8, 'n_estimators': 20, 'random_state': 0}\n",
      "Mean score: 0.791294458229942\t\t{'max_depth': 2, 'max_features': 1, 'min_samples_split': 8, 'n_estimators': 40, 'random_state': 0}\n",
      "Mean score: 0.7928970223325061\t\t{'max_depth': 2, 'max_features': 2, 'min_samples_split': 2, 'n_estimators': 1, 'random_state': 0}\n",
      "Mean score: 0.7928970223325061\t\t{'max_depth': 2, 'max_features': 2, 'min_samples_split': 2, 'n_estimators': 5, 'random_state': 0}\n",
      "Mean score: 0.791294458229942\t\t{'max_depth': 2, 'max_features': 2, 'min_samples_split': 2, 'n_estimators': 10, 'random_state': 0}\n",
      "Mean score: 0.7977253928866832\t\t{'max_depth': 2, 'max_features': 2, 'min_samples_split': 2, 'n_estimators': 20, 'random_state': 0}\n",
      "Mean score: 0.791294458229942\t\t{'max_depth': 2, 'max_features': 2, 'min_samples_split': 2, 'n_estimators': 40, 'random_state': 0}\n",
      "Mean score: 0.7928970223325061\t\t{'max_depth': 2, 'max_features': 2, 'min_samples_split': 4, 'n_estimators': 1, 'random_state': 0}\n",
      "Mean score: 0.7928970223325061\t\t{'max_depth': 2, 'max_features': 2, 'min_samples_split': 4, 'n_estimators': 5, 'random_state': 0}\n",
      "Mean score: 0.791294458229942\t\t{'max_depth': 2, 'max_features': 2, 'min_samples_split': 4, 'n_estimators': 10, 'random_state': 0}\n",
      "Mean score: 0.7977253928866832\t\t{'max_depth': 2, 'max_features': 2, 'min_samples_split': 4, 'n_estimators': 20, 'random_state': 0}\n",
      "Mean score: 0.791294458229942\t\t{'max_depth': 2, 'max_features': 2, 'min_samples_split': 4, 'n_estimators': 40, 'random_state': 0}\n",
      "Mean score: 0.7928970223325061\t\t{'max_depth': 2, 'max_features': 2, 'min_samples_split': 8, 'n_estimators': 1, 'random_state': 0}\n",
      "Mean score: 0.7928970223325061\t\t{'max_depth': 2, 'max_features': 2, 'min_samples_split': 8, 'n_estimators': 5, 'random_state': 0}\n",
      "Mean score: 0.791294458229942\t\t{'max_depth': 2, 'max_features': 2, 'min_samples_split': 8, 'n_estimators': 10, 'random_state': 0}\n",
      "Mean score: 0.7977253928866832\t\t{'max_depth': 2, 'max_features': 2, 'min_samples_split': 8, 'n_estimators': 20, 'random_state': 0}\n",
      "Mean score: 0.791294458229942\t\t{'max_depth': 2, 'max_features': 2, 'min_samples_split': 8, 'n_estimators': 40, 'random_state': 0}\n",
      "Mean score: 0.7928970223325061\t\t{'max_depth': 2, 'max_features': 'auto', 'min_samples_split': 2, 'n_estimators': 1, 'random_state': 0}\n",
      "Mean score: 0.7928970223325061\t\t{'max_depth': 2, 'max_features': 'auto', 'min_samples_split': 2, 'n_estimators': 5, 'random_state': 0}\n",
      "Mean score: 0.791294458229942\t\t{'max_depth': 2, 'max_features': 'auto', 'min_samples_split': 2, 'n_estimators': 10, 'random_state': 0}\n",
      "Mean score: 0.791294458229942\t\t{'max_depth': 2, 'max_features': 'auto', 'min_samples_split': 2, 'n_estimators': 20, 'random_state': 0}\n",
      "Mean score: 0.791294458229942\t\t{'max_depth': 2, 'max_features': 'auto', 'min_samples_split': 2, 'n_estimators': 40, 'random_state': 0}\n",
      "Mean score: 0.7928970223325061\t\t{'max_depth': 2, 'max_features': 'auto', 'min_samples_split': 4, 'n_estimators': 1, 'random_state': 0}\n",
      "Mean score: 0.7928970223325061\t\t{'max_depth': 2, 'max_features': 'auto', 'min_samples_split': 4, 'n_estimators': 5, 'random_state': 0}\n",
      "Mean score: 0.791294458229942\t\t{'max_depth': 2, 'max_features': 'auto', 'min_samples_split': 4, 'n_estimators': 10, 'random_state': 0}\n",
      "Mean score: 0.791294458229942\t\t{'max_depth': 2, 'max_features': 'auto', 'min_samples_split': 4, 'n_estimators': 20, 'random_state': 0}\n",
      "Mean score: 0.791294458229942\t\t{'max_depth': 2, 'max_features': 'auto', 'min_samples_split': 4, 'n_estimators': 40, 'random_state': 0}\n",
      "Mean score: 0.7928970223325061\t\t{'max_depth': 2, 'max_features': 'auto', 'min_samples_split': 8, 'n_estimators': 1, 'random_state': 0}\n",
      "Mean score: 0.7928970223325061\t\t{'max_depth': 2, 'max_features': 'auto', 'min_samples_split': 8, 'n_estimators': 5, 'random_state': 0}\n",
      "Mean score: 0.791294458229942\t\t{'max_depth': 2, 'max_features': 'auto', 'min_samples_split': 8, 'n_estimators': 10, 'random_state': 0}\n",
      "Mean score: 0.791294458229942\t\t{'max_depth': 2, 'max_features': 'auto', 'min_samples_split': 8, 'n_estimators': 20, 'random_state': 0}\n",
      "Mean score: 0.791294458229942\t\t{'max_depth': 2, 'max_features': 'auto', 'min_samples_split': 8, 'n_estimators': 40, 'random_state': 0}\n",
      "Mean score: 0.7928970223325061\t\t{'max_depth': 4, 'max_features': 1, 'min_samples_split': 2, 'n_estimators': 1, 'random_state': 0}\n",
      "Mean score: 0.7928970223325061\t\t{'max_depth': 4, 'max_features': 1, 'min_samples_split': 2, 'n_estimators': 5, 'random_state': 0}\n",
      "Mean score: 0.791294458229942\t\t{'max_depth': 4, 'max_features': 1, 'min_samples_split': 2, 'n_estimators': 10, 'random_state': 0}\n",
      "Mean score: 0.7977253928866832\t\t{'max_depth': 4, 'max_features': 1, 'min_samples_split': 2, 'n_estimators': 20, 'random_state': 0}\n",
      "Mean score: 0.791294458229942\t\t{'max_depth': 4, 'max_features': 1, 'min_samples_split': 2, 'n_estimators': 40, 'random_state': 0}\n",
      "Mean score: 0.7928970223325061\t\t{'max_depth': 4, 'max_features': 1, 'min_samples_split': 4, 'n_estimators': 1, 'random_state': 0}\n",
      "Mean score: 0.7928970223325061\t\t{'max_depth': 4, 'max_features': 1, 'min_samples_split': 4, 'n_estimators': 5, 'random_state': 0}\n",
      "Mean score: 0.791294458229942\t\t{'max_depth': 4, 'max_features': 1, 'min_samples_split': 4, 'n_estimators': 10, 'random_state': 0}\n",
      "Mean score: 0.7977253928866832\t\t{'max_depth': 4, 'max_features': 1, 'min_samples_split': 4, 'n_estimators': 20, 'random_state': 0}\n",
      "Mean score: 0.791294458229942\t\t{'max_depth': 4, 'max_features': 1, 'min_samples_split': 4, 'n_estimators': 40, 'random_state': 0}\n",
      "Mean score: 0.7928970223325061\t\t{'max_depth': 4, 'max_features': 1, 'min_samples_split': 8, 'n_estimators': 1, 'random_state': 0}\n",
      "Mean score: 0.7928970223325061\t\t{'max_depth': 4, 'max_features': 1, 'min_samples_split': 8, 'n_estimators': 5, 'random_state': 0}\n",
      "Mean score: 0.791294458229942\t\t{'max_depth': 4, 'max_features': 1, 'min_samples_split': 8, 'n_estimators': 10, 'random_state': 0}\n",
      "Mean score: 0.7977253928866832\t\t{'max_depth': 4, 'max_features': 1, 'min_samples_split': 8, 'n_estimators': 20, 'random_state': 0}\n",
      "Mean score: 0.791294458229942\t\t{'max_depth': 4, 'max_features': 1, 'min_samples_split': 8, 'n_estimators': 40, 'random_state': 0}\n",
      "Mean score: 0.7928970223325061\t\t{'max_depth': 4, 'max_features': 2, 'min_samples_split': 2, 'n_estimators': 1, 'random_state': 0}\n",
      "Mean score: 0.7928970223325061\t\t{'max_depth': 4, 'max_features': 2, 'min_samples_split': 2, 'n_estimators': 5, 'random_state': 0}\n",
      "Mean score: 0.791294458229942\t\t{'max_depth': 4, 'max_features': 2, 'min_samples_split': 2, 'n_estimators': 10, 'random_state': 0}\n",
      "Mean score: 0.7977253928866832\t\t{'max_depth': 4, 'max_features': 2, 'min_samples_split': 2, 'n_estimators': 20, 'random_state': 0}\n",
      "Mean score: 0.791294458229942\t\t{'max_depth': 4, 'max_features': 2, 'min_samples_split': 2, 'n_estimators': 40, 'random_state': 0}\n",
      "Mean score: 0.7928970223325061\t\t{'max_depth': 4, 'max_features': 2, 'min_samples_split': 4, 'n_estimators': 1, 'random_state': 0}\n",
      "Mean score: 0.7928970223325061\t\t{'max_depth': 4, 'max_features': 2, 'min_samples_split': 4, 'n_estimators': 5, 'random_state': 0}\n",
      "Mean score: 0.791294458229942\t\t{'max_depth': 4, 'max_features': 2, 'min_samples_split': 4, 'n_estimators': 10, 'random_state': 0}\n",
      "Mean score: 0.7977253928866832\t\t{'max_depth': 4, 'max_features': 2, 'min_samples_split': 4, 'n_estimators': 20, 'random_state': 0}\n",
      "Mean score: 0.791294458229942\t\t{'max_depth': 4, 'max_features': 2, 'min_samples_split': 4, 'n_estimators': 40, 'random_state': 0}\n",
      "Mean score: 0.7928970223325061\t\t{'max_depth': 4, 'max_features': 2, 'min_samples_split': 8, 'n_estimators': 1, 'random_state': 0}\n",
      "Mean score: 0.7928970223325061\t\t{'max_depth': 4, 'max_features': 2, 'min_samples_split': 8, 'n_estimators': 5, 'random_state': 0}\n",
      "Mean score: 0.791294458229942\t\t{'max_depth': 4, 'max_features': 2, 'min_samples_split': 8, 'n_estimators': 10, 'random_state': 0}\n",
      "Mean score: 0.7977253928866832\t\t{'max_depth': 4, 'max_features': 2, 'min_samples_split': 8, 'n_estimators': 20, 'random_state': 0}\n",
      "Mean score: 0.791294458229942\t\t{'max_depth': 4, 'max_features': 2, 'min_samples_split': 8, 'n_estimators': 40, 'random_state': 0}\n",
      "Mean score: 0.7928970223325061\t\t{'max_depth': 4, 'max_features': 'auto', 'min_samples_split': 2, 'n_estimators': 1, 'random_state': 0}\n",
      "Mean score: 0.7928970223325061\t\t{'max_depth': 4, 'max_features': 'auto', 'min_samples_split': 2, 'n_estimators': 5, 'random_state': 0}\n",
      "Mean score: 0.791294458229942\t\t{'max_depth': 4, 'max_features': 'auto', 'min_samples_split': 2, 'n_estimators': 10, 'random_state': 0}\n",
      "Mean score: 0.7977253928866832\t\t{'max_depth': 4, 'max_features': 'auto', 'min_samples_split': 2, 'n_estimators': 20, 'random_state': 0}\n",
      "Mean score: 0.791294458229942\t\t{'max_depth': 4, 'max_features': 'auto', 'min_samples_split': 2, 'n_estimators': 40, 'random_state': 0}\n",
      "Mean score: 0.7928970223325061\t\t{'max_depth': 4, 'max_features': 'auto', 'min_samples_split': 4, 'n_estimators': 1, 'random_state': 0}\n",
      "Mean score: 0.7928970223325061\t\t{'max_depth': 4, 'max_features': 'auto', 'min_samples_split': 4, 'n_estimators': 5, 'random_state': 0}\n",
      "Mean score: 0.791294458229942\t\t{'max_depth': 4, 'max_features': 'auto', 'min_samples_split': 4, 'n_estimators': 10, 'random_state': 0}\n",
      "Mean score: 0.7977253928866832\t\t{'max_depth': 4, 'max_features': 'auto', 'min_samples_split': 4, 'n_estimators': 20, 'random_state': 0}\n",
      "Mean score: 0.791294458229942\t\t{'max_depth': 4, 'max_features': 'auto', 'min_samples_split': 4, 'n_estimators': 40, 'random_state': 0}\n",
      "Mean score: 0.7928970223325061\t\t{'max_depth': 4, 'max_features': 'auto', 'min_samples_split': 8, 'n_estimators': 1, 'random_state': 0}\n",
      "Mean score: 0.7928970223325061\t\t{'max_depth': 4, 'max_features': 'auto', 'min_samples_split': 8, 'n_estimators': 5, 'random_state': 0}\n",
      "Mean score: 0.791294458229942\t\t{'max_depth': 4, 'max_features': 'auto', 'min_samples_split': 8, 'n_estimators': 10, 'random_state': 0}\n",
      "Mean score: 0.7977253928866832\t\t{'max_depth': 4, 'max_features': 'auto', 'min_samples_split': 8, 'n_estimators': 20, 'random_state': 0}\n",
      "Mean score: 0.791294458229942\t\t{'max_depth': 4, 'max_features': 'auto', 'min_samples_split': 8, 'n_estimators': 40, 'random_state': 0}\n",
      "Mean score: 0.7928970223325061\t\t{'max_depth': 8, 'max_features': 1, 'min_samples_split': 2, 'n_estimators': 1, 'random_state': 0}\n",
      "Mean score: 0.7928970223325061\t\t{'max_depth': 8, 'max_features': 1, 'min_samples_split': 2, 'n_estimators': 5, 'random_state': 0}\n",
      "Mean score: 0.791294458229942\t\t{'max_depth': 8, 'max_features': 1, 'min_samples_split': 2, 'n_estimators': 10, 'random_state': 0}\n",
      "Mean score: 0.7977253928866832\t\t{'max_depth': 8, 'max_features': 1, 'min_samples_split': 2, 'n_estimators': 20, 'random_state': 0}\n",
      "Mean score: 0.791294458229942\t\t{'max_depth': 8, 'max_features': 1, 'min_samples_split': 2, 'n_estimators': 40, 'random_state': 0}\n",
      "Mean score: 0.7928970223325061\t\t{'max_depth': 8, 'max_features': 1, 'min_samples_split': 4, 'n_estimators': 1, 'random_state': 0}\n",
      "Mean score: 0.7928970223325061\t\t{'max_depth': 8, 'max_features': 1, 'min_samples_split': 4, 'n_estimators': 5, 'random_state': 0}\n",
      "Mean score: 0.791294458229942\t\t{'max_depth': 8, 'max_features': 1, 'min_samples_split': 4, 'n_estimators': 10, 'random_state': 0}\n",
      "Mean score: 0.7977253928866832\t\t{'max_depth': 8, 'max_features': 1, 'min_samples_split': 4, 'n_estimators': 20, 'random_state': 0}\n",
      "Mean score: 0.791294458229942\t\t{'max_depth': 8, 'max_features': 1, 'min_samples_split': 4, 'n_estimators': 40, 'random_state': 0}\n",
      "Mean score: 0.7928970223325061\t\t{'max_depth': 8, 'max_features': 1, 'min_samples_split': 8, 'n_estimators': 1, 'random_state': 0}\n",
      "Mean score: 0.7928970223325061\t\t{'max_depth': 8, 'max_features': 1, 'min_samples_split': 8, 'n_estimators': 5, 'random_state': 0}\n",
      "Mean score: 0.791294458229942\t\t{'max_depth': 8, 'max_features': 1, 'min_samples_split': 8, 'n_estimators': 10, 'random_state': 0}\n",
      "Mean score: 0.7977253928866832\t\t{'max_depth': 8, 'max_features': 1, 'min_samples_split': 8, 'n_estimators': 20, 'random_state': 0}\n",
      "Mean score: 0.791294458229942\t\t{'max_depth': 8, 'max_features': 1, 'min_samples_split': 8, 'n_estimators': 40, 'random_state': 0}\n",
      "Mean score: 0.7928970223325061\t\t{'max_depth': 8, 'max_features': 2, 'min_samples_split': 2, 'n_estimators': 1, 'random_state': 0}\n",
      "Mean score: 0.7928970223325061\t\t{'max_depth': 8, 'max_features': 2, 'min_samples_split': 2, 'n_estimators': 5, 'random_state': 0}\n",
      "Mean score: 0.791294458229942\t\t{'max_depth': 8, 'max_features': 2, 'min_samples_split': 2, 'n_estimators': 10, 'random_state': 0}\n",
      "Mean score: 0.7977253928866832\t\t{'max_depth': 8, 'max_features': 2, 'min_samples_split': 2, 'n_estimators': 20, 'random_state': 0}\n",
      "Mean score: 0.791294458229942\t\t{'max_depth': 8, 'max_features': 2, 'min_samples_split': 2, 'n_estimators': 40, 'random_state': 0}\n",
      "Mean score: 0.7928970223325061\t\t{'max_depth': 8, 'max_features': 2, 'min_samples_split': 4, 'n_estimators': 1, 'random_state': 0}\n",
      "Mean score: 0.7928970223325061\t\t{'max_depth': 8, 'max_features': 2, 'min_samples_split': 4, 'n_estimators': 5, 'random_state': 0}\n",
      "Mean score: 0.791294458229942\t\t{'max_depth': 8, 'max_features': 2, 'min_samples_split': 4, 'n_estimators': 10, 'random_state': 0}\n",
      "Mean score: 0.7977253928866832\t\t{'max_depth': 8, 'max_features': 2, 'min_samples_split': 4, 'n_estimators': 20, 'random_state': 0}\n",
      "Mean score: 0.791294458229942\t\t{'max_depth': 8, 'max_features': 2, 'min_samples_split': 4, 'n_estimators': 40, 'random_state': 0}\n",
      "Mean score: 0.7928970223325061\t\t{'max_depth': 8, 'max_features': 2, 'min_samples_split': 8, 'n_estimators': 1, 'random_state': 0}\n",
      "Mean score: 0.7928970223325061\t\t{'max_depth': 8, 'max_features': 2, 'min_samples_split': 8, 'n_estimators': 5, 'random_state': 0}\n",
      "Mean score: 0.791294458229942\t\t{'max_depth': 8, 'max_features': 2, 'min_samples_split': 8, 'n_estimators': 10, 'random_state': 0}\n",
      "Mean score: 0.7977253928866832\t\t{'max_depth': 8, 'max_features': 2, 'min_samples_split': 8, 'n_estimators': 20, 'random_state': 0}\n",
      "Mean score: 0.791294458229942\t\t{'max_depth': 8, 'max_features': 2, 'min_samples_split': 8, 'n_estimators': 40, 'random_state': 0}\n",
      "Mean score: 0.7928970223325061\t\t{'max_depth': 8, 'max_features': 'auto', 'min_samples_split': 2, 'n_estimators': 1, 'random_state': 0}\n",
      "Mean score: 0.7928970223325061\t\t{'max_depth': 8, 'max_features': 'auto', 'min_samples_split': 2, 'n_estimators': 5, 'random_state': 0}\n",
      "Mean score: 0.791294458229942\t\t{'max_depth': 8, 'max_features': 'auto', 'min_samples_split': 2, 'n_estimators': 10, 'random_state': 0}\n",
      "Mean score: 0.7977253928866832\t\t{'max_depth': 8, 'max_features': 'auto', 'min_samples_split': 2, 'n_estimators': 20, 'random_state': 0}\n",
      "Mean score: 0.791294458229942\t\t{'max_depth': 8, 'max_features': 'auto', 'min_samples_split': 2, 'n_estimators': 40, 'random_state': 0}\n",
      "Mean score: 0.7928970223325061\t\t{'max_depth': 8, 'max_features': 'auto', 'min_samples_split': 4, 'n_estimators': 1, 'random_state': 0}\n",
      "Mean score: 0.7928970223325061\t\t{'max_depth': 8, 'max_features': 'auto', 'min_samples_split': 4, 'n_estimators': 5, 'random_state': 0}\n",
      "Mean score: 0.791294458229942\t\t{'max_depth': 8, 'max_features': 'auto', 'min_samples_split': 4, 'n_estimators': 10, 'random_state': 0}\n",
      "Mean score: 0.7977253928866832\t\t{'max_depth': 8, 'max_features': 'auto', 'min_samples_split': 4, 'n_estimators': 20, 'random_state': 0}\n",
      "Mean score: 0.791294458229942\t\t{'max_depth': 8, 'max_features': 'auto', 'min_samples_split': 4, 'n_estimators': 40, 'random_state': 0}\n",
      "Mean score: 0.7928970223325061\t\t{'max_depth': 8, 'max_features': 'auto', 'min_samples_split': 8, 'n_estimators': 1, 'random_state': 0}\n",
      "Mean score: 0.7928970223325061\t\t{'max_depth': 8, 'max_features': 'auto', 'min_samples_split': 8, 'n_estimators': 5, 'random_state': 0}\n",
      "Mean score: 0.791294458229942\t\t{'max_depth': 8, 'max_features': 'auto', 'min_samples_split': 8, 'n_estimators': 10, 'random_state': 0}\n",
      "Mean score: 0.7977253928866832\t\t{'max_depth': 8, 'max_features': 'auto', 'min_samples_split': 8, 'n_estimators': 20, 'random_state': 0}\n",
      "Mean score: 0.791294458229942\t\t{'max_depth': 8, 'max_features': 'auto', 'min_samples_split': 8, 'n_estimators': 40, 'random_state': 0}\n",
      "Mean score: 0.7928970223325061\t\t{'max_depth': 16, 'max_features': 1, 'min_samples_split': 2, 'n_estimators': 1, 'random_state': 0}\n",
      "Mean score: 0.7928970223325061\t\t{'max_depth': 16, 'max_features': 1, 'min_samples_split': 2, 'n_estimators': 5, 'random_state': 0}\n",
      "Mean score: 0.791294458229942\t\t{'max_depth': 16, 'max_features': 1, 'min_samples_split': 2, 'n_estimators': 10, 'random_state': 0}\n",
      "Mean score: 0.7977253928866832\t\t{'max_depth': 16, 'max_features': 1, 'min_samples_split': 2, 'n_estimators': 20, 'random_state': 0}\n",
      "Mean score: 0.791294458229942\t\t{'max_depth': 16, 'max_features': 1, 'min_samples_split': 2, 'n_estimators': 40, 'random_state': 0}\n",
      "Mean score: 0.7928970223325061\t\t{'max_depth': 16, 'max_features': 1, 'min_samples_split': 4, 'n_estimators': 1, 'random_state': 0}\n",
      "Mean score: 0.7928970223325061\t\t{'max_depth': 16, 'max_features': 1, 'min_samples_split': 4, 'n_estimators': 5, 'random_state': 0}\n",
      "Mean score: 0.791294458229942\t\t{'max_depth': 16, 'max_features': 1, 'min_samples_split': 4, 'n_estimators': 10, 'random_state': 0}\n",
      "Mean score: 0.7977253928866832\t\t{'max_depth': 16, 'max_features': 1, 'min_samples_split': 4, 'n_estimators': 20, 'random_state': 0}\n",
      "Mean score: 0.791294458229942\t\t{'max_depth': 16, 'max_features': 1, 'min_samples_split': 4, 'n_estimators': 40, 'random_state': 0}\n",
      "Mean score: 0.7928970223325061\t\t{'max_depth': 16, 'max_features': 1, 'min_samples_split': 8, 'n_estimators': 1, 'random_state': 0}\n",
      "Mean score: 0.7928970223325061\t\t{'max_depth': 16, 'max_features': 1, 'min_samples_split': 8, 'n_estimators': 5, 'random_state': 0}\n",
      "Mean score: 0.791294458229942\t\t{'max_depth': 16, 'max_features': 1, 'min_samples_split': 8, 'n_estimators': 10, 'random_state': 0}\n",
      "Mean score: 0.7977253928866832\t\t{'max_depth': 16, 'max_features': 1, 'min_samples_split': 8, 'n_estimators': 20, 'random_state': 0}\n",
      "Mean score: 0.791294458229942\t\t{'max_depth': 16, 'max_features': 1, 'min_samples_split': 8, 'n_estimators': 40, 'random_state': 0}\n",
      "Mean score: 0.7928970223325061\t\t{'max_depth': 16, 'max_features': 2, 'min_samples_split': 2, 'n_estimators': 1, 'random_state': 0}\n",
      "Mean score: 0.7928970223325061\t\t{'max_depth': 16, 'max_features': 2, 'min_samples_split': 2, 'n_estimators': 5, 'random_state': 0}\n",
      "Mean score: 0.791294458229942\t\t{'max_depth': 16, 'max_features': 2, 'min_samples_split': 2, 'n_estimators': 10, 'random_state': 0}\n",
      "Mean score: 0.7977253928866832\t\t{'max_depth': 16, 'max_features': 2, 'min_samples_split': 2, 'n_estimators': 20, 'random_state': 0}\n",
      "Mean score: 0.791294458229942\t\t{'max_depth': 16, 'max_features': 2, 'min_samples_split': 2, 'n_estimators': 40, 'random_state': 0}\n",
      "Mean score: 0.7928970223325061\t\t{'max_depth': 16, 'max_features': 2, 'min_samples_split': 4, 'n_estimators': 1, 'random_state': 0}\n",
      "Mean score: 0.7928970223325061\t\t{'max_depth': 16, 'max_features': 2, 'min_samples_split': 4, 'n_estimators': 5, 'random_state': 0}\n",
      "Mean score: 0.791294458229942\t\t{'max_depth': 16, 'max_features': 2, 'min_samples_split': 4, 'n_estimators': 10, 'random_state': 0}\n",
      "Mean score: 0.7977253928866832\t\t{'max_depth': 16, 'max_features': 2, 'min_samples_split': 4, 'n_estimators': 20, 'random_state': 0}\n",
      "Mean score: 0.791294458229942\t\t{'max_depth': 16, 'max_features': 2, 'min_samples_split': 4, 'n_estimators': 40, 'random_state': 0}\n",
      "Mean score: 0.7928970223325061\t\t{'max_depth': 16, 'max_features': 2, 'min_samples_split': 8, 'n_estimators': 1, 'random_state': 0}\n",
      "Mean score: 0.7928970223325061\t\t{'max_depth': 16, 'max_features': 2, 'min_samples_split': 8, 'n_estimators': 5, 'random_state': 0}\n",
      "Mean score: 0.791294458229942\t\t{'max_depth': 16, 'max_features': 2, 'min_samples_split': 8, 'n_estimators': 10, 'random_state': 0}\n",
      "Mean score: 0.7977253928866832\t\t{'max_depth': 16, 'max_features': 2, 'min_samples_split': 8, 'n_estimators': 20, 'random_state': 0}\n",
      "Mean score: 0.791294458229942\t\t{'max_depth': 16, 'max_features': 2, 'min_samples_split': 8, 'n_estimators': 40, 'random_state': 0}\n",
      "Mean score: 0.7928970223325061\t\t{'max_depth': 16, 'max_features': 'auto', 'min_samples_split': 2, 'n_estimators': 1, 'random_state': 0}\n",
      "Mean score: 0.7928970223325061\t\t{'max_depth': 16, 'max_features': 'auto', 'min_samples_split': 2, 'n_estimators': 5, 'random_state': 0}\n",
      "Mean score: 0.791294458229942\t\t{'max_depth': 16, 'max_features': 'auto', 'min_samples_split': 2, 'n_estimators': 10, 'random_state': 0}\n",
      "Mean score: 0.7977253928866832\t\t{'max_depth': 16, 'max_features': 'auto', 'min_samples_split': 2, 'n_estimators': 20, 'random_state': 0}\n",
      "Mean score: 0.791294458229942\t\t{'max_depth': 16, 'max_features': 'auto', 'min_samples_split': 2, 'n_estimators': 40, 'random_state': 0}\n",
      "Mean score: 0.7928970223325061\t\t{'max_depth': 16, 'max_features': 'auto', 'min_samples_split': 4, 'n_estimators': 1, 'random_state': 0}\n",
      "Mean score: 0.7928970223325061\t\t{'max_depth': 16, 'max_features': 'auto', 'min_samples_split': 4, 'n_estimators': 5, 'random_state': 0}\n",
      "Mean score: 0.791294458229942\t\t{'max_depth': 16, 'max_features': 'auto', 'min_samples_split': 4, 'n_estimators': 10, 'random_state': 0}\n",
      "Mean score: 0.7977253928866832\t\t{'max_depth': 16, 'max_features': 'auto', 'min_samples_split': 4, 'n_estimators': 20, 'random_state': 0}\n",
      "Mean score: 0.791294458229942\t\t{'max_depth': 16, 'max_features': 'auto', 'min_samples_split': 4, 'n_estimators': 40, 'random_state': 0}\n",
      "Mean score: 0.7928970223325061\t\t{'max_depth': 16, 'max_features': 'auto', 'min_samples_split': 8, 'n_estimators': 1, 'random_state': 0}\n",
      "Mean score: 0.7928970223325061\t\t{'max_depth': 16, 'max_features': 'auto', 'min_samples_split': 8, 'n_estimators': 5, 'random_state': 0}\n",
      "Mean score: 0.791294458229942\t\t{'max_depth': 16, 'max_features': 'auto', 'min_samples_split': 8, 'n_estimators': 10, 'random_state': 0}\n",
      "Mean score: 0.7977253928866832\t\t{'max_depth': 16, 'max_features': 'auto', 'min_samples_split': 8, 'n_estimators': 20, 'random_state': 0}\n",
      "Mean score: 0.791294458229942\t\t{'max_depth': 16, 'max_features': 'auto', 'min_samples_split': 8, 'n_estimators': 40, 'random_state': 0}\n",
      "Mean score: 0.7928970223325061\t\t{'max_depth': None, 'max_features': 1, 'min_samples_split': 2, 'n_estimators': 1, 'random_state': 0}\n",
      "Mean score: 0.7928970223325061\t\t{'max_depth': None, 'max_features': 1, 'min_samples_split': 2, 'n_estimators': 5, 'random_state': 0}\n",
      "Mean score: 0.791294458229942\t\t{'max_depth': None, 'max_features': 1, 'min_samples_split': 2, 'n_estimators': 10, 'random_state': 0}\n",
      "Mean score: 0.7977253928866832\t\t{'max_depth': None, 'max_features': 1, 'min_samples_split': 2, 'n_estimators': 20, 'random_state': 0}\n",
      "Mean score: 0.791294458229942\t\t{'max_depth': None, 'max_features': 1, 'min_samples_split': 2, 'n_estimators': 40, 'random_state': 0}\n",
      "Mean score: 0.7928970223325061\t\t{'max_depth': None, 'max_features': 1, 'min_samples_split': 4, 'n_estimators': 1, 'random_state': 0}\n",
      "Mean score: 0.7928970223325061\t\t{'max_depth': None, 'max_features': 1, 'min_samples_split': 4, 'n_estimators': 5, 'random_state': 0}\n",
      "Mean score: 0.791294458229942\t\t{'max_depth': None, 'max_features': 1, 'min_samples_split': 4, 'n_estimators': 10, 'random_state': 0}\n",
      "Mean score: 0.7977253928866832\t\t{'max_depth': None, 'max_features': 1, 'min_samples_split': 4, 'n_estimators': 20, 'random_state': 0}\n",
      "Mean score: 0.791294458229942\t\t{'max_depth': None, 'max_features': 1, 'min_samples_split': 4, 'n_estimators': 40, 'random_state': 0}\n",
      "Mean score: 0.7928970223325061\t\t{'max_depth': None, 'max_features': 1, 'min_samples_split': 8, 'n_estimators': 1, 'random_state': 0}\n",
      "Mean score: 0.7928970223325061\t\t{'max_depth': None, 'max_features': 1, 'min_samples_split': 8, 'n_estimators': 5, 'random_state': 0}\n",
      "Mean score: 0.791294458229942\t\t{'max_depth': None, 'max_features': 1, 'min_samples_split': 8, 'n_estimators': 10, 'random_state': 0}\n",
      "Mean score: 0.7977253928866832\t\t{'max_depth': None, 'max_features': 1, 'min_samples_split': 8, 'n_estimators': 20, 'random_state': 0}\n",
      "Mean score: 0.791294458229942\t\t{'max_depth': None, 'max_features': 1, 'min_samples_split': 8, 'n_estimators': 40, 'random_state': 0}\n",
      "Mean score: 0.7928970223325061\t\t{'max_depth': None, 'max_features': 2, 'min_samples_split': 2, 'n_estimators': 1, 'random_state': 0}\n",
      "Mean score: 0.7928970223325061\t\t{'max_depth': None, 'max_features': 2, 'min_samples_split': 2, 'n_estimators': 5, 'random_state': 0}\n",
      "Mean score: 0.791294458229942\t\t{'max_depth': None, 'max_features': 2, 'min_samples_split': 2, 'n_estimators': 10, 'random_state': 0}\n",
      "Mean score: 0.7977253928866832\t\t{'max_depth': None, 'max_features': 2, 'min_samples_split': 2, 'n_estimators': 20, 'random_state': 0}\n",
      "Mean score: 0.791294458229942\t\t{'max_depth': None, 'max_features': 2, 'min_samples_split': 2, 'n_estimators': 40, 'random_state': 0}\n",
      "Mean score: 0.7928970223325061\t\t{'max_depth': None, 'max_features': 2, 'min_samples_split': 4, 'n_estimators': 1, 'random_state': 0}\n",
      "Mean score: 0.7928970223325061\t\t{'max_depth': None, 'max_features': 2, 'min_samples_split': 4, 'n_estimators': 5, 'random_state': 0}\n",
      "Mean score: 0.791294458229942\t\t{'max_depth': None, 'max_features': 2, 'min_samples_split': 4, 'n_estimators': 10, 'random_state': 0}\n",
      "Mean score: 0.7977253928866832\t\t{'max_depth': None, 'max_features': 2, 'min_samples_split': 4, 'n_estimators': 20, 'random_state': 0}\n",
      "Mean score: 0.791294458229942\t\t{'max_depth': None, 'max_features': 2, 'min_samples_split': 4, 'n_estimators': 40, 'random_state': 0}\n",
      "Mean score: 0.7928970223325061\t\t{'max_depth': None, 'max_features': 2, 'min_samples_split': 8, 'n_estimators': 1, 'random_state': 0}\n",
      "Mean score: 0.7928970223325061\t\t{'max_depth': None, 'max_features': 2, 'min_samples_split': 8, 'n_estimators': 5, 'random_state': 0}\n",
      "Mean score: 0.791294458229942\t\t{'max_depth': None, 'max_features': 2, 'min_samples_split': 8, 'n_estimators': 10, 'random_state': 0}\n",
      "Mean score: 0.7977253928866832\t\t{'max_depth': None, 'max_features': 2, 'min_samples_split': 8, 'n_estimators': 20, 'random_state': 0}\n",
      "Mean score: 0.791294458229942\t\t{'max_depth': None, 'max_features': 2, 'min_samples_split': 8, 'n_estimators': 40, 'random_state': 0}\n",
      "Mean score: 0.7928970223325061\t\t{'max_depth': None, 'max_features': 'auto', 'min_samples_split': 2, 'n_estimators': 1, 'random_state': 0}\n",
      "Mean score: 0.7928970223325061\t\t{'max_depth': None, 'max_features': 'auto', 'min_samples_split': 2, 'n_estimators': 5, 'random_state': 0}\n",
      "Mean score: 0.791294458229942\t\t{'max_depth': None, 'max_features': 'auto', 'min_samples_split': 2, 'n_estimators': 10, 'random_state': 0}\n",
      "Mean score: 0.7977253928866832\t\t{'max_depth': None, 'max_features': 'auto', 'min_samples_split': 2, 'n_estimators': 20, 'random_state': 0}\n",
      "Mean score: 0.791294458229942\t\t{'max_depth': None, 'max_features': 'auto', 'min_samples_split': 2, 'n_estimators': 40, 'random_state': 0}\n",
      "Mean score: 0.7928970223325061\t\t{'max_depth': None, 'max_features': 'auto', 'min_samples_split': 4, 'n_estimators': 1, 'random_state': 0}\n",
      "Mean score: 0.7928970223325061\t\t{'max_depth': None, 'max_features': 'auto', 'min_samples_split': 4, 'n_estimators': 5, 'random_state': 0}\n",
      "Mean score: 0.791294458229942\t\t{'max_depth': None, 'max_features': 'auto', 'min_samples_split': 4, 'n_estimators': 10, 'random_state': 0}\n",
      "Mean score: 0.7977253928866832\t\t{'max_depth': None, 'max_features': 'auto', 'min_samples_split': 4, 'n_estimators': 20, 'random_state': 0}\n",
      "Mean score: 0.791294458229942\t\t{'max_depth': None, 'max_features': 'auto', 'min_samples_split': 4, 'n_estimators': 40, 'random_state': 0}\n",
      "Mean score: 0.7928970223325061\t\t{'max_depth': None, 'max_features': 'auto', 'min_samples_split': 8, 'n_estimators': 1, 'random_state': 0}\n",
      "Mean score: 0.7928970223325061\t\t{'max_depth': None, 'max_features': 'auto', 'min_samples_split': 8, 'n_estimators': 5, 'random_state': 0}\n",
      "Mean score: 0.791294458229942\t\t{'max_depth': None, 'max_features': 'auto', 'min_samples_split': 8, 'n_estimators': 10, 'random_state': 0}\n",
      "Mean score: 0.7977253928866832\t\t{'max_depth': None, 'max_features': 'auto', 'min_samples_split': 8, 'n_estimators': 20, 'random_state': 0}\n",
      "Mean score: 0.791294458229942\t\t{'max_depth': None, 'max_features': 'auto', 'min_samples_split': 8, 'n_estimators': 40, 'random_state': 0}\n"
     ]
    }
   ],
   "source": [
    "for i in np.arange(len(clf.cv_results_['mean_test_score'])):\n",
    "    print(f\"Mean score: {clf.cv_results_['mean_test_score'][i]}\\t\\t{clf.cv_results_['params'][i]}\")"
   ]
  },
  {
   "cell_type": "code",
   "execution_count": 12,
   "metadata": {},
   "outputs": [
    {
     "name": "stdout",
     "output_type": "stream",
     "text": [
      "Best score: 0.7977253928866832\n",
      "Best param: {'max_depth': 2, 'max_features': 2, 'min_samples_split': 2, 'n_estimators': 20, 'random_state': 0}\n"
     ]
    }
   ],
   "source": [
    "print(f\"Best score: {clf.best_score_}\\nBest param: {clf.best_params_}\")"
   ]
  },
  {
   "cell_type": "code",
   "execution_count": 27,
   "metadata": {},
   "outputs": [],
   "source": [
    "clf2 = RFC(n_estimators=20, max_depth=2, max_features=2, min_samples_split=2, random_state=0)\n",
    "clf2.fit(train_d, train_l)\n",
    "score = clf2.score(test_d, test_l)"
   ]
  },
  {
   "cell_type": "code",
   "execution_count": 29,
   "metadata": {},
   "outputs": [
    {
     "data": {
      "text/plain": [
       "array([0, 1, 0, 1, 0, 0, 1, 1, 0, 0, 1, 1, 0, 1, 0, 0, 0, 0, 0, 0, 0, 0,\n",
       "       0, 0, 0, 0, 0, 1, 0, 0, 0, 0, 0, 0, 1, 0, 0, 0, 1, 0, 1, 0, 0, 0,\n",
       "       0, 1, 0, 1, 0, 0, 0, 1, 0, 0, 0, 1, 0, 0, 0, 1, 0, 1, 0, 1, 0, 0,\n",
       "       0, 0, 0, 0, 0, 0, 1, 0, 1, 0, 0, 0, 1, 0, 0, 0, 0, 0, 0, 0, 1, 0,\n",
       "       0, 0, 0, 1, 0, 0, 0, 0, 0, 0, 0, 1, 0, 0, 0, 1, 0, 0, 0, 0, 0, 0,\n",
       "       0, 0, 0, 0, 0, 0, 0, 0, 1, 0, 0, 0, 1, 0, 0, 0, 0, 0, 1, 0, 0, 0,\n",
       "       0, 0, 0, 0, 0, 0, 1, 1, 1, 0, 0, 0, 0, 0, 0, 0, 0, 0, 0, 0, 0, 0,\n",
       "       0, 1, 0, 0, 0, 0, 0, 0, 0, 0, 1, 0, 1, 0, 0, 0, 1, 0, 1, 0, 0, 0,\n",
       "       0, 0, 1, 0, 0, 0, 0, 0, 0, 0, 0, 0, 0, 0, 0, 0, 0, 1, 0, 0, 0, 0,\n",
       "       1, 0, 0, 0, 0, 0, 0, 1, 0, 0, 0, 0, 0, 0, 0, 1, 0, 0, 0, 1, 1, 1,\n",
       "       0, 1, 1, 1, 0, 0, 0, 0, 0, 0, 0, 1, 0, 1, 0, 0, 0, 1, 0, 1, 0, 0,\n",
       "       0, 0, 0, 0, 0, 0, 0, 0, 0, 0, 0, 0, 0, 1, 0, 0, 0, 0, 0, 1, 1, 1,\n",
       "       0, 0, 0, 0])"
      ]
     },
     "execution_count": 29,
     "metadata": {},
     "output_type": "execute_result"
    }
   ],
   "source": [
    "prd = clf2.predict(test_d)\n",
    "prd"
   ]
  },
  {
   "cell_type": "code",
   "execution_count": 31,
   "metadata": {},
   "outputs": [],
   "source": [
    "prd_s = pd.Series(prd)"
   ]
  },
  {
   "cell_type": "markdown",
   "metadata": {},
   "source": [
    "正解ラベルのインデックスを初期化する"
   ]
  },
  {
   "cell_type": "code",
   "execution_count": 45,
   "metadata": {},
   "outputs": [],
   "source": [
    "ans = test_l.reset_index(drop=True)"
   ]
  },
  {
   "cell_type": "code",
   "execution_count": 46,
   "metadata": {},
   "outputs": [
    {
     "data": {
      "text/plain": [
       "0      0\n",
       "1      1\n",
       "2      1\n",
       "3      1\n",
       "4      0\n",
       "      ..\n",
       "263    1\n",
       "264    0\n",
       "265    1\n",
       "266    0\n",
       "267    0\n",
       "Name: Survived, Length: 268, dtype: int64"
      ]
     },
     "execution_count": 46,
     "metadata": {},
     "output_type": "execute_result"
    }
   ],
   "source": [
    "ans"
   ]
  },
  {
   "cell_type": "markdown",
   "metadata": {},
   "source": [
    "XORの否定をとる。正解=1 不正解=0"
   ]
  },
  {
   "cell_type": "code",
   "execution_count": 51,
   "metadata": {},
   "outputs": [
    {
     "data": {
      "text/plain": [
       "205"
      ]
     },
     "execution_count": 51,
     "metadata": {},
     "output_type": "execute_result"
    }
   ],
   "source": [
    "sum(prd_s^ans == 0)"
   ]
  },
  {
   "cell_type": "code",
   "execution_count": 39,
   "metadata": {},
   "outputs": [
    {
     "data": {
      "text/plain": [
       "268"
      ]
     },
     "execution_count": 39,
     "metadata": {},
     "output_type": "execute_result"
    }
   ],
   "source": [
    "prd_s.count()"
   ]
  },
  {
   "cell_type": "markdown",
   "metadata": {},
   "source": [
    "正解率：全予測データのうち正しい予測データの割合"
   ]
  },
  {
   "cell_type": "code",
   "execution_count": 59,
   "metadata": {},
   "outputs": [],
   "source": [
    "accuracy = sum(prd_s^ans == 0) / prd_s.count()"
   ]
  },
  {
   "cell_type": "markdown",
   "metadata": {},
   "source": [
    "精度：Survived=1と判定したデータのうち実際に1であるデータの割合"
   ]
  },
  {
   "cell_type": "code",
   "execution_count": 56,
   "metadata": {},
   "outputs": [],
   "source": [
    "precision = sum((prd_s == ans)&(prd_s == 1)) / sum(prd_s == 1)"
   ]
  },
  {
   "cell_type": "markdown",
   "metadata": {},
   "source": [
    "再現率（検出率）：Survived=1のデータのうち、1と判定したデータの割合"
   ]
  },
  {
   "cell_type": "code",
   "execution_count": 57,
   "metadata": {},
   "outputs": [],
   "source": [
    "recall = sum((prd_s == 1)&(ans == 1)) / sum(ans == 1)"
   ]
  },
  {
   "cell_type": "markdown",
   "metadata": {},
   "source": [
    "特異度：Survived=0と判定したデータのうち、実際は1であるデータの割合"
   ]
  },
  {
   "cell_type": "code",
   "execution_count": 58,
   "metadata": {},
   "outputs": [],
   "source": [
    "specificity = sum((prd_s == 0)&(ans == 1)) / sum(prd_s == 0)"
   ]
  },
  {
   "cell_type": "markdown",
   "metadata": {},
   "source": [
    "F値：再現率と精度はトレードオフの関係にある。F値はそれらの調和平均。"
   ]
  },
  {
   "cell_type": "code",
   "execution_count": 69,
   "metadata": {},
   "outputs": [],
   "source": [
    "f_measure = 2*precision*recall / (precision+recall)"
   ]
  },
  {
   "cell_type": "code",
   "execution_count": 70,
   "metadata": {},
   "outputs": [
    {
     "name": "stdout",
     "output_type": "stream",
     "text": [
      "正解率：\t0.765\n",
      "精度：\t\t0.945\n",
      "再現率：\t0.464\n",
      "特異度：\t0.282\n",
      "F値：\t\t0.623\n"
     ]
    }
   ],
   "source": [
    "print(f\"正解率：\\t{accuracy:.3f}\\n精度：\\t\\t{precision:.3f}\\n再現率：\\t{recall:.3f}\\n特異度：\\t{specificity:.3f}\\nF値：\\t\\t{f_measure:.3f}\")"
   ]
  },
  {
   "cell_type": "code",
   "execution_count": null,
   "metadata": {},
   "outputs": [],
   "source": []
  }
 ],
 "metadata": {
  "kernelspec": {
   "display_name": "Python 3",
   "language": "python",
   "name": "python3"
  },
  "language_info": {
   "codemirror_mode": {
    "name": "ipython",
    "version": 3
   },
   "file_extension": ".py",
   "mimetype": "text/x-python",
   "name": "python",
   "nbconvert_exporter": "python",
   "pygments_lexer": "ipython3",
   "version": "3.7.8"
  }
 },
 "nbformat": 4,
 "nbformat_minor": 4
}
