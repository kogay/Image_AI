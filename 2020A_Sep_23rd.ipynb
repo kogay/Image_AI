{
 "cells": [
  {
   "cell_type": "markdown",
   "metadata": {},
   "source": [
    "# グリッドサーチ with 交差検証"
   ]
  },
  {
   "cell_type": "markdown",
   "metadata": {},
   "source": [
    "---"
   ]
  },
  {
   "cell_type": "code",
   "execution_count": 1,
   "metadata": {},
   "outputs": [],
   "source": [
    "import pandas as pd\n",
    "from sklearn.model_selection import train_test_split\n",
    "from sklearn.model_selection import cross_val_score\n",
    "from sklearn.svm import SVC"
   ]
  },
  {
   "cell_type": "markdown",
   "metadata": {},
   "source": [
    "- wine 読んでデータとラベルに分けて学習用とテスト用に分ける"
   ]
  },
  {
   "cell_type": "code",
   "execution_count": 2,
   "metadata": {},
   "outputs": [],
   "source": [
    "df = pd.read_csv('wine.csv')"
   ]
  },
  {
   "cell_type": "code",
   "execution_count": 3,
   "metadata": {},
   "outputs": [],
   "source": [
    "data = df.drop('label',axis=1)\n",
    "label = df['label']\n",
    "\n",
    "data_train,data_test,label_train,label_test=train_test_split(data,label,test_size=0.3,random_state=0)"
   ]
  },
  {
   "cell_type": "markdown",
   "metadata": {},
   "source": [
    "- SVM のパラメータ C と gamma の候補をリストアップする\n",
    "> すみません、ちょっといろいろ試して、あたりをつけました・・・"
   ]
  },
  {
   "cell_type": "code",
   "execution_count": 4,
   "metadata": {},
   "outputs": [],
   "source": [
    "C = [1e2,1e3,1e4,1e5,1e6]\n",
    "G = [1e-9,1e-8,1e-7,1e-6,1e-5]"
   ]
  },
  {
   "cell_type": "markdown",
   "metadata": {},
   "source": [
    "- 上のパラメータで総当たり（グリッドサーチ）に交差検証して良さげなのを見つける\n",
    "> この時、当然ながら学習用データを使う"
   ]
  },
  {
   "cell_type": "code",
   "execution_count": 14,
   "metadata": {
    "scrolled": true
   },
   "outputs": [
    {
     "name": "stdout",
     "output_type": "stream",
     "text": [
      "C: 100.0 \tgamma: 1e-09 \tscore: 0.6523333333333332\n",
      "C: 100.0 \tgamma: 1e-08 \tscore: 0.6523333333333332\n",
      "C: 100.0 \tgamma: 1e-07 \tscore: 0.6773333333333333\n",
      "C: 100.0 \tgamma: 1e-06 \tscore: 0.7093333333333333\n",
      "C: 100.0 \tgamma: 1e-05 \tscore: 0.8140000000000001\n",
      "C: 1000.0 \tgamma: 1e-09 \tscore: 0.6523333333333332\n",
      "C: 1000.0 \tgamma: 1e-08 \tscore: 0.6766666666666667\n",
      "C: 1000.0 \tgamma: 1e-07 \tscore: 0.734\n",
      "C: 1000.0 \tgamma: 1e-06 \tscore: 0.8143333333333332\n",
      "C: 1000.0 \tgamma: 1e-05 \tscore: 0.8943333333333333\n",
      "C: 10000.0 \tgamma: 1e-09 \tscore: 0.6766666666666667\n",
      "C: 10000.0 \tgamma: 1e-08 \tscore: 0.6693333333333333\n",
      "C: 10000.0 \tgamma: 1e-07 \tscore: 0.8546666666666667\n",
      "C: 10000.0 \tgamma: 1e-06 \tscore: 0.9106666666666665\n",
      "C: 10000.0 \tgamma: 1e-05 \tscore: 0.9269999999999999\n",
      "C: 100000.0 \tgamma: 1e-09 \tscore: 0.6853333333333333\n",
      "C: 100000.0 \tgamma: 1e-08 \tscore: 0.8386666666666667\n",
      "C: 100000.0 \tgamma: 1e-07 \tscore: 0.9349999999999999\n",
      "C: 100000.0 \tgamma: 1e-06 \tscore: 0.9269999999999999\n",
      "C: 100000.0 \tgamma: 1e-05 \tscore: 0.9269999999999999\n",
      "C: 1000000.0 \tgamma: 1e-09 \tscore: 0.8063333333333335\n",
      "C: 1000000.0 \tgamma: 1e-08 \tscore: 0.9106666666666665\n",
      "C: 1000000.0 \tgamma: 1e-07 \tscore: 0.9516666666666665\n",
      "C: 1000000.0 \tgamma: 1e-06 \tscore: 0.9433333333333334\n",
      "C: 1000000.0 \tgamma: 1e-05 \tscore: 0.9269999999999999\n"
     ]
    }
   ],
   "source": [
    "for c in C:\n",
    "    for g in G:\n",
    "        clf = SVC(C=c,gamma=g)\n",
    "        score=cross_val_score(clf,data_train,label_train,cv=5)\n",
    "        print('C:',c,'\\tgamma:',g,'\\tscore:',score.mean())\n",
    "        "
   ]
  },
  {
   "cell_type": "markdown",
   "metadata": {},
   "source": [
    "- 良さげなのを３つくらい見繕ってみる\n",
    "> (1) C: 1000000.0 \tgamma: 1e-07 \tscore: 0.9516666666666665<br>(2) C: 1000000.0 \tgamma: 1e-06 \tscore: 0.9433333333333334<br>(3) C: 100000.0 \tgamma: 1e-07 \tscore: 0.9349999999999999"
   ]
  },
  {
   "cell_type": "markdown",
   "metadata": {},
   "source": [
    "- 良さげな３つで分類器作ってみる"
   ]
  },
  {
   "cell_type": "code",
   "execution_count": 10,
   "metadata": {},
   "outputs": [],
   "source": [
    "clf1 = SVC(C=1e6,gamma=1e-7)\n",
    "clf2 = SVC(C=1e6,gamma=1e-6)\n",
    "clf3 = SVC(C=1e5,gamma=1e-7)"
   ]
  },
  {
   "cell_type": "markdown",
   "metadata": {},
   "source": [
    "- これらをそれぞれ「学習用データ」で学習し「テストデータ」で正解率みます\n",
    "- パラメータの選定にも学習にも「テストデータ」は使ってないので、フェアな評価になりますね :-)"
   ]
  },
  {
   "cell_type": "code",
   "execution_count": 11,
   "metadata": {},
   "outputs": [],
   "source": [
    "clf1.fit(data_train,label_train)\n",
    "score1 = clf1.score(data_test,label_test)\n",
    "\n",
    "clf2.fit(data_train,label_train)\n",
    "score2 = clf2.score(data_test,label_test)\n",
    "\n",
    "clf3.fit(data_train,label_train)\n",
    "score3 = clf3.score(data_test,label_test)"
   ]
  },
  {
   "cell_type": "code",
   "execution_count": 12,
   "metadata": {},
   "outputs": [
    {
     "name": "stdout",
     "output_type": "stream",
     "text": [
      "(1) C: 1e6\tgamma 1e-07 \tscore 1.0\n",
      "(2) C: 1e6\tgamma 1e-06 \tscore 0.9629629629629629\n",
      "(3) C: 1e5\tgamma 1e-07 \tscore 0.9629629629629629\n"
     ]
    }
   ],
   "source": [
    "print('(1) C: 1e6\\tgamma',1e-7,'\\tscore',score1)\n",
    "print('(2) C: 1e6\\tgamma',1e-6,'\\tscore',score2)\n",
    "print('(3) C: 1e5\\tgamma',1e-7,'\\tscore',score3)"
   ]
  },
  {
   "cell_type": "markdown",
   "metadata": {},
   "source": [
    "- テストデータって何個ある？"
   ]
  },
  {
   "cell_type": "code",
   "execution_count": 13,
   "metadata": {},
   "outputs": [
    {
     "data": {
      "text/plain": [
       "54"
      ]
     },
     "execution_count": 13,
     "metadata": {},
     "output_type": "execute_result"
    }
   ],
   "source": [
    "data_test.count()[0]"
   ]
  },
  {
   "cell_type": "markdown",
   "metadata": {},
   "source": [
    "### （1）は全問正解、それ以外は２個間違ってるもよう\n",
    "> (54-2)/54 = 0.9629629629629629\n",
    "- まあ、いい感じにSVMのパラメータ選べたんじゃないか？\n",
    "- この５つからさらに絞り込むとか、工夫の余地はまだありそうな気がする"
   ]
  }
 ],
 "metadata": {
  "kernelspec": {
   "display_name": "Python 3",
   "language": "python",
   "name": "python3"
  },
  "language_info": {
   "codemirror_mode": {
    "name": "ipython",
    "version": 3
   },
   "file_extension": ".py",
   "mimetype": "text/x-python",
   "name": "python",
   "nbconvert_exporter": "python",
   "pygments_lexer": "ipython3",
   "version": "3.7.6"
  }
 },
 "nbformat": 4,
 "nbformat_minor": 4
}
